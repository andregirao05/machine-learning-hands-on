{
  "cells": [
    {
      "cell_type": "markdown",
      "metadata": {
        "id": "view-in-github",
        "colab_type": "text"
      },
      "source": [
        "<a href=\"https://colab.research.google.com/github/andregirao05/machine-learning-hands-on/blob/main/02_Modelos_Introdut%C3%B3rios.ipynb\" target=\"_parent\"><img src=\"https://colab.research.google.com/assets/colab-badge.svg\" alt=\"Open In Colab\"/></a>"
      ]
    },
    {
      "cell_type": "markdown",
      "id": "8fb9d76e",
      "metadata": {
        "id": "8fb9d76e"
      },
      "source": [
        "# Atividade 2 — Modelos Introdutórios"
      ]
    },
    {
      "cell_type": "markdown",
      "id": "40b4cc49",
      "metadata": {
        "id": "40b4cc49"
      },
      "source": [
        "**Índice**\n",
        "\n",
        "  - [Parte 1: Uma Base Fácil](#Parte-1:-Uma-Base-Fácil)\n",
        "    - [Conhecendo a base](#Conhecendo-a-base)\n",
        "    - [Descrição da base](#Descrição-da-base)\n",
        "    - [Comparando classificadores](#Comparando-classificadores)\n",
        "  - [Parte 2: Uma Nova Base](#Parte-2:-Uma-Nova-Base)\n",
        "    - [Particionamento](#Particionamento)\n",
        "    - [Ajuste de hiperparâmetros da árvore de decisão](#Ajuste-de-hiperparâmetros-da-árvore-de-decisão)\n",
        "  - [Parte 3: Sua Vez](#Parte-3:-Sua-Vez)\n",
        "  - [Parte 4: Teste Final](#Parte-4:-Teste-Final)\n",
        "  - [Parte Final: Entrega](#Parte-Final:-Entrega)"
      ]
    },
    {
      "cell_type": "code",
      "execution_count": null,
      "id": "d9189cd0",
      "metadata": {
        "id": "d9189cd0"
      },
      "outputs": [],
      "source": [
        "import numpy as np\n",
        "import pandas as pd\n",
        "import seaborn as sns\n",
        "import matplotlib.pyplot as plt\n",
        "\n",
        "from sklearn.tree import DecisionTreeClassifier\n",
        "from sklearn.neighbors import KNeighborsClassifier\n",
        "\n",
        "from sklearn.metrics import accuracy_score\n",
        "\n",
        "from sklearn.model_selection import train_test_split\n",
        "\n",
        "from sklearn.datasets import load_iris, load_breast_cancer\n",
        "\n",
        "sns.set()"
      ]
    },
    {
      "cell_type": "code",
      "execution_count": null,
      "id": "uEziC8SM-Vcd",
      "metadata": {
        "colab": {
          "base_uri": "https://localhost:8080/"
        },
        "id": "uEziC8SM-Vcd",
        "outputId": "c5a4de38-6b3a-4d72-f02f-ced76c17be04"
      },
      "outputs": [
        {
          "output_type": "stream",
          "name": "stdout",
          "text": [
            "Drive already mounted at /content/drive; to attempt to forcibly remount, call drive.mount(\"/content/drive\", force_remount=True).\n"
          ]
        }
      ],
      "source": [
        "from google.colab import drive\n",
        "drive.mount('/content/drive')"
      ]
    },
    {
      "cell_type": "markdown",
      "id": "6fc3ad89",
      "metadata": {
        "id": "6fc3ad89"
      },
      "source": [
        "## Parte 1: Uma Base Fácil"
      ]
    },
    {
      "cell_type": "markdown",
      "id": "3bbac5f6",
      "metadata": {
        "id": "3bbac5f6"
      },
      "source": [
        "### Conhecendo a base"
      ]
    },
    {
      "cell_type": "markdown",
      "id": "31cec5ba",
      "metadata": {
        "id": "31cec5ba"
      },
      "source": [
        "A base `Iris` é uma base *toy* e bem fácil de classificar.\n",
        "\n",
        "O termo \"fácil\" pode significar várias coisas. Neste caso, a base `Iris` é fácil porque, embora a base possua quatro atributos de entrada e exemplos em três classes, quase todos os exemplos podem ser classificados por um separador linear usando apenas dois atributos."
      ]
    },
    {
      "cell_type": "markdown",
      "id": "c56fe2a2",
      "metadata": {
        "id": "c56fe2a2"
      },
      "source": [
        "Desta vez vamos carregar a base `Iris` com a biblioteca `sklearn`."
      ]
    },
    {
      "cell_type": "code",
      "execution_count": null,
      "id": "17f24fbc",
      "metadata": {
        "id": "17f24fbc"
      },
      "outputs": [],
      "source": [
        "from sklearn.datasets import load_iris"
      ]
    },
    {
      "cell_type": "markdown",
      "id": "55adce95",
      "metadata": {
        "id": "55adce95"
      },
      "source": [
        "> **Carregue** a base `Iris` usando a função `load_iris`."
      ]
    },
    {
      "cell_type": "code",
      "execution_count": null,
      "id": "ac2be1ca",
      "metadata": {
        "id": "ac2be1ca"
      },
      "outputs": [],
      "source": [
        "iris = load_iris()"
      ]
    },
    {
      "cell_type": "markdown",
      "id": "1f553bc1",
      "metadata": {
        "id": "1f553bc1"
      },
      "source": [
        "O `sklearn` tem um tipo chamado `Bunch` que guarda os dados na forma de tensores (do NumPy) e adiciona algumas metainformações relevantes."
      ]
    },
    {
      "cell_type": "code",
      "execution_count": null,
      "id": "06dea92f",
      "metadata": {
        "colab": {
          "base_uri": "https://localhost:8080/",
          "height": 187
        },
        "id": "06dea92f",
        "outputId": "1d8a06a0-aada-4d34-abb2-ac25b7a7b596"
      },
      "outputs": [
        {
          "output_type": "execute_result",
          "data": {
            "text/plain": [
              "sklearn.utils._bunch.Bunch"
            ],
            "text/html": [
              "<div style=\"max-width:800px; border: 1px solid var(--colab-border-color);\"><style>\n",
              "      pre.function-repr-contents {\n",
              "        overflow-x: auto;\n",
              "        padding: 8px 12px;\n",
              "        max-height: 500px;\n",
              "      }\n",
              "\n",
              "      pre.function-repr-contents.function-repr-contents-collapsed {\n",
              "        cursor: pointer;\n",
              "        max-height: 100px;\n",
              "      }\n",
              "    </style>\n",
              "    <pre style=\"white-space: initial; background:\n",
              "         var(--colab-secondary-surface-color); padding: 8px 12px;\n",
              "         border-bottom: 1px solid var(--colab-border-color);\"><b>sklearn.utils._bunch.Bunch</b><br/>def __init__(**kwargs)</pre><pre class=\"function-repr-contents function-repr-contents-collapsed\" style=\"\"><a class=\"filepath\" style=\"display:none\" href=\"#\">/usr/local/lib/python3.10/dist-packages/sklearn/utils/_bunch.py</a>Container object exposing keys as attributes.\n",
              "\n",
              "Bunch objects are sometimes used as an output for functions and methods.\n",
              "They extend dictionaries by enabling values to be accessed by key,\n",
              "`bunch[&quot;value_key&quot;]`, or by an attribute, `bunch.value_key`.\n",
              "\n",
              "Examples\n",
              "--------\n",
              "&gt;&gt;&gt; from sklearn.utils import Bunch\n",
              "&gt;&gt;&gt; b = Bunch(a=1, b=2)\n",
              "&gt;&gt;&gt; b[&#x27;b&#x27;]\n",
              "2\n",
              "&gt;&gt;&gt; b.b\n",
              "2\n",
              "&gt;&gt;&gt; b.a = 3\n",
              "&gt;&gt;&gt; b[&#x27;a&#x27;]\n",
              "3\n",
              "&gt;&gt;&gt; b.c = 6\n",
              "&gt;&gt;&gt; b[&#x27;c&#x27;]\n",
              "6</pre>\n",
              "      <script>\n",
              "      if (google.colab.kernel.accessAllowed && google.colab.files && google.colab.files.view) {\n",
              "        for (const element of document.querySelectorAll('.filepath')) {\n",
              "          element.style.display = 'block'\n",
              "          element.onclick = (event) => {\n",
              "            event.preventDefault();\n",
              "            event.stopPropagation();\n",
              "            google.colab.files.view(element.textContent, 1);\n",
              "          };\n",
              "        }\n",
              "      }\n",
              "      for (const element of document.querySelectorAll('.function-repr-contents')) {\n",
              "        element.onclick = (event) => {\n",
              "          event.preventDefault();\n",
              "          event.stopPropagation();\n",
              "          element.classList.toggle('function-repr-contents-collapsed');\n",
              "        };\n",
              "      }\n",
              "      </script>\n",
              "      </div>"
            ]
          },
          "metadata": {},
          "execution_count": 7
        }
      ],
      "source": [
        "type(iris)"
      ]
    },
    {
      "cell_type": "markdown",
      "id": "adb190ec",
      "metadata": {
        "id": "adb190ec"
      },
      "source": [
        "A função `dir` expõe o conteúdo desse objeto."
      ]
    },
    {
      "cell_type": "code",
      "execution_count": null,
      "id": "89af95e8",
      "metadata": {
        "colab": {
          "base_uri": "https://localhost:8080/"
        },
        "id": "89af95e8",
        "outputId": "cf1d6da8-51a6-4f3c-dc0b-a2148329f007"
      },
      "outputs": [
        {
          "output_type": "execute_result",
          "data": {
            "text/plain": [
              "['DESCR',\n",
              " 'data',\n",
              " 'data_module',\n",
              " 'feature_names',\n",
              " 'filename',\n",
              " 'frame',\n",
              " 'target',\n",
              " 'target_names']"
            ]
          },
          "metadata": {},
          "execution_count": 8
        }
      ],
      "source": [
        "dir(iris)"
      ]
    },
    {
      "cell_type": "markdown",
      "id": "68d262f8",
      "metadata": {
        "id": "68d262f8"
      },
      "source": [
        "Os atributos de entrada encontram-se na propriedade `.data`."
      ]
    },
    {
      "cell_type": "code",
      "execution_count": null,
      "id": "483380c9",
      "metadata": {
        "colab": {
          "base_uri": "https://localhost:8080/"
        },
        "id": "483380c9",
        "outputId": "aa3f81fd-fbfe-4bad-b0ba-6611d0994bbe"
      },
      "outputs": [
        {
          "output_type": "execute_result",
          "data": {
            "text/plain": [
              "numpy.ndarray"
            ]
          },
          "metadata": {},
          "execution_count": 9
        }
      ],
      "source": [
        "type(iris.data)"
      ]
    },
    {
      "cell_type": "markdown",
      "id": "e9f51f27",
      "metadata": {
        "id": "e9f51f27"
      },
      "source": [
        "Os atributos de saída encontram-se na propriedade `.target`."
      ]
    },
    {
      "cell_type": "code",
      "execution_count": null,
      "id": "043a9f58",
      "metadata": {
        "colab": {
          "base_uri": "https://localhost:8080/"
        },
        "id": "043a9f58",
        "outputId": "a6b88f84-cb62-4a7c-bb3b-64d6cb88dc7a"
      },
      "outputs": [
        {
          "output_type": "execute_result",
          "data": {
            "text/plain": [
              "numpy.ndarray"
            ]
          },
          "metadata": {},
          "execution_count": 10
        }
      ],
      "source": [
        "type(iris.target)"
      ]
    },
    {
      "cell_type": "markdown",
      "id": "8070f741",
      "metadata": {
        "id": "8070f741"
      },
      "source": [
        "No `Bunch`, os rótulos já são numéricos:"
      ]
    },
    {
      "cell_type": "code",
      "execution_count": null,
      "id": "b5e0138e",
      "metadata": {
        "colab": {
          "base_uri": "https://localhost:8080/"
        },
        "id": "b5e0138e",
        "outputId": "1ef2e7a2-eb30-4ec3-c61b-35c99c64ded4"
      },
      "outputs": [
        {
          "output_type": "execute_result",
          "data": {
            "text/plain": [
              "array([0, 1, 2])"
            ]
          },
          "metadata": {},
          "execution_count": 11
        }
      ],
      "source": [
        "np.unique(iris.target)"
      ]
    },
    {
      "cell_type": "markdown",
      "id": "6dfc803b",
      "metadata": {
        "id": "6dfc803b"
      },
      "source": [
        "Os nomes dos rótulos podem ser encontrados no vetor `.target_names`."
      ]
    },
    {
      "cell_type": "code",
      "execution_count": null,
      "id": "a5ce540c",
      "metadata": {
        "colab": {
          "base_uri": "https://localhost:8080/"
        },
        "id": "a5ce540c",
        "outputId": "53a0f336-f231-4133-9836-03f2e4e9aea1"
      },
      "outputs": [
        {
          "output_type": "execute_result",
          "data": {
            "text/plain": [
              "array(['setosa', 'versicolor', 'virginica'], dtype='<U10')"
            ]
          },
          "metadata": {},
          "execution_count": 12
        }
      ],
      "source": [
        "iris.target_names"
      ]
    },
    {
      "cell_type": "markdown",
      "id": "b63cd338",
      "metadata": {
        "id": "b63cd338"
      },
      "source": [
        "> **Faça a associação** entre os rótulos numéricos e as strings. Isto é, quais são os nomes (string) da classe 0, da clase 1 e da classe 2?"
      ]
    },
    {
      "cell_type": "code",
      "execution_count": null,
      "id": "18d2772b",
      "metadata": {
        "id": "18d2772b"
      },
      "outputs": [],
      "source": [
        "def categorical_to_string(target):\n",
        "  return iris.target_names[target % 3]\n",
        "\n",
        "target_names = list(map(categorical_to_string, iris.target))"
      ]
    },
    {
      "cell_type": "code",
      "execution_count": null,
      "id": "2SmJJQ-t_gU6",
      "metadata": {
        "colab": {
          "base_uri": "https://localhost:8080/"
        },
        "id": "2SmJJQ-t_gU6",
        "outputId": "3b3e4b1f-27e5-4135-dc4b-86de8365b259"
      },
      "outputs": [
        {
          "output_type": "execute_result",
          "data": {
            "text/plain": [
              "array([0, 0, 0, 0, 0, 0, 0, 0, 0, 0, 0, 0, 0, 0, 0, 0, 0, 0, 0, 0, 0, 0,\n",
              "       0, 0, 0, 0, 0, 0, 0, 0, 0, 0, 0, 0, 0, 0, 0, 0, 0, 0, 0, 0, 0, 0,\n",
              "       0, 0, 0, 0, 0, 0, 1, 1, 1, 1, 1, 1, 1, 1, 1, 1, 1, 1, 1, 1, 1, 1,\n",
              "       1, 1, 1, 1, 1, 1, 1, 1, 1, 1, 1, 1, 1, 1, 1, 1, 1, 1, 1, 1, 1, 1,\n",
              "       1, 1, 1, 1, 1, 1, 1, 1, 1, 1, 1, 1, 2, 2, 2, 2, 2, 2, 2, 2, 2, 2,\n",
              "       2, 2, 2, 2, 2, 2, 2, 2, 2, 2, 2, 2, 2, 2, 2, 2, 2, 2, 2, 2, 2, 2,\n",
              "       2, 2, 2, 2, 2, 2, 2, 2, 2, 2, 2, 2, 2, 2, 2, 2, 2, 2])"
            ]
          },
          "metadata": {},
          "execution_count": 14
        }
      ],
      "source": [
        "iris.target"
      ]
    },
    {
      "cell_type": "markdown",
      "id": "b1dfe771",
      "metadata": {
        "id": "b1dfe771"
      },
      "source": [
        "> **Identifique** quais são as classes dos exemplos que ocupam os índices 0, 15, 36, 51, 89, 101, 115 e 149 da matriz de dados.\n",
        ">\n",
        "> *Dica:* a lista a seguir pode ajudar: `[0, 15, 36, 51, 89, 101, 115, 149]`."
      ]
    },
    {
      "cell_type": "code",
      "execution_count": null,
      "id": "6128fbe4",
      "metadata": {
        "colab": {
          "base_uri": "https://localhost:8080/"
        },
        "id": "6128fbe4",
        "outputId": "3db6c781-f324-485f-d6ba-4447e16d83a6"
      },
      "outputs": [
        {
          "output_type": "execute_result",
          "data": {
            "text/plain": [
              "[0, 0, 0, 1, 1, 2, 2, 2]"
            ]
          },
          "metadata": {},
          "execution_count": 15
        }
      ],
      "source": [
        "sample_indexes = [0, 15, 36, 51, 89, 101, 115, 149]\n",
        "\n",
        "sample_target_names = list(map(lambda index : iris.target[index], sample_indexes))\n",
        "sample_target_names"
      ]
    },
    {
      "cell_type": "markdown",
      "id": "17457793",
      "metadata": {
        "id": "17457793"
      },
      "source": [
        "> **Identifique** os nomes (strings) das mesmas classes do exercício anterior."
      ]
    },
    {
      "cell_type": "code",
      "execution_count": null,
      "id": "e4c76b21",
      "metadata": {
        "colab": {
          "base_uri": "https://localhost:8080/"
        },
        "id": "e4c76b21",
        "outputId": "99ab4b73-a78b-4189-e111-82d486e4aa8d"
      },
      "outputs": [
        {
          "output_type": "execute_result",
          "data": {
            "text/plain": [
              "['setosa',\n",
              " 'setosa',\n",
              " 'setosa',\n",
              " 'versicolor',\n",
              " 'versicolor',\n",
              " 'virginica',\n",
              " 'virginica',\n",
              " 'virginica']"
            ]
          },
          "metadata": {},
          "execution_count": 16
        }
      ],
      "source": [
        "list(map(categorical_to_string, sample_target_names))"
      ]
    },
    {
      "cell_type": "markdown",
      "id": "0c1e52cf",
      "metadata": {
        "id": "0c1e52cf"
      },
      "source": [
        "Excelente.\n",
        "\n",
        "Mas o que significam esses números e essas letras? Você sempre deve procurar conhecer a base com a qual está trabalhando. A classe `Bunch` possui uma descrição da base de dados no atributo `.DESCR`. Ele deve ser impresso com `print`."
      ]
    },
    {
      "cell_type": "markdown",
      "id": "2b438e42",
      "metadata": {
        "id": "2b438e42"
      },
      "source": [
        "> **Imprima** a descrição da base `Iris`."
      ]
    },
    {
      "cell_type": "code",
      "execution_count": null,
      "id": "f1eff5ca",
      "metadata": {
        "colab": {
          "base_uri": "https://localhost:8080/"
        },
        "id": "f1eff5ca",
        "outputId": "f2db122f-d8c3-4cab-90c3-5c9f4e27f7b3"
      },
      "outputs": [
        {
          "output_type": "stream",
          "name": "stdout",
          "text": [
            ".. _iris_dataset:\n",
            "\n",
            "Iris plants dataset\n",
            "--------------------\n",
            "\n",
            "**Data Set Characteristics:**\n",
            "\n",
            "    :Number of Instances: 150 (50 in each of three classes)\n",
            "    :Number of Attributes: 4 numeric, predictive attributes and the class\n",
            "    :Attribute Information:\n",
            "        - sepal length in cm\n",
            "        - sepal width in cm\n",
            "        - petal length in cm\n",
            "        - petal width in cm\n",
            "        - class:\n",
            "                - Iris-Setosa\n",
            "                - Iris-Versicolour\n",
            "                - Iris-Virginica\n",
            "                \n",
            "    :Summary Statistics:\n",
            "\n",
            "    ============== ==== ==== ======= ===== ====================\n",
            "                    Min  Max   Mean    SD   Class Correlation\n",
            "    ============== ==== ==== ======= ===== ====================\n",
            "    sepal length:   4.3  7.9   5.84   0.83    0.7826\n",
            "    sepal width:    2.0  4.4   3.05   0.43   -0.4194\n",
            "    petal length:   1.0  6.9   3.76   1.76    0.9490  (high!)\n",
            "    petal width:    0.1  2.5   1.20   0.76    0.9565  (high!)\n",
            "    ============== ==== ==== ======= ===== ====================\n",
            "\n",
            "    :Missing Attribute Values: None\n",
            "    :Class Distribution: 33.3% for each of 3 classes.\n",
            "    :Creator: R.A. Fisher\n",
            "    :Donor: Michael Marshall (MARSHALL%PLU@io.arc.nasa.gov)\n",
            "    :Date: July, 1988\n",
            "\n",
            "The famous Iris database, first used by Sir R.A. Fisher. The dataset is taken\n",
            "from Fisher's paper. Note that it's the same as in R, but not as in the UCI\n",
            "Machine Learning Repository, which has two wrong data points.\n",
            "\n",
            "This is perhaps the best known database to be found in the\n",
            "pattern recognition literature.  Fisher's paper is a classic in the field and\n",
            "is referenced frequently to this day.  (See Duda & Hart, for example.)  The\n",
            "data set contains 3 classes of 50 instances each, where each class refers to a\n",
            "type of iris plant.  One class is linearly separable from the other 2; the\n",
            "latter are NOT linearly separable from each other.\n",
            "\n",
            ".. topic:: References\n",
            "\n",
            "   - Fisher, R.A. \"The use of multiple measurements in taxonomic problems\"\n",
            "     Annual Eugenics, 7, Part II, 179-188 (1936); also in \"Contributions to\n",
            "     Mathematical Statistics\" (John Wiley, NY, 1950).\n",
            "   - Duda, R.O., & Hart, P.E. (1973) Pattern Classification and Scene Analysis.\n",
            "     (Q327.D83) John Wiley & Sons.  ISBN 0-471-22361-1.  See page 218.\n",
            "   - Dasarathy, B.V. (1980) \"Nosing Around the Neighborhood: A New System\n",
            "     Structure and Classification Rule for Recognition in Partially Exposed\n",
            "     Environments\".  IEEE Transactions on Pattern Analysis and Machine\n",
            "     Intelligence, Vol. PAMI-2, No. 1, 67-71.\n",
            "   - Gates, G.W. (1972) \"The Reduced Nearest Neighbor Rule\".  IEEE Transactions\n",
            "     on Information Theory, May 1972, 431-433.\n",
            "   - See also: 1988 MLC Proceedings, 54-64.  Cheeseman et al\"s AUTOCLASS II\n",
            "     conceptual clustering system finds 3 classes in the data.\n",
            "   - Many, many more ...\n"
          ]
        }
      ],
      "source": [
        "print(iris.DESCR)"
      ]
    },
    {
      "cell_type": "markdown",
      "id": "e8a5f0cc",
      "metadata": {
        "id": "e8a5f0cc"
      },
      "source": [
        "### Descrição da base"
      ]
    },
    {
      "cell_type": "markdown",
      "id": "29389381",
      "metadata": {
        "id": "29389381"
      },
      "source": [
        "Vamos verificar valores de média e desvio padrão dos atributos da base."
      ]
    },
    {
      "cell_type": "markdown",
      "id": "c7d36627",
      "metadata": {
        "id": "c7d36627"
      },
      "source": [
        "> **Calcule a média** dos quatro atributos, usando `np.mean` ao longo do eixo 0.\n",
        ">\n",
        "> *Dica*: o resultado deverá ser próximo do seguinte: `[5.843, 3.057, 3.758, 1.199]`."
      ]
    },
    {
      "cell_type": "code",
      "execution_count": null,
      "id": "ec21a822",
      "metadata": {
        "colab": {
          "base_uri": "https://localhost:8080/"
        },
        "id": "ec21a822",
        "outputId": "97e69dd1-e778-4821-ce39-4a21b079cc11"
      },
      "outputs": [
        {
          "output_type": "execute_result",
          "data": {
            "text/plain": [
              "array([5.84333333, 3.05733333, 3.758     , 1.19933333])"
            ]
          },
          "metadata": {},
          "execution_count": 18
        }
      ],
      "source": [
        "iris.data.mean(axis=0)"
      ]
    },
    {
      "cell_type": "markdown",
      "id": "b0053544",
      "metadata": {
        "id": "b0053544"
      },
      "source": [
        "Embora o NumPy faça todos os cálculos que precisamos, ele não é muito bom para visualizar e manipular os resultados. O melhor é criar um *data frame* com base nos dados."
      ]
    },
    {
      "cell_type": "markdown",
      "id": "d7ac4896",
      "metadata": {
        "id": "d7ac4896"
      },
      "source": [
        "> **Execute a célula** a seguir pra criar um *data fame* da base `Iris`."
      ]
    },
    {
      "cell_type": "code",
      "execution_count": null,
      "id": "8c145a1a",
      "metadata": {
        "colab": {
          "base_uri": "https://localhost:8080/",
          "height": 424
        },
        "id": "8c145a1a",
        "outputId": "bf683975-1299-4077-9993-0762eb1ec214"
      },
      "outputs": [
        {
          "output_type": "execute_result",
          "data": {
            "text/plain": [
              "     sepal length (cm)  sepal width (cm)  petal length (cm)  petal width (cm)  \\\n",
              "0                  5.1               3.5                1.4               0.2   \n",
              "1                  4.9               3.0                1.4               0.2   \n",
              "2                  4.7               3.2                1.3               0.2   \n",
              "3                  4.6               3.1                1.5               0.2   \n",
              "4                  5.0               3.6                1.4               0.2   \n",
              "..                 ...               ...                ...               ...   \n",
              "145                6.7               3.0                5.2               2.3   \n",
              "146                6.3               2.5                5.0               1.9   \n",
              "147                6.5               3.0                5.2               2.0   \n",
              "148                6.2               3.4                5.4               2.3   \n",
              "149                5.9               3.0                5.1               1.8   \n",
              "\n",
              "       species  \n",
              "0       setosa  \n",
              "1       setosa  \n",
              "2       setosa  \n",
              "3       setosa  \n",
              "4       setosa  \n",
              "..         ...  \n",
              "145  virginica  \n",
              "146  virginica  \n",
              "147  virginica  \n",
              "148  virginica  \n",
              "149  virginica  \n",
              "\n",
              "[150 rows x 5 columns]"
            ],
            "text/html": [
              "\n",
              "  <div id=\"df-50a7b4b0-4a6b-44af-9d65-3f444022b64c\" class=\"colab-df-container\">\n",
              "    <div>\n",
              "<style scoped>\n",
              "    .dataframe tbody tr th:only-of-type {\n",
              "        vertical-align: middle;\n",
              "    }\n",
              "\n",
              "    .dataframe tbody tr th {\n",
              "        vertical-align: top;\n",
              "    }\n",
              "\n",
              "    .dataframe thead th {\n",
              "        text-align: right;\n",
              "    }\n",
              "</style>\n",
              "<table border=\"1\" class=\"dataframe\">\n",
              "  <thead>\n",
              "    <tr style=\"text-align: right;\">\n",
              "      <th></th>\n",
              "      <th>sepal length (cm)</th>\n",
              "      <th>sepal width (cm)</th>\n",
              "      <th>petal length (cm)</th>\n",
              "      <th>petal width (cm)</th>\n",
              "      <th>species</th>\n",
              "    </tr>\n",
              "  </thead>\n",
              "  <tbody>\n",
              "    <tr>\n",
              "      <th>0</th>\n",
              "      <td>5.1</td>\n",
              "      <td>3.5</td>\n",
              "      <td>1.4</td>\n",
              "      <td>0.2</td>\n",
              "      <td>setosa</td>\n",
              "    </tr>\n",
              "    <tr>\n",
              "      <th>1</th>\n",
              "      <td>4.9</td>\n",
              "      <td>3.0</td>\n",
              "      <td>1.4</td>\n",
              "      <td>0.2</td>\n",
              "      <td>setosa</td>\n",
              "    </tr>\n",
              "    <tr>\n",
              "      <th>2</th>\n",
              "      <td>4.7</td>\n",
              "      <td>3.2</td>\n",
              "      <td>1.3</td>\n",
              "      <td>0.2</td>\n",
              "      <td>setosa</td>\n",
              "    </tr>\n",
              "    <tr>\n",
              "      <th>3</th>\n",
              "      <td>4.6</td>\n",
              "      <td>3.1</td>\n",
              "      <td>1.5</td>\n",
              "      <td>0.2</td>\n",
              "      <td>setosa</td>\n",
              "    </tr>\n",
              "    <tr>\n",
              "      <th>4</th>\n",
              "      <td>5.0</td>\n",
              "      <td>3.6</td>\n",
              "      <td>1.4</td>\n",
              "      <td>0.2</td>\n",
              "      <td>setosa</td>\n",
              "    </tr>\n",
              "    <tr>\n",
              "      <th>...</th>\n",
              "      <td>...</td>\n",
              "      <td>...</td>\n",
              "      <td>...</td>\n",
              "      <td>...</td>\n",
              "      <td>...</td>\n",
              "    </tr>\n",
              "    <tr>\n",
              "      <th>145</th>\n",
              "      <td>6.7</td>\n",
              "      <td>3.0</td>\n",
              "      <td>5.2</td>\n",
              "      <td>2.3</td>\n",
              "      <td>virginica</td>\n",
              "    </tr>\n",
              "    <tr>\n",
              "      <th>146</th>\n",
              "      <td>6.3</td>\n",
              "      <td>2.5</td>\n",
              "      <td>5.0</td>\n",
              "      <td>1.9</td>\n",
              "      <td>virginica</td>\n",
              "    </tr>\n",
              "    <tr>\n",
              "      <th>147</th>\n",
              "      <td>6.5</td>\n",
              "      <td>3.0</td>\n",
              "      <td>5.2</td>\n",
              "      <td>2.0</td>\n",
              "      <td>virginica</td>\n",
              "    </tr>\n",
              "    <tr>\n",
              "      <th>148</th>\n",
              "      <td>6.2</td>\n",
              "      <td>3.4</td>\n",
              "      <td>5.4</td>\n",
              "      <td>2.3</td>\n",
              "      <td>virginica</td>\n",
              "    </tr>\n",
              "    <tr>\n",
              "      <th>149</th>\n",
              "      <td>5.9</td>\n",
              "      <td>3.0</td>\n",
              "      <td>5.1</td>\n",
              "      <td>1.8</td>\n",
              "      <td>virginica</td>\n",
              "    </tr>\n",
              "  </tbody>\n",
              "</table>\n",
              "<p>150 rows × 5 columns</p>\n",
              "</div>\n",
              "    <div class=\"colab-df-buttons\">\n",
              "\n",
              "  <div class=\"colab-df-container\">\n",
              "    <button class=\"colab-df-convert\" onclick=\"convertToInteractive('df-50a7b4b0-4a6b-44af-9d65-3f444022b64c')\"\n",
              "            title=\"Convert this dataframe to an interactive table.\"\n",
              "            style=\"display:none;\">\n",
              "\n",
              "  <svg xmlns=\"http://www.w3.org/2000/svg\" height=\"24px\" viewBox=\"0 -960 960 960\">\n",
              "    <path d=\"M120-120v-720h720v720H120Zm60-500h600v-160H180v160Zm220 220h160v-160H400v160Zm0 220h160v-160H400v160ZM180-400h160v-160H180v160Zm440 0h160v-160H620v160ZM180-180h160v-160H180v160Zm440 0h160v-160H620v160Z\"/>\n",
              "  </svg>\n",
              "    </button>\n",
              "\n",
              "  <style>\n",
              "    .colab-df-container {\n",
              "      display:flex;\n",
              "      gap: 12px;\n",
              "    }\n",
              "\n",
              "    .colab-df-convert {\n",
              "      background-color: #E8F0FE;\n",
              "      border: none;\n",
              "      border-radius: 50%;\n",
              "      cursor: pointer;\n",
              "      display: none;\n",
              "      fill: #1967D2;\n",
              "      height: 32px;\n",
              "      padding: 0 0 0 0;\n",
              "      width: 32px;\n",
              "    }\n",
              "\n",
              "    .colab-df-convert:hover {\n",
              "      background-color: #E2EBFA;\n",
              "      box-shadow: 0px 1px 2px rgba(60, 64, 67, 0.3), 0px 1px 3px 1px rgba(60, 64, 67, 0.15);\n",
              "      fill: #174EA6;\n",
              "    }\n",
              "\n",
              "    .colab-df-buttons div {\n",
              "      margin-bottom: 4px;\n",
              "    }\n",
              "\n",
              "    [theme=dark] .colab-df-convert {\n",
              "      background-color: #3B4455;\n",
              "      fill: #D2E3FC;\n",
              "    }\n",
              "\n",
              "    [theme=dark] .colab-df-convert:hover {\n",
              "      background-color: #434B5C;\n",
              "      box-shadow: 0px 1px 3px 1px rgba(0, 0, 0, 0.15);\n",
              "      filter: drop-shadow(0px 1px 2px rgba(0, 0, 0, 0.3));\n",
              "      fill: #FFFFFF;\n",
              "    }\n",
              "  </style>\n",
              "\n",
              "    <script>\n",
              "      const buttonEl =\n",
              "        document.querySelector('#df-50a7b4b0-4a6b-44af-9d65-3f444022b64c button.colab-df-convert');\n",
              "      buttonEl.style.display =\n",
              "        google.colab.kernel.accessAllowed ? 'block' : 'none';\n",
              "\n",
              "      async function convertToInteractive(key) {\n",
              "        const element = document.querySelector('#df-50a7b4b0-4a6b-44af-9d65-3f444022b64c');\n",
              "        const dataTable =\n",
              "          await google.colab.kernel.invokeFunction('convertToInteractive',\n",
              "                                                    [key], {});\n",
              "        if (!dataTable) return;\n",
              "\n",
              "        const docLinkHtml = 'Like what you see? Visit the ' +\n",
              "          '<a target=\"_blank\" href=https://colab.research.google.com/notebooks/data_table.ipynb>data table notebook</a>'\n",
              "          + ' to learn more about interactive tables.';\n",
              "        element.innerHTML = '';\n",
              "        dataTable['output_type'] = 'display_data';\n",
              "        await google.colab.output.renderOutput(dataTable, element);\n",
              "        const docLink = document.createElement('div');\n",
              "        docLink.innerHTML = docLinkHtml;\n",
              "        element.appendChild(docLink);\n",
              "      }\n",
              "    </script>\n",
              "  </div>\n",
              "\n",
              "\n",
              "<div id=\"df-e0a912f7-6e55-4284-a97b-89c289cda480\">\n",
              "  <button class=\"colab-df-quickchart\" onclick=\"quickchart('df-e0a912f7-6e55-4284-a97b-89c289cda480')\"\n",
              "            title=\"Suggest charts\"\n",
              "            style=\"display:none;\">\n",
              "\n",
              "<svg xmlns=\"http://www.w3.org/2000/svg\" height=\"24px\"viewBox=\"0 0 24 24\"\n",
              "     width=\"24px\">\n",
              "    <g>\n",
              "        <path d=\"M19 3H5c-1.1 0-2 .9-2 2v14c0 1.1.9 2 2 2h14c1.1 0 2-.9 2-2V5c0-1.1-.9-2-2-2zM9 17H7v-7h2v7zm4 0h-2V7h2v10zm4 0h-2v-4h2v4z\"/>\n",
              "    </g>\n",
              "</svg>\n",
              "  </button>\n",
              "\n",
              "<style>\n",
              "  .colab-df-quickchart {\n",
              "      --bg-color: #E8F0FE;\n",
              "      --fill-color: #1967D2;\n",
              "      --hover-bg-color: #E2EBFA;\n",
              "      --hover-fill-color: #174EA6;\n",
              "      --disabled-fill-color: #AAA;\n",
              "      --disabled-bg-color: #DDD;\n",
              "  }\n",
              "\n",
              "  [theme=dark] .colab-df-quickchart {\n",
              "      --bg-color: #3B4455;\n",
              "      --fill-color: #D2E3FC;\n",
              "      --hover-bg-color: #434B5C;\n",
              "      --hover-fill-color: #FFFFFF;\n",
              "      --disabled-bg-color: #3B4455;\n",
              "      --disabled-fill-color: #666;\n",
              "  }\n",
              "\n",
              "  .colab-df-quickchart {\n",
              "    background-color: var(--bg-color);\n",
              "    border: none;\n",
              "    border-radius: 50%;\n",
              "    cursor: pointer;\n",
              "    display: none;\n",
              "    fill: var(--fill-color);\n",
              "    height: 32px;\n",
              "    padding: 0;\n",
              "    width: 32px;\n",
              "  }\n",
              "\n",
              "  .colab-df-quickchart:hover {\n",
              "    background-color: var(--hover-bg-color);\n",
              "    box-shadow: 0 1px 2px rgba(60, 64, 67, 0.3), 0 1px 3px 1px rgba(60, 64, 67, 0.15);\n",
              "    fill: var(--button-hover-fill-color);\n",
              "  }\n",
              "\n",
              "  .colab-df-quickchart-complete:disabled,\n",
              "  .colab-df-quickchart-complete:disabled:hover {\n",
              "    background-color: var(--disabled-bg-color);\n",
              "    fill: var(--disabled-fill-color);\n",
              "    box-shadow: none;\n",
              "  }\n",
              "\n",
              "  .colab-df-spinner {\n",
              "    border: 2px solid var(--fill-color);\n",
              "    border-color: transparent;\n",
              "    border-bottom-color: var(--fill-color);\n",
              "    animation:\n",
              "      spin 1s steps(1) infinite;\n",
              "  }\n",
              "\n",
              "  @keyframes spin {\n",
              "    0% {\n",
              "      border-color: transparent;\n",
              "      border-bottom-color: var(--fill-color);\n",
              "      border-left-color: var(--fill-color);\n",
              "    }\n",
              "    20% {\n",
              "      border-color: transparent;\n",
              "      border-left-color: var(--fill-color);\n",
              "      border-top-color: var(--fill-color);\n",
              "    }\n",
              "    30% {\n",
              "      border-color: transparent;\n",
              "      border-left-color: var(--fill-color);\n",
              "      border-top-color: var(--fill-color);\n",
              "      border-right-color: var(--fill-color);\n",
              "    }\n",
              "    40% {\n",
              "      border-color: transparent;\n",
              "      border-right-color: var(--fill-color);\n",
              "      border-top-color: var(--fill-color);\n",
              "    }\n",
              "    60% {\n",
              "      border-color: transparent;\n",
              "      border-right-color: var(--fill-color);\n",
              "    }\n",
              "    80% {\n",
              "      border-color: transparent;\n",
              "      border-right-color: var(--fill-color);\n",
              "      border-bottom-color: var(--fill-color);\n",
              "    }\n",
              "    90% {\n",
              "      border-color: transparent;\n",
              "      border-bottom-color: var(--fill-color);\n",
              "    }\n",
              "  }\n",
              "</style>\n",
              "\n",
              "  <script>\n",
              "    async function quickchart(key) {\n",
              "      const quickchartButtonEl =\n",
              "        document.querySelector('#' + key + ' button');\n",
              "      quickchartButtonEl.disabled = true;  // To prevent multiple clicks.\n",
              "      quickchartButtonEl.classList.add('colab-df-spinner');\n",
              "      try {\n",
              "        const charts = await google.colab.kernel.invokeFunction(\n",
              "            'suggestCharts', [key], {});\n",
              "      } catch (error) {\n",
              "        console.error('Error during call to suggestCharts:', error);\n",
              "      }\n",
              "      quickchartButtonEl.classList.remove('colab-df-spinner');\n",
              "      quickchartButtonEl.classList.add('colab-df-quickchart-complete');\n",
              "    }\n",
              "    (() => {\n",
              "      let quickchartButtonEl =\n",
              "        document.querySelector('#df-e0a912f7-6e55-4284-a97b-89c289cda480 button');\n",
              "      quickchartButtonEl.style.display =\n",
              "        google.colab.kernel.accessAllowed ? 'block' : 'none';\n",
              "    })();\n",
              "  </script>\n",
              "</div>\n",
              "    </div>\n",
              "  </div>\n"
            ],
            "application/vnd.google.colaboratory.intrinsic+json": {
              "type": "dataframe",
              "variable_name": "iris_df",
              "summary": "{\n  \"name\": \"iris_df\",\n  \"rows\": 150,\n  \"fields\": [\n    {\n      \"column\": \"sepal length (cm)\",\n      \"properties\": {\n        \"dtype\": \"number\",\n        \"std\": 0.828066127977863,\n        \"min\": 4.3,\n        \"max\": 7.9,\n        \"num_unique_values\": 35,\n        \"samples\": [\n          6.2,\n          4.5,\n          5.6\n        ],\n        \"semantic_type\": \"\",\n        \"description\": \"\"\n      }\n    },\n    {\n      \"column\": \"sepal width (cm)\",\n      \"properties\": {\n        \"dtype\": \"number\",\n        \"std\": 0.4358662849366982,\n        \"min\": 2.0,\n        \"max\": 4.4,\n        \"num_unique_values\": 23,\n        \"samples\": [\n          2.3,\n          4.0,\n          3.5\n        ],\n        \"semantic_type\": \"\",\n        \"description\": \"\"\n      }\n    },\n    {\n      \"column\": \"petal length (cm)\",\n      \"properties\": {\n        \"dtype\": \"number\",\n        \"std\": 1.7652982332594662,\n        \"min\": 1.0,\n        \"max\": 6.9,\n        \"num_unique_values\": 43,\n        \"samples\": [\n          6.7,\n          3.8,\n          3.7\n        ],\n        \"semantic_type\": \"\",\n        \"description\": \"\"\n      }\n    },\n    {\n      \"column\": \"petal width (cm)\",\n      \"properties\": {\n        \"dtype\": \"number\",\n        \"std\": 0.7622376689603465,\n        \"min\": 0.1,\n        \"max\": 2.5,\n        \"num_unique_values\": 22,\n        \"samples\": [\n          0.2,\n          1.2,\n          1.3\n        ],\n        \"semantic_type\": \"\",\n        \"description\": \"\"\n      }\n    },\n    {\n      \"column\": \"species\",\n      \"properties\": {\n        \"dtype\": \"category\",\n        \"num_unique_values\": 3,\n        \"samples\": [\n          \"setosa\",\n          \"versicolor\",\n          \"virginica\"\n        ],\n        \"semantic_type\": \"\",\n        \"description\": \"\"\n      }\n    }\n  ]\n}"
            }
          },
          "metadata": {},
          "execution_count": 19
        }
      ],
      "source": [
        "# Cria um data frame contendo os atributos de entrada\n",
        "iris_df = pd.DataFrame(data=iris.data,             # Atributos de entrada\n",
        "                       columns=iris.feature_names, # Nomes das colunas\n",
        "                      )\n",
        "\n",
        "# Acrescenta as classes\n",
        "iris_df['species'] = iris.target_names[iris.target]\n",
        "\n",
        "# Mostra o resultado\n",
        "iris_df"
      ]
    },
    {
      "cell_type": "markdown",
      "id": "c3033cd9",
      "metadata": {
        "id": "c3033cd9"
      },
      "source": [
        "O *dataframe* possui um método muito oportuno, `describe`, que mostra uma descrição estatística de todas as colunas que possuem valor numérico."
      ]
    },
    {
      "cell_type": "markdown",
      "id": "1a41814f",
      "metadata": {
        "id": "1a41814f"
      },
      "source": [
        "> **Execute a célula** a seguir para ver uma descrição dos atributos."
      ]
    },
    {
      "cell_type": "code",
      "execution_count": null,
      "id": "20bf8058",
      "metadata": {
        "colab": {
          "base_uri": "https://localhost:8080/",
          "height": 300
        },
        "id": "20bf8058",
        "outputId": "ea7d3c96-8cff-4558-bb85-f3be3dca7237"
      },
      "outputs": [
        {
          "output_type": "execute_result",
          "data": {
            "text/plain": [
              "       sepal length (cm)  sepal width (cm)  petal length (cm)  \\\n",
              "count         150.000000        150.000000         150.000000   \n",
              "mean            5.843333          3.057333           3.758000   \n",
              "std             0.828066          0.435866           1.765298   \n",
              "min             4.300000          2.000000           1.000000   \n",
              "25%             5.100000          2.800000           1.600000   \n",
              "50%             5.800000          3.000000           4.350000   \n",
              "75%             6.400000          3.300000           5.100000   \n",
              "max             7.900000          4.400000           6.900000   \n",
              "\n",
              "       petal width (cm)  \n",
              "count        150.000000  \n",
              "mean           1.199333  \n",
              "std            0.762238  \n",
              "min            0.100000  \n",
              "25%            0.300000  \n",
              "50%            1.300000  \n",
              "75%            1.800000  \n",
              "max            2.500000  "
            ],
            "text/html": [
              "\n",
              "  <div id=\"df-12d05788-a6df-40ff-a295-18145b6f8468\" class=\"colab-df-container\">\n",
              "    <div>\n",
              "<style scoped>\n",
              "    .dataframe tbody tr th:only-of-type {\n",
              "        vertical-align: middle;\n",
              "    }\n",
              "\n",
              "    .dataframe tbody tr th {\n",
              "        vertical-align: top;\n",
              "    }\n",
              "\n",
              "    .dataframe thead th {\n",
              "        text-align: right;\n",
              "    }\n",
              "</style>\n",
              "<table border=\"1\" class=\"dataframe\">\n",
              "  <thead>\n",
              "    <tr style=\"text-align: right;\">\n",
              "      <th></th>\n",
              "      <th>sepal length (cm)</th>\n",
              "      <th>sepal width (cm)</th>\n",
              "      <th>petal length (cm)</th>\n",
              "      <th>petal width (cm)</th>\n",
              "    </tr>\n",
              "  </thead>\n",
              "  <tbody>\n",
              "    <tr>\n",
              "      <th>count</th>\n",
              "      <td>150.000000</td>\n",
              "      <td>150.000000</td>\n",
              "      <td>150.000000</td>\n",
              "      <td>150.000000</td>\n",
              "    </tr>\n",
              "    <tr>\n",
              "      <th>mean</th>\n",
              "      <td>5.843333</td>\n",
              "      <td>3.057333</td>\n",
              "      <td>3.758000</td>\n",
              "      <td>1.199333</td>\n",
              "    </tr>\n",
              "    <tr>\n",
              "      <th>std</th>\n",
              "      <td>0.828066</td>\n",
              "      <td>0.435866</td>\n",
              "      <td>1.765298</td>\n",
              "      <td>0.762238</td>\n",
              "    </tr>\n",
              "    <tr>\n",
              "      <th>min</th>\n",
              "      <td>4.300000</td>\n",
              "      <td>2.000000</td>\n",
              "      <td>1.000000</td>\n",
              "      <td>0.100000</td>\n",
              "    </tr>\n",
              "    <tr>\n",
              "      <th>25%</th>\n",
              "      <td>5.100000</td>\n",
              "      <td>2.800000</td>\n",
              "      <td>1.600000</td>\n",
              "      <td>0.300000</td>\n",
              "    </tr>\n",
              "    <tr>\n",
              "      <th>50%</th>\n",
              "      <td>5.800000</td>\n",
              "      <td>3.000000</td>\n",
              "      <td>4.350000</td>\n",
              "      <td>1.300000</td>\n",
              "    </tr>\n",
              "    <tr>\n",
              "      <th>75%</th>\n",
              "      <td>6.400000</td>\n",
              "      <td>3.300000</td>\n",
              "      <td>5.100000</td>\n",
              "      <td>1.800000</td>\n",
              "    </tr>\n",
              "    <tr>\n",
              "      <th>max</th>\n",
              "      <td>7.900000</td>\n",
              "      <td>4.400000</td>\n",
              "      <td>6.900000</td>\n",
              "      <td>2.500000</td>\n",
              "    </tr>\n",
              "  </tbody>\n",
              "</table>\n",
              "</div>\n",
              "    <div class=\"colab-df-buttons\">\n",
              "\n",
              "  <div class=\"colab-df-container\">\n",
              "    <button class=\"colab-df-convert\" onclick=\"convertToInteractive('df-12d05788-a6df-40ff-a295-18145b6f8468')\"\n",
              "            title=\"Convert this dataframe to an interactive table.\"\n",
              "            style=\"display:none;\">\n",
              "\n",
              "  <svg xmlns=\"http://www.w3.org/2000/svg\" height=\"24px\" viewBox=\"0 -960 960 960\">\n",
              "    <path d=\"M120-120v-720h720v720H120Zm60-500h600v-160H180v160Zm220 220h160v-160H400v160Zm0 220h160v-160H400v160ZM180-400h160v-160H180v160Zm440 0h160v-160H620v160ZM180-180h160v-160H180v160Zm440 0h160v-160H620v160Z\"/>\n",
              "  </svg>\n",
              "    </button>\n",
              "\n",
              "  <style>\n",
              "    .colab-df-container {\n",
              "      display:flex;\n",
              "      gap: 12px;\n",
              "    }\n",
              "\n",
              "    .colab-df-convert {\n",
              "      background-color: #E8F0FE;\n",
              "      border: none;\n",
              "      border-radius: 50%;\n",
              "      cursor: pointer;\n",
              "      display: none;\n",
              "      fill: #1967D2;\n",
              "      height: 32px;\n",
              "      padding: 0 0 0 0;\n",
              "      width: 32px;\n",
              "    }\n",
              "\n",
              "    .colab-df-convert:hover {\n",
              "      background-color: #E2EBFA;\n",
              "      box-shadow: 0px 1px 2px rgba(60, 64, 67, 0.3), 0px 1px 3px 1px rgba(60, 64, 67, 0.15);\n",
              "      fill: #174EA6;\n",
              "    }\n",
              "\n",
              "    .colab-df-buttons div {\n",
              "      margin-bottom: 4px;\n",
              "    }\n",
              "\n",
              "    [theme=dark] .colab-df-convert {\n",
              "      background-color: #3B4455;\n",
              "      fill: #D2E3FC;\n",
              "    }\n",
              "\n",
              "    [theme=dark] .colab-df-convert:hover {\n",
              "      background-color: #434B5C;\n",
              "      box-shadow: 0px 1px 3px 1px rgba(0, 0, 0, 0.15);\n",
              "      filter: drop-shadow(0px 1px 2px rgba(0, 0, 0, 0.3));\n",
              "      fill: #FFFFFF;\n",
              "    }\n",
              "  </style>\n",
              "\n",
              "    <script>\n",
              "      const buttonEl =\n",
              "        document.querySelector('#df-12d05788-a6df-40ff-a295-18145b6f8468 button.colab-df-convert');\n",
              "      buttonEl.style.display =\n",
              "        google.colab.kernel.accessAllowed ? 'block' : 'none';\n",
              "\n",
              "      async function convertToInteractive(key) {\n",
              "        const element = document.querySelector('#df-12d05788-a6df-40ff-a295-18145b6f8468');\n",
              "        const dataTable =\n",
              "          await google.colab.kernel.invokeFunction('convertToInteractive',\n",
              "                                                    [key], {});\n",
              "        if (!dataTable) return;\n",
              "\n",
              "        const docLinkHtml = 'Like what you see? Visit the ' +\n",
              "          '<a target=\"_blank\" href=https://colab.research.google.com/notebooks/data_table.ipynb>data table notebook</a>'\n",
              "          + ' to learn more about interactive tables.';\n",
              "        element.innerHTML = '';\n",
              "        dataTable['output_type'] = 'display_data';\n",
              "        await google.colab.output.renderOutput(dataTable, element);\n",
              "        const docLink = document.createElement('div');\n",
              "        docLink.innerHTML = docLinkHtml;\n",
              "        element.appendChild(docLink);\n",
              "      }\n",
              "    </script>\n",
              "  </div>\n",
              "\n",
              "\n",
              "<div id=\"df-9b04c240-20a9-4ba1-aff7-e35b4fbfbb96\">\n",
              "  <button class=\"colab-df-quickchart\" onclick=\"quickchart('df-9b04c240-20a9-4ba1-aff7-e35b4fbfbb96')\"\n",
              "            title=\"Suggest charts\"\n",
              "            style=\"display:none;\">\n",
              "\n",
              "<svg xmlns=\"http://www.w3.org/2000/svg\" height=\"24px\"viewBox=\"0 0 24 24\"\n",
              "     width=\"24px\">\n",
              "    <g>\n",
              "        <path d=\"M19 3H5c-1.1 0-2 .9-2 2v14c0 1.1.9 2 2 2h14c1.1 0 2-.9 2-2V5c0-1.1-.9-2-2-2zM9 17H7v-7h2v7zm4 0h-2V7h2v10zm4 0h-2v-4h2v4z\"/>\n",
              "    </g>\n",
              "</svg>\n",
              "  </button>\n",
              "\n",
              "<style>\n",
              "  .colab-df-quickchart {\n",
              "      --bg-color: #E8F0FE;\n",
              "      --fill-color: #1967D2;\n",
              "      --hover-bg-color: #E2EBFA;\n",
              "      --hover-fill-color: #174EA6;\n",
              "      --disabled-fill-color: #AAA;\n",
              "      --disabled-bg-color: #DDD;\n",
              "  }\n",
              "\n",
              "  [theme=dark] .colab-df-quickchart {\n",
              "      --bg-color: #3B4455;\n",
              "      --fill-color: #D2E3FC;\n",
              "      --hover-bg-color: #434B5C;\n",
              "      --hover-fill-color: #FFFFFF;\n",
              "      --disabled-bg-color: #3B4455;\n",
              "      --disabled-fill-color: #666;\n",
              "  }\n",
              "\n",
              "  .colab-df-quickchart {\n",
              "    background-color: var(--bg-color);\n",
              "    border: none;\n",
              "    border-radius: 50%;\n",
              "    cursor: pointer;\n",
              "    display: none;\n",
              "    fill: var(--fill-color);\n",
              "    height: 32px;\n",
              "    padding: 0;\n",
              "    width: 32px;\n",
              "  }\n",
              "\n",
              "  .colab-df-quickchart:hover {\n",
              "    background-color: var(--hover-bg-color);\n",
              "    box-shadow: 0 1px 2px rgba(60, 64, 67, 0.3), 0 1px 3px 1px rgba(60, 64, 67, 0.15);\n",
              "    fill: var(--button-hover-fill-color);\n",
              "  }\n",
              "\n",
              "  .colab-df-quickchart-complete:disabled,\n",
              "  .colab-df-quickchart-complete:disabled:hover {\n",
              "    background-color: var(--disabled-bg-color);\n",
              "    fill: var(--disabled-fill-color);\n",
              "    box-shadow: none;\n",
              "  }\n",
              "\n",
              "  .colab-df-spinner {\n",
              "    border: 2px solid var(--fill-color);\n",
              "    border-color: transparent;\n",
              "    border-bottom-color: var(--fill-color);\n",
              "    animation:\n",
              "      spin 1s steps(1) infinite;\n",
              "  }\n",
              "\n",
              "  @keyframes spin {\n",
              "    0% {\n",
              "      border-color: transparent;\n",
              "      border-bottom-color: var(--fill-color);\n",
              "      border-left-color: var(--fill-color);\n",
              "    }\n",
              "    20% {\n",
              "      border-color: transparent;\n",
              "      border-left-color: var(--fill-color);\n",
              "      border-top-color: var(--fill-color);\n",
              "    }\n",
              "    30% {\n",
              "      border-color: transparent;\n",
              "      border-left-color: var(--fill-color);\n",
              "      border-top-color: var(--fill-color);\n",
              "      border-right-color: var(--fill-color);\n",
              "    }\n",
              "    40% {\n",
              "      border-color: transparent;\n",
              "      border-right-color: var(--fill-color);\n",
              "      border-top-color: var(--fill-color);\n",
              "    }\n",
              "    60% {\n",
              "      border-color: transparent;\n",
              "      border-right-color: var(--fill-color);\n",
              "    }\n",
              "    80% {\n",
              "      border-color: transparent;\n",
              "      border-right-color: var(--fill-color);\n",
              "      border-bottom-color: var(--fill-color);\n",
              "    }\n",
              "    90% {\n",
              "      border-color: transparent;\n",
              "      border-bottom-color: var(--fill-color);\n",
              "    }\n",
              "  }\n",
              "</style>\n",
              "\n",
              "  <script>\n",
              "    async function quickchart(key) {\n",
              "      const quickchartButtonEl =\n",
              "        document.querySelector('#' + key + ' button');\n",
              "      quickchartButtonEl.disabled = true;  // To prevent multiple clicks.\n",
              "      quickchartButtonEl.classList.add('colab-df-spinner');\n",
              "      try {\n",
              "        const charts = await google.colab.kernel.invokeFunction(\n",
              "            'suggestCharts', [key], {});\n",
              "      } catch (error) {\n",
              "        console.error('Error during call to suggestCharts:', error);\n",
              "      }\n",
              "      quickchartButtonEl.classList.remove('colab-df-spinner');\n",
              "      quickchartButtonEl.classList.add('colab-df-quickchart-complete');\n",
              "    }\n",
              "    (() => {\n",
              "      let quickchartButtonEl =\n",
              "        document.querySelector('#df-9b04c240-20a9-4ba1-aff7-e35b4fbfbb96 button');\n",
              "      quickchartButtonEl.style.display =\n",
              "        google.colab.kernel.accessAllowed ? 'block' : 'none';\n",
              "    })();\n",
              "  </script>\n",
              "</div>\n",
              "    </div>\n",
              "  </div>\n"
            ],
            "application/vnd.google.colaboratory.intrinsic+json": {
              "type": "dataframe",
              "summary": "{\n  \"name\": \"iris_df\",\n  \"rows\": 8,\n  \"fields\": [\n    {\n      \"column\": \"sepal length (cm)\",\n      \"properties\": {\n        \"dtype\": \"number\",\n        \"std\": 51.24711349471842,\n        \"min\": 0.828066127977863,\n        \"max\": 150.0,\n        \"num_unique_values\": 8,\n        \"samples\": [\n          5.843333333333334,\n          5.8,\n          150.0\n        ],\n        \"semantic_type\": \"\",\n        \"description\": \"\"\n      }\n    },\n    {\n      \"column\": \"sepal width (cm)\",\n      \"properties\": {\n        \"dtype\": \"number\",\n        \"std\": 52.08617800869865,\n        \"min\": 0.4358662849366982,\n        \"max\": 150.0,\n        \"num_unique_values\": 8,\n        \"samples\": [\n          3.0573333333333337,\n          3.0,\n          150.0\n        ],\n        \"semantic_type\": \"\",\n        \"description\": \"\"\n      }\n    },\n    {\n      \"column\": \"petal length (cm)\",\n      \"properties\": {\n        \"dtype\": \"number\",\n        \"std\": 51.83521261418364,\n        \"min\": 1.0,\n        \"max\": 150.0,\n        \"num_unique_values\": 8,\n        \"samples\": [\n          3.7580000000000005,\n          4.35,\n          150.0\n        ],\n        \"semantic_type\": \"\",\n        \"description\": \"\"\n      }\n    },\n    {\n      \"column\": \"petal width (cm)\",\n      \"properties\": {\n        \"dtype\": \"number\",\n        \"std\": 52.63664824261751,\n        \"min\": 0.1,\n        \"max\": 150.0,\n        \"num_unique_values\": 8,\n        \"samples\": [\n          1.1993333333333336,\n          1.3,\n          150.0\n        ],\n        \"semantic_type\": \"\",\n        \"description\": \"\"\n      }\n    }\n  ]\n}"
            }
          },
          "metadata": {},
          "execution_count": 20
        }
      ],
      "source": [
        "iris_df.describe()"
      ]
    },
    {
      "cell_type": "markdown",
      "id": "f771f1b0",
      "metadata": {
        "id": "f771f1b0"
      },
      "source": [
        "A descrição contém o seguinte, linha a linha:\n",
        "\n",
        "- `count` é o número de valores numéricos. Será 150 para todas as colunas porque o *data frame* está totalmente preenchido por valores numéricos. Se houvesse valores ausentes, então algumas colunas teriam menos que 150 valores numéricos\n",
        "- `mean` é a média de cada coluna (atributo)\n",
        "- `std` é o desvio padrão\n",
        "- `min` é o menor valor de cada coluna\n",
        "- `25%` é o primeiro quartil\n",
        "- `50%` é a mediana\n",
        "- `75%` é o terceiro quartil\n",
        "- `max` é o maior valor de cada coluna\n",
        "\n",
        "São 8 linhas com descritores estatísticos. Eles podem ser bem úteis..."
      ]
    },
    {
      "cell_type": "markdown",
      "id": "3fd54eaa",
      "metadata": {
        "id": "3fd54eaa"
      },
      "source": [
        "...e no entanto, seria mais apropriado visualizar esse resultado separadamente para exemplos de cada classe. Isso pode ser feito se, primeiro, nós agruparmos as linhas do *data frame* por espécie.\n",
        "\n",
        "O método `groupby` faz isso. Ele retornar um objeto que representa um agrupamento e pode ser usado, por exemplo, para obtermos uma descrição estatística com `describe`.\n",
        "\n",
        "Se agruparmos o *data frame* anterior por espécie e, depois, gerarmos uma descrição estatística, o resultado será um *data frame*  que contém 3 linhas (uma para cada espécie) e 3×8 colunas (3 grupos dos 8 descritores estatísticos obtidos na célula acima). O melhor jeito de visualizar esse *data frame*  é \"rotacioná-lo\" (ou, melhor dizendo, transpô-lo)."
      ]
    },
    {
      "cell_type": "markdown",
      "id": "6e683210",
      "metadata": {
        "id": "6e683210"
      },
      "source": [
        "> **Execute a célula** a seguir para obter uma descrição estatística do *data frame* separadamente por classes."
      ]
    },
    {
      "cell_type": "code",
      "execution_count": null,
      "id": "21a21ac7",
      "metadata": {
        "colab": {
          "base_uri": "https://localhost:8080/",
          "height": 1000
        },
        "id": "21a21ac7",
        "outputId": "01fd2763-b7ce-4064-c509-d07e7f742ecb"
      },
      "outputs": [
        {
          "output_type": "execute_result",
          "data": {
            "text/plain": [
              "species                     setosa  versicolor  virginica\n",
              "sepal length (cm) count  50.000000   50.000000  50.000000\n",
              "                  mean    5.006000    5.936000   6.588000\n",
              "                  std     0.352490    0.516171   0.635880\n",
              "                  min     4.300000    4.900000   4.900000\n",
              "                  25%     4.800000    5.600000   6.225000\n",
              "                  50%     5.000000    5.900000   6.500000\n",
              "                  75%     5.200000    6.300000   6.900000\n",
              "                  max     5.800000    7.000000   7.900000\n",
              "sepal width (cm)  count  50.000000   50.000000  50.000000\n",
              "                  mean    3.428000    2.770000   2.974000\n",
              "                  std     0.379064    0.313798   0.322497\n",
              "                  min     2.300000    2.000000   2.200000\n",
              "                  25%     3.200000    2.525000   2.800000\n",
              "                  50%     3.400000    2.800000   3.000000\n",
              "                  75%     3.675000    3.000000   3.175000\n",
              "                  max     4.400000    3.400000   3.800000\n",
              "petal length (cm) count  50.000000   50.000000  50.000000\n",
              "                  mean    1.462000    4.260000   5.552000\n",
              "                  std     0.173664    0.469911   0.551895\n",
              "                  min     1.000000    3.000000   4.500000\n",
              "                  25%     1.400000    4.000000   5.100000\n",
              "                  50%     1.500000    4.350000   5.550000\n",
              "                  75%     1.575000    4.600000   5.875000\n",
              "                  max     1.900000    5.100000   6.900000\n",
              "petal width (cm)  count  50.000000   50.000000  50.000000\n",
              "                  mean    0.246000    1.326000   2.026000\n",
              "                  std     0.105386    0.197753   0.274650\n",
              "                  min     0.100000    1.000000   1.400000\n",
              "                  25%     0.200000    1.200000   1.800000\n",
              "                  50%     0.200000    1.300000   2.000000\n",
              "                  75%     0.300000    1.500000   2.300000\n",
              "                  max     0.600000    1.800000   2.500000"
            ],
            "text/html": [
              "\n",
              "  <div id=\"df-5f5b65ae-2b49-497f-84c0-cec0d8a9cdb6\" class=\"colab-df-container\">\n",
              "    <div>\n",
              "<style scoped>\n",
              "    .dataframe tbody tr th:only-of-type {\n",
              "        vertical-align: middle;\n",
              "    }\n",
              "\n",
              "    .dataframe tbody tr th {\n",
              "        vertical-align: top;\n",
              "    }\n",
              "\n",
              "    .dataframe thead th {\n",
              "        text-align: right;\n",
              "    }\n",
              "</style>\n",
              "<table border=\"1\" class=\"dataframe\">\n",
              "  <thead>\n",
              "    <tr style=\"text-align: right;\">\n",
              "      <th></th>\n",
              "      <th>species</th>\n",
              "      <th>setosa</th>\n",
              "      <th>versicolor</th>\n",
              "      <th>virginica</th>\n",
              "    </tr>\n",
              "  </thead>\n",
              "  <tbody>\n",
              "    <tr>\n",
              "      <th rowspan=\"8\" valign=\"top\">sepal length (cm)</th>\n",
              "      <th>count</th>\n",
              "      <td>50.000000</td>\n",
              "      <td>50.000000</td>\n",
              "      <td>50.000000</td>\n",
              "    </tr>\n",
              "    <tr>\n",
              "      <th>mean</th>\n",
              "      <td>5.006000</td>\n",
              "      <td>5.936000</td>\n",
              "      <td>6.588000</td>\n",
              "    </tr>\n",
              "    <tr>\n",
              "      <th>std</th>\n",
              "      <td>0.352490</td>\n",
              "      <td>0.516171</td>\n",
              "      <td>0.635880</td>\n",
              "    </tr>\n",
              "    <tr>\n",
              "      <th>min</th>\n",
              "      <td>4.300000</td>\n",
              "      <td>4.900000</td>\n",
              "      <td>4.900000</td>\n",
              "    </tr>\n",
              "    <tr>\n",
              "      <th>25%</th>\n",
              "      <td>4.800000</td>\n",
              "      <td>5.600000</td>\n",
              "      <td>6.225000</td>\n",
              "    </tr>\n",
              "    <tr>\n",
              "      <th>50%</th>\n",
              "      <td>5.000000</td>\n",
              "      <td>5.900000</td>\n",
              "      <td>6.500000</td>\n",
              "    </tr>\n",
              "    <tr>\n",
              "      <th>75%</th>\n",
              "      <td>5.200000</td>\n",
              "      <td>6.300000</td>\n",
              "      <td>6.900000</td>\n",
              "    </tr>\n",
              "    <tr>\n",
              "      <th>max</th>\n",
              "      <td>5.800000</td>\n",
              "      <td>7.000000</td>\n",
              "      <td>7.900000</td>\n",
              "    </tr>\n",
              "    <tr>\n",
              "      <th rowspan=\"8\" valign=\"top\">sepal width (cm)</th>\n",
              "      <th>count</th>\n",
              "      <td>50.000000</td>\n",
              "      <td>50.000000</td>\n",
              "      <td>50.000000</td>\n",
              "    </tr>\n",
              "    <tr>\n",
              "      <th>mean</th>\n",
              "      <td>3.428000</td>\n",
              "      <td>2.770000</td>\n",
              "      <td>2.974000</td>\n",
              "    </tr>\n",
              "    <tr>\n",
              "      <th>std</th>\n",
              "      <td>0.379064</td>\n",
              "      <td>0.313798</td>\n",
              "      <td>0.322497</td>\n",
              "    </tr>\n",
              "    <tr>\n",
              "      <th>min</th>\n",
              "      <td>2.300000</td>\n",
              "      <td>2.000000</td>\n",
              "      <td>2.200000</td>\n",
              "    </tr>\n",
              "    <tr>\n",
              "      <th>25%</th>\n",
              "      <td>3.200000</td>\n",
              "      <td>2.525000</td>\n",
              "      <td>2.800000</td>\n",
              "    </tr>\n",
              "    <tr>\n",
              "      <th>50%</th>\n",
              "      <td>3.400000</td>\n",
              "      <td>2.800000</td>\n",
              "      <td>3.000000</td>\n",
              "    </tr>\n",
              "    <tr>\n",
              "      <th>75%</th>\n",
              "      <td>3.675000</td>\n",
              "      <td>3.000000</td>\n",
              "      <td>3.175000</td>\n",
              "    </tr>\n",
              "    <tr>\n",
              "      <th>max</th>\n",
              "      <td>4.400000</td>\n",
              "      <td>3.400000</td>\n",
              "      <td>3.800000</td>\n",
              "    </tr>\n",
              "    <tr>\n",
              "      <th rowspan=\"8\" valign=\"top\">petal length (cm)</th>\n",
              "      <th>count</th>\n",
              "      <td>50.000000</td>\n",
              "      <td>50.000000</td>\n",
              "      <td>50.000000</td>\n",
              "    </tr>\n",
              "    <tr>\n",
              "      <th>mean</th>\n",
              "      <td>1.462000</td>\n",
              "      <td>4.260000</td>\n",
              "      <td>5.552000</td>\n",
              "    </tr>\n",
              "    <tr>\n",
              "      <th>std</th>\n",
              "      <td>0.173664</td>\n",
              "      <td>0.469911</td>\n",
              "      <td>0.551895</td>\n",
              "    </tr>\n",
              "    <tr>\n",
              "      <th>min</th>\n",
              "      <td>1.000000</td>\n",
              "      <td>3.000000</td>\n",
              "      <td>4.500000</td>\n",
              "    </tr>\n",
              "    <tr>\n",
              "      <th>25%</th>\n",
              "      <td>1.400000</td>\n",
              "      <td>4.000000</td>\n",
              "      <td>5.100000</td>\n",
              "    </tr>\n",
              "    <tr>\n",
              "      <th>50%</th>\n",
              "      <td>1.500000</td>\n",
              "      <td>4.350000</td>\n",
              "      <td>5.550000</td>\n",
              "    </tr>\n",
              "    <tr>\n",
              "      <th>75%</th>\n",
              "      <td>1.575000</td>\n",
              "      <td>4.600000</td>\n",
              "      <td>5.875000</td>\n",
              "    </tr>\n",
              "    <tr>\n",
              "      <th>max</th>\n",
              "      <td>1.900000</td>\n",
              "      <td>5.100000</td>\n",
              "      <td>6.900000</td>\n",
              "    </tr>\n",
              "    <tr>\n",
              "      <th rowspan=\"8\" valign=\"top\">petal width (cm)</th>\n",
              "      <th>count</th>\n",
              "      <td>50.000000</td>\n",
              "      <td>50.000000</td>\n",
              "      <td>50.000000</td>\n",
              "    </tr>\n",
              "    <tr>\n",
              "      <th>mean</th>\n",
              "      <td>0.246000</td>\n",
              "      <td>1.326000</td>\n",
              "      <td>2.026000</td>\n",
              "    </tr>\n",
              "    <tr>\n",
              "      <th>std</th>\n",
              "      <td>0.105386</td>\n",
              "      <td>0.197753</td>\n",
              "      <td>0.274650</td>\n",
              "    </tr>\n",
              "    <tr>\n",
              "      <th>min</th>\n",
              "      <td>0.100000</td>\n",
              "      <td>1.000000</td>\n",
              "      <td>1.400000</td>\n",
              "    </tr>\n",
              "    <tr>\n",
              "      <th>25%</th>\n",
              "      <td>0.200000</td>\n",
              "      <td>1.200000</td>\n",
              "      <td>1.800000</td>\n",
              "    </tr>\n",
              "    <tr>\n",
              "      <th>50%</th>\n",
              "      <td>0.200000</td>\n",
              "      <td>1.300000</td>\n",
              "      <td>2.000000</td>\n",
              "    </tr>\n",
              "    <tr>\n",
              "      <th>75%</th>\n",
              "      <td>0.300000</td>\n",
              "      <td>1.500000</td>\n",
              "      <td>2.300000</td>\n",
              "    </tr>\n",
              "    <tr>\n",
              "      <th>max</th>\n",
              "      <td>0.600000</td>\n",
              "      <td>1.800000</td>\n",
              "      <td>2.500000</td>\n",
              "    </tr>\n",
              "  </tbody>\n",
              "</table>\n",
              "</div>\n",
              "    <div class=\"colab-df-buttons\">\n",
              "\n",
              "  <div class=\"colab-df-container\">\n",
              "    <button class=\"colab-df-convert\" onclick=\"convertToInteractive('df-5f5b65ae-2b49-497f-84c0-cec0d8a9cdb6')\"\n",
              "            title=\"Convert this dataframe to an interactive table.\"\n",
              "            style=\"display:none;\">\n",
              "\n",
              "  <svg xmlns=\"http://www.w3.org/2000/svg\" height=\"24px\" viewBox=\"0 -960 960 960\">\n",
              "    <path d=\"M120-120v-720h720v720H120Zm60-500h600v-160H180v160Zm220 220h160v-160H400v160Zm0 220h160v-160H400v160ZM180-400h160v-160H180v160Zm440 0h160v-160H620v160ZM180-180h160v-160H180v160Zm440 0h160v-160H620v160Z\"/>\n",
              "  </svg>\n",
              "    </button>\n",
              "\n",
              "  <style>\n",
              "    .colab-df-container {\n",
              "      display:flex;\n",
              "      gap: 12px;\n",
              "    }\n",
              "\n",
              "    .colab-df-convert {\n",
              "      background-color: #E8F0FE;\n",
              "      border: none;\n",
              "      border-radius: 50%;\n",
              "      cursor: pointer;\n",
              "      display: none;\n",
              "      fill: #1967D2;\n",
              "      height: 32px;\n",
              "      padding: 0 0 0 0;\n",
              "      width: 32px;\n",
              "    }\n",
              "\n",
              "    .colab-df-convert:hover {\n",
              "      background-color: #E2EBFA;\n",
              "      box-shadow: 0px 1px 2px rgba(60, 64, 67, 0.3), 0px 1px 3px 1px rgba(60, 64, 67, 0.15);\n",
              "      fill: #174EA6;\n",
              "    }\n",
              "\n",
              "    .colab-df-buttons div {\n",
              "      margin-bottom: 4px;\n",
              "    }\n",
              "\n",
              "    [theme=dark] .colab-df-convert {\n",
              "      background-color: #3B4455;\n",
              "      fill: #D2E3FC;\n",
              "    }\n",
              "\n",
              "    [theme=dark] .colab-df-convert:hover {\n",
              "      background-color: #434B5C;\n",
              "      box-shadow: 0px 1px 3px 1px rgba(0, 0, 0, 0.15);\n",
              "      filter: drop-shadow(0px 1px 2px rgba(0, 0, 0, 0.3));\n",
              "      fill: #FFFFFF;\n",
              "    }\n",
              "  </style>\n",
              "\n",
              "    <script>\n",
              "      const buttonEl =\n",
              "        document.querySelector('#df-5f5b65ae-2b49-497f-84c0-cec0d8a9cdb6 button.colab-df-convert');\n",
              "      buttonEl.style.display =\n",
              "        google.colab.kernel.accessAllowed ? 'block' : 'none';\n",
              "\n",
              "      async function convertToInteractive(key) {\n",
              "        const element = document.querySelector('#df-5f5b65ae-2b49-497f-84c0-cec0d8a9cdb6');\n",
              "        const dataTable =\n",
              "          await google.colab.kernel.invokeFunction('convertToInteractive',\n",
              "                                                    [key], {});\n",
              "        if (!dataTable) return;\n",
              "\n",
              "        const docLinkHtml = 'Like what you see? Visit the ' +\n",
              "          '<a target=\"_blank\" href=https://colab.research.google.com/notebooks/data_table.ipynb>data table notebook</a>'\n",
              "          + ' to learn more about interactive tables.';\n",
              "        element.innerHTML = '';\n",
              "        dataTable['output_type'] = 'display_data';\n",
              "        await google.colab.output.renderOutput(dataTable, element);\n",
              "        const docLink = document.createElement('div');\n",
              "        docLink.innerHTML = docLinkHtml;\n",
              "        element.appendChild(docLink);\n",
              "      }\n",
              "    </script>\n",
              "  </div>\n",
              "\n",
              "\n",
              "<div id=\"df-82e014b9-05db-46e9-941e-9d9aaaa4e381\">\n",
              "  <button class=\"colab-df-quickchart\" onclick=\"quickchart('df-82e014b9-05db-46e9-941e-9d9aaaa4e381')\"\n",
              "            title=\"Suggest charts\"\n",
              "            style=\"display:none;\">\n",
              "\n",
              "<svg xmlns=\"http://www.w3.org/2000/svg\" height=\"24px\"viewBox=\"0 0 24 24\"\n",
              "     width=\"24px\">\n",
              "    <g>\n",
              "        <path d=\"M19 3H5c-1.1 0-2 .9-2 2v14c0 1.1.9 2 2 2h14c1.1 0 2-.9 2-2V5c0-1.1-.9-2-2-2zM9 17H7v-7h2v7zm4 0h-2V7h2v10zm4 0h-2v-4h2v4z\"/>\n",
              "    </g>\n",
              "</svg>\n",
              "  </button>\n",
              "\n",
              "<style>\n",
              "  .colab-df-quickchart {\n",
              "      --bg-color: #E8F0FE;\n",
              "      --fill-color: #1967D2;\n",
              "      --hover-bg-color: #E2EBFA;\n",
              "      --hover-fill-color: #174EA6;\n",
              "      --disabled-fill-color: #AAA;\n",
              "      --disabled-bg-color: #DDD;\n",
              "  }\n",
              "\n",
              "  [theme=dark] .colab-df-quickchart {\n",
              "      --bg-color: #3B4455;\n",
              "      --fill-color: #D2E3FC;\n",
              "      --hover-bg-color: #434B5C;\n",
              "      --hover-fill-color: #FFFFFF;\n",
              "      --disabled-bg-color: #3B4455;\n",
              "      --disabled-fill-color: #666;\n",
              "  }\n",
              "\n",
              "  .colab-df-quickchart {\n",
              "    background-color: var(--bg-color);\n",
              "    border: none;\n",
              "    border-radius: 50%;\n",
              "    cursor: pointer;\n",
              "    display: none;\n",
              "    fill: var(--fill-color);\n",
              "    height: 32px;\n",
              "    padding: 0;\n",
              "    width: 32px;\n",
              "  }\n",
              "\n",
              "  .colab-df-quickchart:hover {\n",
              "    background-color: var(--hover-bg-color);\n",
              "    box-shadow: 0 1px 2px rgba(60, 64, 67, 0.3), 0 1px 3px 1px rgba(60, 64, 67, 0.15);\n",
              "    fill: var(--button-hover-fill-color);\n",
              "  }\n",
              "\n",
              "  .colab-df-quickchart-complete:disabled,\n",
              "  .colab-df-quickchart-complete:disabled:hover {\n",
              "    background-color: var(--disabled-bg-color);\n",
              "    fill: var(--disabled-fill-color);\n",
              "    box-shadow: none;\n",
              "  }\n",
              "\n",
              "  .colab-df-spinner {\n",
              "    border: 2px solid var(--fill-color);\n",
              "    border-color: transparent;\n",
              "    border-bottom-color: var(--fill-color);\n",
              "    animation:\n",
              "      spin 1s steps(1) infinite;\n",
              "  }\n",
              "\n",
              "  @keyframes spin {\n",
              "    0% {\n",
              "      border-color: transparent;\n",
              "      border-bottom-color: var(--fill-color);\n",
              "      border-left-color: var(--fill-color);\n",
              "    }\n",
              "    20% {\n",
              "      border-color: transparent;\n",
              "      border-left-color: var(--fill-color);\n",
              "      border-top-color: var(--fill-color);\n",
              "    }\n",
              "    30% {\n",
              "      border-color: transparent;\n",
              "      border-left-color: var(--fill-color);\n",
              "      border-top-color: var(--fill-color);\n",
              "      border-right-color: var(--fill-color);\n",
              "    }\n",
              "    40% {\n",
              "      border-color: transparent;\n",
              "      border-right-color: var(--fill-color);\n",
              "      border-top-color: var(--fill-color);\n",
              "    }\n",
              "    60% {\n",
              "      border-color: transparent;\n",
              "      border-right-color: var(--fill-color);\n",
              "    }\n",
              "    80% {\n",
              "      border-color: transparent;\n",
              "      border-right-color: var(--fill-color);\n",
              "      border-bottom-color: var(--fill-color);\n",
              "    }\n",
              "    90% {\n",
              "      border-color: transparent;\n",
              "      border-bottom-color: var(--fill-color);\n",
              "    }\n",
              "  }\n",
              "</style>\n",
              "\n",
              "  <script>\n",
              "    async function quickchart(key) {\n",
              "      const quickchartButtonEl =\n",
              "        document.querySelector('#' + key + ' button');\n",
              "      quickchartButtonEl.disabled = true;  // To prevent multiple clicks.\n",
              "      quickchartButtonEl.classList.add('colab-df-spinner');\n",
              "      try {\n",
              "        const charts = await google.colab.kernel.invokeFunction(\n",
              "            'suggestCharts', [key], {});\n",
              "      } catch (error) {\n",
              "        console.error('Error during call to suggestCharts:', error);\n",
              "      }\n",
              "      quickchartButtonEl.classList.remove('colab-df-spinner');\n",
              "      quickchartButtonEl.classList.add('colab-df-quickchart-complete');\n",
              "    }\n",
              "    (() => {\n",
              "      let quickchartButtonEl =\n",
              "        document.querySelector('#df-82e014b9-05db-46e9-941e-9d9aaaa4e381 button');\n",
              "      quickchartButtonEl.style.display =\n",
              "        google.colab.kernel.accessAllowed ? 'block' : 'none';\n",
              "    })();\n",
              "  </script>\n",
              "</div>\n",
              "    </div>\n",
              "  </div>\n"
            ],
            "application/vnd.google.colaboratory.intrinsic+json": {
              "type": "dataframe",
              "summary": "{\n  \"name\": \"iris_df\",\n  \"rows\": 32,\n  \"fields\": [\n    {\n      \"column\": \"setosa\",\n      \"properties\": {\n        \"dtype\": \"number\",\n        \"std\": 16.15764774403436,\n        \"min\": 0.1,\n        \"max\": 50.0,\n        \"num_unique_values\": 28,\n        \"samples\": [\n          0.3790643690962887,\n          0.2,\n          3.428\n        ],\n        \"semantic_type\": \"\",\n        \"description\": \"\"\n      }\n    },\n    {\n      \"column\": \"versicolor\",\n      \"properties\": {\n        \"dtype\": \"number\",\n        \"std\": 15.869027537147259,\n        \"min\": 0.19775268000454405,\n        \"max\": 50.0,\n        \"num_unique_values\": 28,\n        \"samples\": [\n          0.3137983233784114,\n          1.3,\n          2.7700000000000005\n        ],\n        \"semantic_type\": \"\",\n        \"description\": \"\"\n      }\n    },\n    {\n      \"column\": \"virginica\",\n      \"properties\": {\n        \"dtype\": \"number\",\n        \"std\": 15.69515344526639,\n        \"min\": 0.2746500556366674,\n        \"max\": 50.0,\n        \"num_unique_values\": 28,\n        \"samples\": [\n          0.32249663817263746,\n          2.0,\n          2.974\n        ],\n        \"semantic_type\": \"\",\n        \"description\": \"\"\n      }\n    }\n  ]\n}"
            }
          },
          "metadata": {},
          "execution_count": 21
        }
      ],
      "source": [
        "iris_df.groupby('species').describe().T"
      ]
    },
    {
      "cell_type": "markdown",
      "id": "5fe0f254",
      "metadata": {
        "id": "5fe0f254"
      },
      "source": [
        "Você consegue perceber que esse conjunto é relativente \"fácil\"?"
      ]
    },
    {
      "cell_type": "markdown",
      "id": "2161a75d",
      "metadata": {
        "id": "2161a75d"
      },
      "source": [
        "Talvez fique mais evidente com um diagrama."
      ]
    },
    {
      "cell_type": "markdown",
      "id": "a0539fa6",
      "metadata": {
        "id": "a0539fa6"
      },
      "source": [
        "> **Execute a célula** abaixo para gerar um *pairplot* da base `Iris`."
      ]
    },
    {
      "cell_type": "code",
      "execution_count": null,
      "id": "6f5118b5",
      "metadata": {
        "colab": {
          "base_uri": "https://localhost:8080/",
          "height": 1000
        },
        "id": "6f5118b5",
        "outputId": "0db8e8e0-d356-42c3-9a79-4abe2c1d3827"
      },
      "outputs": [
        {
          "output_type": "display_data",
          "data": {
            "text/plain": [
              "<Figure size 1130x1000 with 20 Axes>"
            ],
            "image/png": "[encoded data removed]"
          },
          "metadata": {}
        }
      ],
      "source": [
        "sns.pairplot(iris_df, hue='species');"
      ]
    },
    {
      "cell_type": "markdown",
      "id": "cf29f065",
      "metadata": {
        "id": "cf29f065"
      },
      "source": [
        "Um *pairplot* é uma coleção de gráficos de espalhamento dos exemplos de uma base. Associado ao parâmetro `hue=species`, o Seaborn é capaz de gerar um conjunto de gráficos destacando quais exemplos pertencem a quais classes."
      ]
    },
    {
      "cell_type": "markdown",
      "id": "1a4cea08",
      "metadata": {
        "id": "1a4cea08"
      },
      "source": [
        "Na diagonal do *pairplot*, temos histogramas dos atributos. Considere, por exemplo, o histograma de *petal width (cm)*. Ele deve se parecer com o seguinte:"
      ]
    },
    {
      "cell_type": "markdown",
      "id": "130e7b40",
      "metadata": {
        "id": "130e7b40"
      },
      "source": [
        "![image.png](data:image/png;base64,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)"
      ]
    },
    {
      "cell_type": "markdown",
      "id": "5b1a941c",
      "metadata": {
        "id": "5b1a941c"
      },
      "source": [
        "A altura do histograma tem relação com a contagem de exemplos que possuem aquele valor. Existe uma clara separação entre a curva azul e as demais, com um pico bem distinto em torno do valor 0,2. A maior largura de pétala dentre todas as flores Setosa (azul) é menor que todas as larguras de pétala de todas as outras."
      ]
    },
    {
      "cell_type": "code",
      "execution_count": null,
      "id": "6e4c9185",
      "metadata": {
        "colab": {
          "base_uri": "https://localhost:8080/"
        },
        "id": "6e4c9185",
        "outputId": "0829d87f-4d9c-4e62-dfb6-23b28a7adf5f"
      },
      "outputs": [
        {
          "output_type": "execute_result",
          "data": {
            "text/plain": [
              "0.6"
            ]
          },
          "metadata": {},
          "execution_count": 23
        }
      ],
      "source": [
        "iris_df.loc[iris_df['species'] == 'setosa', 'petal width (cm)'].max()"
      ]
    },
    {
      "cell_type": "code",
      "execution_count": null,
      "id": "68124ce6",
      "metadata": {
        "colab": {
          "base_uri": "https://localhost:8080/"
        },
        "id": "68124ce6",
        "outputId": "fb3eaef6-d70b-4518-b1f7-23616f1936a9"
      },
      "outputs": [
        {
          "output_type": "execute_result",
          "data": {
            "text/plain": [
              "(1.0, 1.4)"
            ]
          },
          "metadata": {},
          "execution_count": 24
        }
      ],
      "source": [
        "(iris_df.loc[iris_df['species'] == 'versicolor', 'petal width (cm)'].min(),\n",
        "     iris_df.loc[iris_df['species'] == 'virginica', 'petal width (cm)'].min())"
      ]
    },
    {
      "cell_type": "code",
      "execution_count": null,
      "id": "85c19b3b",
      "metadata": {
        "colab": {
          "base_uri": "https://localhost:8080/"
        },
        "id": "85c19b3b",
        "outputId": "1d24ad69-6133-4bc4-adeb-858c6ec89f50"
      },
      "outputs": [
        {
          "output_type": "execute_result",
          "data": {
            "text/plain": [
              "['sepal length (cm)',\n",
              " 'sepal width (cm)',\n",
              " 'petal length (cm)',\n",
              " 'petal width (cm)']"
            ]
          },
          "metadata": {},
          "execution_count": 25
        }
      ],
      "source": [
        "iris.feature_names"
      ]
    },
    {
      "cell_type": "code",
      "execution_count": null,
      "id": "60b79bd1",
      "metadata": {
        "colab": {
          "base_uri": "https://localhost:8080/"
        },
        "id": "60b79bd1",
        "outputId": "ea1589a2-d552-4d7e-a430-23ffb83565fe"
      },
      "outputs": [
        {
          "output_type": "execute_result",
          "data": {
            "text/plain": [
              "array([[5.1, 3.5, 1.4, 0.2],\n",
              "       [4.9, 3. , 1.4, 0.2],\n",
              "       [4.7, 3.2, 1.3, 0.2],\n",
              "       [4.6, 3.1, 1.5, 0.2],\n",
              "       [5. , 3.6, 1.4, 0.2],\n",
              "       [5.4, 3.9, 1.7, 0.4],\n",
              "       [4.6, 3.4, 1.4, 0.3],\n",
              "       [5. , 3.4, 1.5, 0.2],\n",
              "       [4.4, 2.9, 1.4, 0.2],\n",
              "       [4.9, 3.1, 1.5, 0.1],\n",
              "       [5.4, 3.7, 1.5, 0.2],\n",
              "       [4.8, 3.4, 1.6, 0.2],\n",
              "       [4.8, 3. , 1.4, 0.1],\n",
              "       [4.3, 3. , 1.1, 0.1],\n",
              "       [5.8, 4. , 1.2, 0.2],\n",
              "       [5.7, 4.4, 1.5, 0.4],\n",
              "       [5.4, 3.9, 1.3, 0.4],\n",
              "       [5.1, 3.5, 1.4, 0.3],\n",
              "       [5.7, 3.8, 1.7, 0.3],\n",
              "       [5.1, 3.8, 1.5, 0.3],\n",
              "       [5.4, 3.4, 1.7, 0.2],\n",
              "       [5.1, 3.7, 1.5, 0.4],\n",
              "       [4.6, 3.6, 1. , 0.2],\n",
              "       [5.1, 3.3, 1.7, 0.5],\n",
              "       [4.8, 3.4, 1.9, 0.2],\n",
              "       [5. , 3. , 1.6, 0.2],\n",
              "       [5. , 3.4, 1.6, 0.4],\n",
              "       [5.2, 3.5, 1.5, 0.2],\n",
              "       [5.2, 3.4, 1.4, 0.2],\n",
              "       [4.7, 3.2, 1.6, 0.2],\n",
              "       [4.8, 3.1, 1.6, 0.2],\n",
              "       [5.4, 3.4, 1.5, 0.4],\n",
              "       [5.2, 4.1, 1.5, 0.1],\n",
              "       [5.5, 4.2, 1.4, 0.2],\n",
              "       [4.9, 3.1, 1.5, 0.2],\n",
              "       [5. , 3.2, 1.2, 0.2],\n",
              "       [5.5, 3.5, 1.3, 0.2],\n",
              "       [4.9, 3.6, 1.4, 0.1],\n",
              "       [4.4, 3. , 1.3, 0.2],\n",
              "       [5.1, 3.4, 1.5, 0.2],\n",
              "       [5. , 3.5, 1.3, 0.3],\n",
              "       [4.5, 2.3, 1.3, 0.3],\n",
              "       [4.4, 3.2, 1.3, 0.2],\n",
              "       [5. , 3.5, 1.6, 0.6],\n",
              "       [5.1, 3.8, 1.9, 0.4],\n",
              "       [4.8, 3. , 1.4, 0.3],\n",
              "       [5.1, 3.8, 1.6, 0.2],\n",
              "       [4.6, 3.2, 1.4, 0.2],\n",
              "       [5.3, 3.7, 1.5, 0.2],\n",
              "       [5. , 3.3, 1.4, 0.2],\n",
              "       [7. , 3.2, 4.7, 1.4],\n",
              "       [6.4, 3.2, 4.5, 1.5],\n",
              "       [6.9, 3.1, 4.9, 1.5],\n",
              "       [5.5, 2.3, 4. , 1.3],\n",
              "       [6.5, 2.8, 4.6, 1.5],\n",
              "       [5.7, 2.8, 4.5, 1.3],\n",
              "       [6.3, 3.3, 4.7, 1.6],\n",
              "       [4.9, 2.4, 3.3, 1. ],\n",
              "       [6.6, 2.9, 4.6, 1.3],\n",
              "       [5.2, 2.7, 3.9, 1.4],\n",
              "       [5. , 2. , 3.5, 1. ],\n",
              "       [5.9, 3. , 4.2, 1.5],\n",
              "       [6. , 2.2, 4. , 1. ],\n",
              "       [6.1, 2.9, 4.7, 1.4],\n",
              "       [5.6, 2.9, 3.6, 1.3],\n",
              "       [6.7, 3.1, 4.4, 1.4],\n",
              "       [5.6, 3. , 4.5, 1.5],\n",
              "       [5.8, 2.7, 4.1, 1. ],\n",
              "       [6.2, 2.2, 4.5, 1.5],\n",
              "       [5.6, 2.5, 3.9, 1.1],\n",
              "       [5.9, 3.2, 4.8, 1.8],\n",
              "       [6.1, 2.8, 4. , 1.3],\n",
              "       [6.3, 2.5, 4.9, 1.5],\n",
              "       [6.1, 2.8, 4.7, 1.2],\n",
              "       [6.4, 2.9, 4.3, 1.3],\n",
              "       [6.6, 3. , 4.4, 1.4],\n",
              "       [6.8, 2.8, 4.8, 1.4],\n",
              "       [6.7, 3. , 5. , 1.7],\n",
              "       [6. , 2.9, 4.5, 1.5],\n",
              "       [5.7, 2.6, 3.5, 1. ],\n",
              "       [5.5, 2.4, 3.8, 1.1],\n",
              "       [5.5, 2.4, 3.7, 1. ],\n",
              "       [5.8, 2.7, 3.9, 1.2],\n",
              "       [6. , 2.7, 5.1, 1.6],\n",
              "       [5.4, 3. , 4.5, 1.5],\n",
              "       [6. , 3.4, 4.5, 1.6],\n",
              "       [6.7, 3.1, 4.7, 1.5],\n",
              "       [6.3, 2.3, 4.4, 1.3],\n",
              "       [5.6, 3. , 4.1, 1.3],\n",
              "       [5.5, 2.5, 4. , 1.3],\n",
              "       [5.5, 2.6, 4.4, 1.2],\n",
              "       [6.1, 3. , 4.6, 1.4],\n",
              "       [5.8, 2.6, 4. , 1.2],\n",
              "       [5. , 2.3, 3.3, 1. ],\n",
              "       [5.6, 2.7, 4.2, 1.3],\n",
              "       [5.7, 3. , 4.2, 1.2],\n",
              "       [5.7, 2.9, 4.2, 1.3],\n",
              "       [6.2, 2.9, 4.3, 1.3],\n",
              "       [5.1, 2.5, 3. , 1.1],\n",
              "       [5.7, 2.8, 4.1, 1.3],\n",
              "       [6.3, 3.3, 6. , 2.5],\n",
              "       [5.8, 2.7, 5.1, 1.9],\n",
              "       [7.1, 3. , 5.9, 2.1],\n",
              "       [6.3, 2.9, 5.6, 1.8],\n",
              "       [6.5, 3. , 5.8, 2.2],\n",
              "       [7.6, 3. , 6.6, 2.1],\n",
              "       [4.9, 2.5, 4.5, 1.7],\n",
              "       [7.3, 2.9, 6.3, 1.8],\n",
              "       [6.7, 2.5, 5.8, 1.8],\n",
              "       [7.2, 3.6, 6.1, 2.5],\n",
              "       [6.5, 3.2, 5.1, 2. ],\n",
              "       [6.4, 2.7, 5.3, 1.9],\n",
              "       [6.8, 3. , 5.5, 2.1],\n",
              "       [5.7, 2.5, 5. , 2. ],\n",
              "       [5.8, 2.8, 5.1, 2.4],\n",
              "       [6.4, 3.2, 5.3, 2.3],\n",
              "       [6.5, 3. , 5.5, 1.8],\n",
              "       [7.7, 3.8, 6.7, 2.2],\n",
              "       [7.7, 2.6, 6.9, 2.3],\n",
              "       [6. , 2.2, 5. , 1.5],\n",
              "       [6.9, 3.2, 5.7, 2.3],\n",
              "       [5.6, 2.8, 4.9, 2. ],\n",
              "       [7.7, 2.8, 6.7, 2. ],\n",
              "       [6.3, 2.7, 4.9, 1.8],\n",
              "       [6.7, 3.3, 5.7, 2.1],\n",
              "       [7.2, 3.2, 6. , 1.8],\n",
              "       [6.2, 2.8, 4.8, 1.8],\n",
              "       [6.1, 3. , 4.9, 1.8],\n",
              "       [6.4, 2.8, 5.6, 2.1],\n",
              "       [7.2, 3. , 5.8, 1.6],\n",
              "       [7.4, 2.8, 6.1, 1.9],\n",
              "       [7.9, 3.8, 6.4, 2. ],\n",
              "       [6.4, 2.8, 5.6, 2.2],\n",
              "       [6.3, 2.8, 5.1, 1.5],\n",
              "       [6.1, 2.6, 5.6, 1.4],\n",
              "       [7.7, 3. , 6.1, 2.3],\n",
              "       [6.3, 3.4, 5.6, 2.4],\n",
              "       [6.4, 3.1, 5.5, 1.8],\n",
              "       [6. , 3. , 4.8, 1.8],\n",
              "       [6.9, 3.1, 5.4, 2.1],\n",
              "       [6.7, 3.1, 5.6, 2.4],\n",
              "       [6.9, 3.1, 5.1, 2.3],\n",
              "       [5.8, 2.7, 5.1, 1.9],\n",
              "       [6.8, 3.2, 5.9, 2.3],\n",
              "       [6.7, 3.3, 5.7, 2.5],\n",
              "       [6.7, 3. , 5.2, 2.3],\n",
              "       [6.3, 2.5, 5. , 1.9],\n",
              "       [6.5, 3. , 5.2, 2. ],\n",
              "       [6.2, 3.4, 5.4, 2.3],\n",
              "       [5.9, 3. , 5.1, 1.8]])"
            ]
          },
          "metadata": {},
          "execution_count": 26
        }
      ],
      "source": [
        "iris.data"
      ]
    },
    {
      "cell_type": "markdown",
      "id": "98a024fe",
      "metadata": {
        "id": "98a024fe"
      },
      "source": [
        "Isso significa que, usando um único atributo, seria possível separar (classificar) corretamente todos os exemplos da classe Setosa. Ainda seria necessário separar Versicolor de Virginica, mas já é um começo.\n",
        "\n",
        "Você pode tentar fazer isso manualmente. Analise os gráficos e tente escolher, manualmente, uma regra para classificar exemplos das flores. Sua regra deve ter a forma `if..else` e fazer referência a um ou mais atributos das flores, comparando com valores fixos.\n",
        "\n",
        "Por exemplo:\n",
        "\n",
        "```Python\n",
        "def clf_manual(x):\n",
        "    if x[3] < 0.8:\n",
        "        # Se \"petal width < 0.8\", então o\n",
        "        # exemplo x é da classe setosa\n",
        "        return 0\n",
        "    elif np.random.rand() < 0.5:\n",
        "        # Senão, classifica com 50% como versicolor...\n",
        "        return 1\n",
        "    else:\n",
        "        # E com 50% de chance como virginica\n",
        "        return 2\n",
        "```"
      ]
    },
    {
      "cell_type": "markdown",
      "id": "c158d0f1",
      "metadata": {
        "id": "c158d0f1"
      },
      "source": [
        "> **Escreva sua função** `clf_manual` que recebe como entrada um vetor NumPy representando os quatro valores dos atributos de uma flor e devolve `0`, `1` ou `2`, representando a classe predita para esse exemplo."
      ]
    },
    {
      "cell_type": "code",
      "execution_count": null,
      "id": "14a80375",
      "metadata": {
        "id": "14a80375"
      },
      "outputs": [],
      "source": [
        "def clf_manual(x):\n",
        "    if x[2] < 2.5: # comprimento da pétala menor que 2.5 cm\n",
        "      return 0\n",
        "    elif x[3] < 1.7: # largura da pétala menor 1.7 cm\n",
        "      return 1\n",
        "    return 2"
      ]
    },
    {
      "cell_type": "markdown",
      "id": "a25eede1",
      "metadata": {
        "id": "a25eede1"
      },
      "source": [
        "> **Quando sua função estiver pronta**, execute a célula abaixo para calcular a acurácia do seu classificador."
      ]
    },
    {
      "cell_type": "code",
      "execution_count": null,
      "id": "3057bd6f",
      "metadata": {
        "colab": {
          "base_uri": "https://localhost:8080/"
        },
        "id": "3057bd6f",
        "outputId": "0618dd8a-bbbd-48bd-a436-a0d04717d202"
      },
      "outputs": [
        {
          "output_type": "stream",
          "name": "stdout",
          "text": [
            "Acurácia do seu classificador: 96.00%\n"
          ]
        }
      ],
      "source": [
        "if type(clf_manual(iris.data[0])) != int:\n",
        "    print(\"Sua função não retornou um tipo de dado esperado.\")\n",
        "    print(\"Sua função deve retornar um inteiro com valor 0, 1 ou 2.\")\n",
        "    print(\"0 - se o exemplo a ser classificado for setosa.\")\n",
        "    print(\"1 - se o exemplo a ser classificado for versicolor.\")\n",
        "    print(\"2 - se o exemplo a ser classificado for virginica.\")\n",
        "else:\n",
        "    y_pred = []\n",
        "    for x in iris.data:\n",
        "        y_pred.append(clf_manual(x))\n",
        "\n",
        "    print(f\"Acurácia do seu classificador: {100 * accuracy_score(iris.target, y_pred):.2f}%\")"
      ]
    },
    {
      "cell_type": "markdown",
      "id": "6aac0924",
      "metadata": {
        "id": "6aac0924"
      },
      "source": [
        "Com pouco esforço, você deve conseguir aproximadamente 95% de acurácia."
      ]
    },
    {
      "cell_type": "markdown",
      "id": "39db22ae",
      "metadata": {
        "id": "39db22ae"
      },
      "source": [
        "### Comparando classificadores"
      ]
    },
    {
      "cell_type": "markdown",
      "id": "5d1d54b9",
      "metadata": {
        "id": "5d1d54b9"
      },
      "source": [
        "Vamos testar dois classificadores na base `Iris`:\n",
        "\n",
        "- k-Vizinhos mais Próximos\n",
        "- Árvores de decisão"
      ]
    },
    {
      "cell_type": "markdown",
      "id": "fb216451",
      "metadata": {
        "id": "fb216451"
      },
      "source": [
        "Vamos primeiro a base de dados em duas partes: um conjunto de treino e um de teste.\n",
        "\n",
        "O particionamento pode ser feito pela função `train_test_split`. Nós vamos usar os seguintes parâmetros:\n",
        "\n",
        "- 1º parâmetro (não nomeado): uma matriz contendo os atributos de entrada\n",
        "- 2º parâmetro (não nomeado): um vetor contendo o atributo de saída (classe)\n",
        "- `stratify`: um vetor contendo informações das classes para *estratificar* o particionamento. Isso garante que os dois conjuntos resultantes terão aproximadamente a mesma distribuição de exemplos por classe que o conjunto original\n",
        "- `test_size`: tamanho do conjunto de teste; vamos especificar 30%\n",
        "-  `random_state`: uma semente para geração de números pseudoaleatórios, garantindo que o resultado obtido será o mesmo sempre que o comando for executado\n",
        "\n",
        "Como saída teremos dois subconjuntos. O par `(X_train, y_train)` contém os dados de treinamento (entrada, saída) e o par `(X_test, y_test)` contém os dados de teste."
      ]
    },
    {
      "cell_type": "code",
      "execution_count": null,
      "id": "f0663d81",
      "metadata": {
        "id": "f0663d81"
      },
      "outputs": [],
      "source": [
        "from sklearn.model_selection import train_test_split"
      ]
    },
    {
      "cell_type": "markdown",
      "id": "a1d4485b",
      "metadata": {
        "id": "a1d4485b"
      },
      "source": [
        "> **Execute a célula** abaixo para obter o particionamento."
      ]
    },
    {
      "cell_type": "code",
      "execution_count": null,
      "id": "60e4ce04",
      "metadata": {
        "id": "60e4ce04"
      },
      "outputs": [],
      "source": [
        "X_train, X_test, y_train, y_test = train_test_split(iris.data,\n",
        "                                                    iris.target,\n",
        "                                                    stratify=iris.target,\n",
        "                                                    test_size=0.3,\n",
        "                                                    random_state=1337)"
      ]
    },
    {
      "cell_type": "markdown",
      "id": "fbffe01a",
      "metadata": {
        "id": "fbffe01a"
      },
      "source": [
        "Como ficaram os conjuntos?"
      ]
    },
    {
      "cell_type": "code",
      "execution_count": null,
      "id": "6a9513d8",
      "metadata": {
        "colab": {
          "base_uri": "https://localhost:8080/"
        },
        "id": "6a9513d8",
        "outputId": "4b557225-e2c1-4786-862e-9d656fab0907"
      },
      "outputs": [
        {
          "output_type": "stream",
          "name": "stdout",
          "text": [
            "Exemplos no subconjunto de treino: 105\n",
            "Exemplos no subconjunto de Teste: 45\n"
          ]
        }
      ],
      "source": [
        "print(\"Exemplos no subconjunto de treino:\", len(X_train))\n",
        "print(\"Exemplos no subconjunto de Teste:\", len(X_test))"
      ]
    },
    {
      "cell_type": "markdown",
      "id": "3ff961d8",
      "metadata": {
        "id": "3ff961d8"
      },
      "source": [
        "E quantos exemplos de cada classe temos no conjunto de treinamento?"
      ]
    },
    {
      "cell_type": "code",
      "execution_count": null,
      "id": "cc49d223",
      "metadata": {
        "colab": {
          "base_uri": "https://localhost:8080/"
        },
        "id": "cc49d223",
        "outputId": "8a61621d-9177-4234-bfa7-164256d7631a"
      },
      "outputs": [
        {
          "output_type": "execute_result",
          "data": {
            "text/plain": [
              "array([35, 35, 35])"
            ]
          },
          "metadata": {},
          "execution_count": 32
        }
      ],
      "source": [
        "np.histogram(y_train, bins=3)[0]"
      ]
    },
    {
      "cell_type": "markdown",
      "id": "1f888786",
      "metadata": {
        "id": "1f888786"
      },
      "source": [
        "E no conjunto de teste?"
      ]
    },
    {
      "cell_type": "code",
      "execution_count": null,
      "id": "f3b3f05b",
      "metadata": {
        "colab": {
          "base_uri": "https://localhost:8080/"
        },
        "id": "f3b3f05b",
        "outputId": "44f61b8b-00be-44ce-8958-cce9900b10be"
      },
      "outputs": [
        {
          "output_type": "execute_result",
          "data": {
            "text/plain": [
              "array([15, 15, 15])"
            ]
          },
          "metadata": {},
          "execution_count": 33
        }
      ],
      "source": [
        "np.histogram(y_test, bins=3)[0]"
      ]
    },
    {
      "cell_type": "markdown",
      "id": "97f19b21",
      "metadata": {
        "id": "97f19b21"
      },
      "source": [
        "Exatamente 35 de cada classe no treino e exatamente 15 de cada classe no teste. Legal."
      ]
    },
    {
      "cell_type": "markdown",
      "id": "c5c4f39b",
      "metadata": {
        "id": "c5c4f39b"
      },
      "source": [
        "Agora você irá treinar e testar a árvore de decisão e o k-NN."
      ]
    },
    {
      "cell_type": "markdown",
      "id": "606f8119",
      "metadata": {
        "id": "606f8119"
      },
      "source": [
        "> **Treine e teste** uma árvore de decisão no particionamento obtido. Não mude os hiperparâmetros. Qual a acurácia do classificador?"
      ]
    },
    {
      "cell_type": "code",
      "execution_count": null,
      "id": "02c3f7ef",
      "metadata": {
        "colab": {
          "base_uri": "https://localhost:8080/"
        },
        "id": "02c3f7ef",
        "outputId": "c8efb16e-3292-4aaf-b501-fc31077950ba"
      },
      "outputs": [
        {
          "output_type": "execute_result",
          "data": {
            "text/plain": [
              "0.9555555555555556"
            ]
          },
          "metadata": {},
          "execution_count": 34
        }
      ],
      "source": [
        "from sklearn.tree import DecisionTreeClassifier\n",
        "\n",
        "clf = DecisionTreeClassifier()\n",
        "\n",
        "clf.fit(X_train, y_train)\n",
        "y_pred = clf.predict(X_test)\n",
        "acc = accuracy_score(y_test, y_pred)\n",
        "\n",
        "acc"
      ]
    },
    {
      "cell_type": "markdown",
      "id": "23222324",
      "metadata": {
        "id": "23222324"
      },
      "source": [
        "> **Treine e teste** um k-NN árvore de decisão no particionamento obtido. Não mude os hiperparâmetros. Qual a acurácia do classificador?"
      ]
    },
    {
      "cell_type": "code",
      "execution_count": null,
      "id": "a9c44d24",
      "metadata": {
        "colab": {
          "base_uri": "https://localhost:8080/"
        },
        "id": "a9c44d24",
        "outputId": "3ceea0c8-2856-4a7c-ac3c-5b46c4d5cb4d"
      },
      "outputs": [
        {
          "output_type": "execute_result",
          "data": {
            "text/plain": [
              "0.9555555555555556"
            ]
          },
          "metadata": {},
          "execution_count": 35
        }
      ],
      "source": [
        "from sklearn.neighbors import KNeighborsClassifier\n",
        "\n",
        "clf = KNeighborsClassifier()\n",
        "\n",
        "clf.fit(X_train, y_train)\n",
        "y_pred = clf.predict(X_test)\n",
        "acc = accuracy_score(y_test, y_pred)\n",
        "\n",
        "acc"
      ]
    },
    {
      "cell_type": "markdown",
      "id": "96fddd71",
      "metadata": {
        "id": "96fddd71"
      },
      "source": [
        "> **Explique com suas palavras** a diferença entre os desempenhos dos dois modelos. Você acha que foi significativa? Você pode formular uma hipótese quanto ao motivo?\n",
        ">\n",
        "> *Dica:* esta pergunta é exploratória. Você não precisa respondê-la corretamente para ganhar nota nesta atividade. Tente respondê-la da melhor forma possível. Ao final do período letivo você poderá revisar sua resposta."
      ]
    },
    {
      "cell_type": "markdown",
      "id": "7d4d0aef",
      "metadata": {
        "id": "7d4d0aef"
      },
      "source": [
        "RESPOSTA: os dois classificadores tiveram desempenho bem similar, com diferença de aproximadamente 2.2%. Apenas numericamente, o KNN se foi melhor, mas não é possível dizer que este resultado é significativo sem fazer outros testes estatísticos, principalmente se considermarmos que o meu classificador \"burro\" (com regras fixas), que criei algumas células acima, se saiu melhor que ambos."
      ]
    },
    {
      "cell_type": "markdown",
      "id": "1a064ce7",
      "metadata": {
        "id": "1a064ce7"
      },
      "source": [
        "## Parte 2: Uma Nova Base"
      ]
    },
    {
      "cell_type": "markdown",
      "id": "e279c442",
      "metadata": {
        "id": "e279c442"
      },
      "source": [
        "Agora nós utilizaremos a base **Breast Cancer** disponível no `sklearn`, mas originário do repositório da UCI (https://archive.ics.uci.edu/ml/datasets/breast+cancer). Trata-se de uma base de dados que foi obtida a partir de imagens digitalizadas de massas mamárias e as classes descrevem dois tipos de tumores: maligno (harmful) e não maligno (not harmful). Os atributos descrevem características dos núcleos celulares presentes nas imagens.\n",
        "\n",
        "No total, são **30 atributos** ordenados: raio médio, textura média, perímetro médio, área média, suavidade média, compacidade média, concavidade média, pontos côncavos médios, simetria média, dimensão fractal média, erro de raio, erro de textura, erro de perímetro, erro de área, erro de suavidade, erro de compactação, erro de concavidade, erro de pontos côncavos, erro de simetria, erro de dimensão fractal, pior raio, pior textura, pior perímetro, pior área, pior suavidade, pior compacidade, pior concavidade, piores pontos côncavos, pior simetria e pior dimensão fractal) e um alvo (tipo de câncer).\n",
        "\n",
        "Esta base não é tão simples quanto a `Iris`, mas ainda trata-se de uma base que exige pouco esforço para produzir classificadores que dão bons resultados"
      ]
    },
    {
      "cell_type": "markdown",
      "id": "d921f714",
      "metadata": {
        "id": "d921f714"
      },
      "source": [
        "> **Carregue a base** `breast` usando a função `load_breast_cancer` do `sklearn`."
      ]
    },
    {
      "cell_type": "code",
      "execution_count": null,
      "id": "c41de496",
      "metadata": {
        "id": "c41de496"
      },
      "outputs": [],
      "source": [
        "from sklearn.datasets import load_breast_cancer\n",
        "\n",
        "breast = load_breast_cancer()"
      ]
    },
    {
      "cell_type": "markdown",
      "id": "7ad41c82",
      "metadata": {
        "id": "7ad41c82"
      },
      "source": [
        "> **Verifique** a base de dados: número de atributos, de instâncias, distribuição das classes etc."
      ]
    },
    {
      "cell_type": "markdown",
      "id": "LbvngrsqJyyI",
      "metadata": {
        "id": "LbvngrsqJyyI"
      },
      "source": [
        "Descrição:"
      ]
    },
    {
      "cell_type": "code",
      "execution_count": null,
      "id": "34cfb382",
      "metadata": {
        "colab": {
          "base_uri": "https://localhost:8080/"
        },
        "id": "34cfb382",
        "outputId": "3c68bf69-76da-4c10-c626-c76056eb2804"
      },
      "outputs": [
        {
          "output_type": "stream",
          "name": "stdout",
          "text": [
            ".. _breast_cancer_dataset:\n",
            "\n",
            "Breast cancer wisconsin (diagnostic) dataset\n",
            "--------------------------------------------\n",
            "\n",
            "**Data Set Characteristics:**\n",
            "\n",
            "    :Number of Instances: 569\n",
            "\n",
            "    :Number of Attributes: 30 numeric, predictive attributes and the class\n",
            "\n",
            "    :Attribute Information:\n",
            "        - radius (mean of distances from center to points on the perimeter)\n",
            "        - texture (standard deviation of gray-scale values)\n",
            "        - perimeter\n",
            "        - area\n",
            "        - smoothness (local variation in radius lengths)\n",
            "        - compactness (perimeter^2 / area - 1.0)\n",
            "        - concavity (severity of concave portions of the contour)\n",
            "        - concave points (number of concave portions of the contour)\n",
            "        - symmetry\n",
            "        - fractal dimension (\"coastline approximation\" - 1)\n",
            "\n",
            "        The mean, standard error, and \"worst\" or largest (mean of the three\n",
            "        worst/largest values) of these features were computed for each image,\n",
            "        resulting in 30 features.  For instance, field 0 is Mean Radius, field\n",
            "        10 is Radius SE, field 20 is Worst Radius.\n",
            "\n",
            "        - class:\n",
            "                - WDBC-Malignant\n",
            "                - WDBC-Benign\n",
            "\n",
            "    :Summary Statistics:\n",
            "\n",
            "    ===================================== ====== ======\n",
            "                                           Min    Max\n",
            "    ===================================== ====== ======\n",
            "    radius (mean):                        6.981  28.11\n",
            "    texture (mean):                       9.71   39.28\n",
            "    perimeter (mean):                     43.79  188.5\n",
            "    area (mean):                          143.5  2501.0\n",
            "    smoothness (mean):                    0.053  0.163\n",
            "    compactness (mean):                   0.019  0.345\n",
            "    concavity (mean):                     0.0    0.427\n",
            "    concave points (mean):                0.0    0.201\n",
            "    symmetry (mean):                      0.106  0.304\n",
            "    fractal dimension (mean):             0.05   0.097\n",
            "    radius (standard error):              0.112  2.873\n",
            "    texture (standard error):             0.36   4.885\n",
            "    perimeter (standard error):           0.757  21.98\n",
            "    area (standard error):                6.802  542.2\n",
            "    smoothness (standard error):          0.002  0.031\n",
            "    compactness (standard error):         0.002  0.135\n",
            "    concavity (standard error):           0.0    0.396\n",
            "    concave points (standard error):      0.0    0.053\n",
            "    symmetry (standard error):            0.008  0.079\n",
            "    fractal dimension (standard error):   0.001  0.03\n",
            "    radius (worst):                       7.93   36.04\n",
            "    texture (worst):                      12.02  49.54\n",
            "    perimeter (worst):                    50.41  251.2\n",
            "    area (worst):                         185.2  4254.0\n",
            "    smoothness (worst):                   0.071  0.223\n",
            "    compactness (worst):                  0.027  1.058\n",
            "    concavity (worst):                    0.0    1.252\n",
            "    concave points (worst):               0.0    0.291\n",
            "    symmetry (worst):                     0.156  0.664\n",
            "    fractal dimension (worst):            0.055  0.208\n",
            "    ===================================== ====== ======\n",
            "\n",
            "    :Missing Attribute Values: None\n",
            "\n",
            "    :Class Distribution: 212 - Malignant, 357 - Benign\n",
            "\n",
            "    :Creator:  Dr. William H. Wolberg, W. Nick Street, Olvi L. Mangasarian\n",
            "\n",
            "    :Donor: Nick Street\n",
            "\n",
            "    :Date: November, 1995\n",
            "\n",
            "This is a copy of UCI ML Breast Cancer Wisconsin (Diagnostic) datasets.\n",
            "https://goo.gl/U2Uwz2\n",
            "\n",
            "Features are computed from a digitized image of a fine needle\n",
            "aspirate (FNA) of a breast mass.  They describe\n",
            "characteristics of the cell nuclei present in the image.\n",
            "\n",
            "Separating plane described above was obtained using\n",
            "Multisurface Method-Tree (MSM-T) [K. P. Bennett, \"Decision Tree\n",
            "Construction Via Linear Programming.\" Proceedings of the 4th\n",
            "Midwest Artificial Intelligence and Cognitive Science Society,\n",
            "pp. 97-101, 1992], a classification method which uses linear\n",
            "programming to construct a decision tree.  Relevant features\n",
            "were selected using an exhaustive search in the space of 1-4\n",
            "features and 1-3 separating planes.\n",
            "\n",
            "The actual linear program used to obtain the separating plane\n",
            "in the 3-dimensional space is that described in:\n",
            "[K. P. Bennett and O. L. Mangasarian: \"Robust Linear\n",
            "Programming Discrimination of Two Linearly Inseparable Sets\",\n",
            "Optimization Methods and Software 1, 1992, 23-34].\n",
            "\n",
            "This database is also available through the UW CS ftp server:\n",
            "\n",
            "ftp ftp.cs.wisc.edu\n",
            "cd math-prog/cpo-dataset/machine-learn/WDBC/\n",
            "\n",
            ".. topic:: References\n",
            "\n",
            "   - W.N. Street, W.H. Wolberg and O.L. Mangasarian. Nuclear feature extraction \n",
            "     for breast tumor diagnosis. IS&T/SPIE 1993 International Symposium on \n",
            "     Electronic Imaging: Science and Technology, volume 1905, pages 861-870,\n",
            "     San Jose, CA, 1993.\n",
            "   - O.L. Mangasarian, W.N. Street and W.H. Wolberg. Breast cancer diagnosis and \n",
            "     prognosis via linear programming. Operations Research, 43(4), pages 570-577, \n",
            "     July-August 1995.\n",
            "   - W.H. Wolberg, W.N. Street, and O.L. Mangasarian. Machine learning techniques\n",
            "     to diagnose breast cancer from fine-needle aspirates. Cancer Letters 77 (1994) \n",
            "     163-171.\n"
          ]
        }
      ],
      "source": [
        "print(breast.DESCR)"
      ]
    },
    {
      "cell_type": "markdown",
      "id": "Oy9Cj_0iJ2QB",
      "metadata": {
        "id": "Oy9Cj_0iJ2QB"
      },
      "source": [
        "Número de instâncias:"
      ]
    },
    {
      "cell_type": "code",
      "execution_count": null,
      "id": "7WFkFQIpJdQC",
      "metadata": {
        "colab": {
          "base_uri": "https://localhost:8080/"
        },
        "id": "7WFkFQIpJdQC",
        "outputId": "72317d48-4272-4ca0-dea9-04d05c3b8281"
      },
      "outputs": [
        {
          "output_type": "execute_result",
          "data": {
            "text/plain": [
              "(569,)"
            ]
          },
          "metadata": {},
          "execution_count": 38
        }
      ],
      "source": [
        "breast.target.shape"
      ]
    },
    {
      "cell_type": "markdown",
      "id": "u65XO-ThJ7fY",
      "metadata": {
        "id": "u65XO-ThJ7fY"
      },
      "source": [
        "Atributos:"
      ]
    },
    {
      "cell_type": "code",
      "execution_count": null,
      "id": "LDpl75GVJ9eK",
      "metadata": {
        "colab": {
          "base_uri": "https://localhost:8080/"
        },
        "id": "LDpl75GVJ9eK",
        "outputId": "5630d054-94ff-425b-d417-50c0371eec1b"
      },
      "outputs": [
        {
          "output_type": "execute_result",
          "data": {
            "text/plain": [
              "array(['mean radius', 'mean texture', 'mean perimeter', 'mean area',\n",
              "       'mean smoothness', 'mean compactness', 'mean concavity',\n",
              "       'mean concave points', 'mean symmetry', 'mean fractal dimension',\n",
              "       'radius error', 'texture error', 'perimeter error', 'area error',\n",
              "       'smoothness error', 'compactness error', 'concavity error',\n",
              "       'concave points error', 'symmetry error',\n",
              "       'fractal dimension error', 'worst radius', 'worst texture',\n",
              "       'worst perimeter', 'worst area', 'worst smoothness',\n",
              "       'worst compactness', 'worst concavity', 'worst concave points',\n",
              "       'worst symmetry', 'worst fractal dimension'], dtype='<U23')"
            ]
          },
          "metadata": {},
          "execution_count": 39
        }
      ],
      "source": [
        "breast.feature_names"
      ]
    },
    {
      "cell_type": "code",
      "execution_count": null,
      "id": "f_wnkBA5KIh4",
      "metadata": {
        "colab": {
          "base_uri": "https://localhost:8080/"
        },
        "id": "f_wnkBA5KIh4",
        "outputId": "0c562b2f-7822-437b-fb1c-8e121322b975"
      },
      "outputs": [
        {
          "output_type": "stream",
          "name": "stdout",
          "text": [
            "30\n"
          ]
        }
      ],
      "source": [
        "print(breast.feature_names.shape[0])"
      ]
    },
    {
      "cell_type": "markdown",
      "id": "0mDyBbH7Kk2p",
      "metadata": {
        "id": "0mDyBbH7Kk2p"
      },
      "source": [
        "Distribuição:"
      ]
    },
    {
      "cell_type": "code",
      "execution_count": null,
      "id": "ekjq7D9CKmXz",
      "metadata": {
        "colab": {
          "base_uri": "https://localhost:8080/",
          "height": 478
        },
        "id": "ekjq7D9CKmXz",
        "outputId": "a990eb48-cf1c-46b3-fc61-52c5330594c3"
      },
      "outputs": [
        {
          "output_type": "execute_result",
          "data": {
            "text/plain": [
              "     mean radius  mean texture  mean perimeter  mean area  mean smoothness  \\\n",
              "0          17.99         10.38          122.80     1001.0          0.11840   \n",
              "1          20.57         17.77          132.90     1326.0          0.08474   \n",
              "2          19.69         21.25          130.00     1203.0          0.10960   \n",
              "3          11.42         20.38           77.58      386.1          0.14250   \n",
              "4          20.29         14.34          135.10     1297.0          0.10030   \n",
              "..           ...           ...             ...        ...              ...   \n",
              "564        21.56         22.39          142.00     1479.0          0.11100   \n",
              "565        20.13         28.25          131.20     1261.0          0.09780   \n",
              "566        16.60         28.08          108.30      858.1          0.08455   \n",
              "567        20.60         29.33          140.10     1265.0          0.11780   \n",
              "568         7.76         24.54           47.92      181.0          0.05263   \n",
              "\n",
              "     mean compactness  mean concavity  mean concave points  mean symmetry  \\\n",
              "0             0.27760         0.30010              0.14710         0.2419   \n",
              "1             0.07864         0.08690              0.07017         0.1812   \n",
              "2             0.15990         0.19740              0.12790         0.2069   \n",
              "3             0.28390         0.24140              0.10520         0.2597   \n",
              "4             0.13280         0.19800              0.10430         0.1809   \n",
              "..                ...             ...                  ...            ...   \n",
              "564           0.11590         0.24390              0.13890         0.1726   \n",
              "565           0.10340         0.14400              0.09791         0.1752   \n",
              "566           0.10230         0.09251              0.05302         0.1590   \n",
              "567           0.27700         0.35140              0.15200         0.2397   \n",
              "568           0.04362         0.00000              0.00000         0.1587   \n",
              "\n",
              "     mean fractal dimension  ...  worst texture  worst perimeter  worst area  \\\n",
              "0                   0.07871  ...          17.33           184.60      2019.0   \n",
              "1                   0.05667  ...          23.41           158.80      1956.0   \n",
              "2                   0.05999  ...          25.53           152.50      1709.0   \n",
              "3                   0.09744  ...          26.50            98.87       567.7   \n",
              "4                   0.05883  ...          16.67           152.20      1575.0   \n",
              "..                      ...  ...            ...              ...         ...   \n",
              "564                 0.05623  ...          26.40           166.10      2027.0   \n",
              "565                 0.05533  ...          38.25           155.00      1731.0   \n",
              "566                 0.05648  ...          34.12           126.70      1124.0   \n",
              "567                 0.07016  ...          39.42           184.60      1821.0   \n",
              "568                 0.05884  ...          30.37            59.16       268.6   \n",
              "\n",
              "     worst smoothness  worst compactness  worst concavity  \\\n",
              "0             0.16220            0.66560           0.7119   \n",
              "1             0.12380            0.18660           0.2416   \n",
              "2             0.14440            0.42450           0.4504   \n",
              "3             0.20980            0.86630           0.6869   \n",
              "4             0.13740            0.20500           0.4000   \n",
              "..                ...                ...              ...   \n",
              "564           0.14100            0.21130           0.4107   \n",
              "565           0.11660            0.19220           0.3215   \n",
              "566           0.11390            0.30940           0.3403   \n",
              "567           0.16500            0.86810           0.9387   \n",
              "568           0.08996            0.06444           0.0000   \n",
              "\n",
              "     worst concave points  worst symmetry  worst fractal dimension     result  \n",
              "0                  0.2654          0.4601                  0.11890  malignant  \n",
              "1                  0.1860          0.2750                  0.08902  malignant  \n",
              "2                  0.2430          0.3613                  0.08758  malignant  \n",
              "3                  0.2575          0.6638                  0.17300  malignant  \n",
              "4                  0.1625          0.2364                  0.07678  malignant  \n",
              "..                    ...             ...                      ...        ...  \n",
              "564                0.2216          0.2060                  0.07115  malignant  \n",
              "565                0.1628          0.2572                  0.06637  malignant  \n",
              "566                0.1418          0.2218                  0.07820  malignant  \n",
              "567                0.2650          0.4087                  0.12400  malignant  \n",
              "568                0.0000          0.2871                  0.07039     benign  \n",
              "\n",
              "[569 rows x 31 columns]"
            ],
            "text/html": [
              "\n",
              "  <div id=\"df-13525fc7-3a6c-44c0-ae2a-48eb2ac51721\" class=\"colab-df-container\">\n",
              "    <div>\n",
              "<style scoped>\n",
              "    .dataframe tbody tr th:only-of-type {\n",
              "        vertical-align: middle;\n",
              "    }\n",
              "\n",
              "    .dataframe tbody tr th {\n",
              "        vertical-align: top;\n",
              "    }\n",
              "\n",
              "    .dataframe thead th {\n",
              "        text-align: right;\n",
              "    }\n",
              "</style>\n",
              "<table border=\"1\" class=\"dataframe\">\n",
              "  <thead>\n",
              "    <tr style=\"text-align: right;\">\n",
              "      <th></th>\n",
              "      <th>mean radius</th>\n",
              "      <th>mean texture</th>\n",
              "      <th>mean perimeter</th>\n",
              "      <th>mean area</th>\n",
              "      <th>mean smoothness</th>\n",
              "      <th>mean compactness</th>\n",
              "      <th>mean concavity</th>\n",
              "      <th>mean concave points</th>\n",
              "      <th>mean symmetry</th>\n",
              "      <th>mean fractal dimension</th>\n",
              "      <th>...</th>\n",
              "      <th>worst texture</th>\n",
              "      <th>worst perimeter</th>\n",
              "      <th>worst area</th>\n",
              "      <th>worst smoothness</th>\n",
              "      <th>worst compactness</th>\n",
              "      <th>worst concavity</th>\n",
              "      <th>worst concave points</th>\n",
              "      <th>worst symmetry</th>\n",
              "      <th>worst fractal dimension</th>\n",
              "      <th>result</th>\n",
              "    </tr>\n",
              "  </thead>\n",
              "  <tbody>\n",
              "    <tr>\n",
              "      <th>0</th>\n",
              "      <td>17.99</td>\n",
              "      <td>10.38</td>\n",
              "      <td>122.80</td>\n",
              "      <td>1001.0</td>\n",
              "      <td>0.11840</td>\n",
              "      <td>0.27760</td>\n",
              "      <td>0.30010</td>\n",
              "      <td>0.14710</td>\n",
              "      <td>0.2419</td>\n",
              "      <td>0.07871</td>\n",
              "      <td>...</td>\n",
              "      <td>17.33</td>\n",
              "      <td>184.60</td>\n",
              "      <td>2019.0</td>\n",
              "      <td>0.16220</td>\n",
              "      <td>0.66560</td>\n",
              "      <td>0.7119</td>\n",
              "      <td>0.2654</td>\n",
              "      <td>0.4601</td>\n",
              "      <td>0.11890</td>\n",
              "      <td>malignant</td>\n",
              "    </tr>\n",
              "    <tr>\n",
              "      <th>1</th>\n",
              "      <td>20.57</td>\n",
              "      <td>17.77</td>\n",
              "      <td>132.90</td>\n",
              "      <td>1326.0</td>\n",
              "      <td>0.08474</td>\n",
              "      <td>0.07864</td>\n",
              "      <td>0.08690</td>\n",
              "      <td>0.07017</td>\n",
              "      <td>0.1812</td>\n",
              "      <td>0.05667</td>\n",
              "      <td>...</td>\n",
              "      <td>23.41</td>\n",
              "      <td>158.80</td>\n",
              "      <td>1956.0</td>\n",
              "      <td>0.12380</td>\n",
              "      <td>0.18660</td>\n",
              "      <td>0.2416</td>\n",
              "      <td>0.1860</td>\n",
              "      <td>0.2750</td>\n",
              "      <td>0.08902</td>\n",
              "      <td>malignant</td>\n",
              "    </tr>\n",
              "    <tr>\n",
              "      <th>2</th>\n",
              "      <td>19.69</td>\n",
              "      <td>21.25</td>\n",
              "      <td>130.00</td>\n",
              "      <td>1203.0</td>\n",
              "      <td>0.10960</td>\n",
              "      <td>0.15990</td>\n",
              "      <td>0.19740</td>\n",
              "      <td>0.12790</td>\n",
              "      <td>0.2069</td>\n",
              "      <td>0.05999</td>\n",
              "      <td>...</td>\n",
              "      <td>25.53</td>\n",
              "      <td>152.50</td>\n",
              "      <td>1709.0</td>\n",
              "      <td>0.14440</td>\n",
              "      <td>0.42450</td>\n",
              "      <td>0.4504</td>\n",
              "      <td>0.2430</td>\n",
              "      <td>0.3613</td>\n",
              "      <td>0.08758</td>\n",
              "      <td>malignant</td>\n",
              "    </tr>\n",
              "    <tr>\n",
              "      <th>3</th>\n",
              "      <td>11.42</td>\n",
              "      <td>20.38</td>\n",
              "      <td>77.58</td>\n",
              "      <td>386.1</td>\n",
              "      <td>0.14250</td>\n",
              "      <td>0.28390</td>\n",
              "      <td>0.24140</td>\n",
              "      <td>0.10520</td>\n",
              "      <td>0.2597</td>\n",
              "      <td>0.09744</td>\n",
              "      <td>...</td>\n",
              "      <td>26.50</td>\n",
              "      <td>98.87</td>\n",
              "      <td>567.7</td>\n",
              "      <td>0.20980</td>\n",
              "      <td>0.86630</td>\n",
              "      <td>0.6869</td>\n",
              "      <td>0.2575</td>\n",
              "      <td>0.6638</td>\n",
              "      <td>0.17300</td>\n",
              "      <td>malignant</td>\n",
              "    </tr>\n",
              "    <tr>\n",
              "      <th>4</th>\n",
              "      <td>20.29</td>\n",
              "      <td>14.34</td>\n",
              "      <td>135.10</td>\n",
              "      <td>1297.0</td>\n",
              "      <td>0.10030</td>\n",
              "      <td>0.13280</td>\n",
              "      <td>0.19800</td>\n",
              "      <td>0.10430</td>\n",
              "      <td>0.1809</td>\n",
              "      <td>0.05883</td>\n",
              "      <td>...</td>\n",
              "      <td>16.67</td>\n",
              "      <td>152.20</td>\n",
              "      <td>1575.0</td>\n",
              "      <td>0.13740</td>\n",
              "      <td>0.20500</td>\n",
              "      <td>0.4000</td>\n",
              "      <td>0.1625</td>\n",
              "      <td>0.2364</td>\n",
              "      <td>0.07678</td>\n",
              "      <td>malignant</td>\n",
              "    </tr>\n",
              "    <tr>\n",
              "      <th>...</th>\n",
              "      <td>...</td>\n",
              "      <td>...</td>\n",
              "      <td>...</td>\n",
              "      <td>...</td>\n",
              "      <td>...</td>\n",
              "      <td>...</td>\n",
              "      <td>...</td>\n",
              "      <td>...</td>\n",
              "      <td>...</td>\n",
              "      <td>...</td>\n",
              "      <td>...</td>\n",
              "      <td>...</td>\n",
              "      <td>...</td>\n",
              "      <td>...</td>\n",
              "      <td>...</td>\n",
              "      <td>...</td>\n",
              "      <td>...</td>\n",
              "      <td>...</td>\n",
              "      <td>...</td>\n",
              "      <td>...</td>\n",
              "      <td>...</td>\n",
              "    </tr>\n",
              "    <tr>\n",
              "      <th>564</th>\n",
              "      <td>21.56</td>\n",
              "      <td>22.39</td>\n",
              "      <td>142.00</td>\n",
              "      <td>1479.0</td>\n",
              "      <td>0.11100</td>\n",
              "      <td>0.11590</td>\n",
              "      <td>0.24390</td>\n",
              "      <td>0.13890</td>\n",
              "      <td>0.1726</td>\n",
              "      <td>0.05623</td>\n",
              "      <td>...</td>\n",
              "      <td>26.40</td>\n",
              "      <td>166.10</td>\n",
              "      <td>2027.0</td>\n",
              "      <td>0.14100</td>\n",
              "      <td>0.21130</td>\n",
              "      <td>0.4107</td>\n",
              "      <td>0.2216</td>\n",
              "      <td>0.2060</td>\n",
              "      <td>0.07115</td>\n",
              "      <td>malignant</td>\n",
              "    </tr>\n",
              "    <tr>\n",
              "      <th>565</th>\n",
              "      <td>20.13</td>\n",
              "      <td>28.25</td>\n",
              "      <td>131.20</td>\n",
              "      <td>1261.0</td>\n",
              "      <td>0.09780</td>\n",
              "      <td>0.10340</td>\n",
              "      <td>0.14400</td>\n",
              "      <td>0.09791</td>\n",
              "      <td>0.1752</td>\n",
              "      <td>0.05533</td>\n",
              "      <td>...</td>\n",
              "      <td>38.25</td>\n",
              "      <td>155.00</td>\n",
              "      <td>1731.0</td>\n",
              "      <td>0.11660</td>\n",
              "      <td>0.19220</td>\n",
              "      <td>0.3215</td>\n",
              "      <td>0.1628</td>\n",
              "      <td>0.2572</td>\n",
              "      <td>0.06637</td>\n",
              "      <td>malignant</td>\n",
              "    </tr>\n",
              "    <tr>\n",
              "      <th>566</th>\n",
              "      <td>16.60</td>\n",
              "      <td>28.08</td>\n",
              "      <td>108.30</td>\n",
              "      <td>858.1</td>\n",
              "      <td>0.08455</td>\n",
              "      <td>0.10230</td>\n",
              "      <td>0.09251</td>\n",
              "      <td>0.05302</td>\n",
              "      <td>0.1590</td>\n",
              "      <td>0.05648</td>\n",
              "      <td>...</td>\n",
              "      <td>34.12</td>\n",
              "      <td>126.70</td>\n",
              "      <td>1124.0</td>\n",
              "      <td>0.11390</td>\n",
              "      <td>0.30940</td>\n",
              "      <td>0.3403</td>\n",
              "      <td>0.1418</td>\n",
              "      <td>0.2218</td>\n",
              "      <td>0.07820</td>\n",
              "      <td>malignant</td>\n",
              "    </tr>\n",
              "    <tr>\n",
              "      <th>567</th>\n",
              "      <td>20.60</td>\n",
              "      <td>29.33</td>\n",
              "      <td>140.10</td>\n",
              "      <td>1265.0</td>\n",
              "      <td>0.11780</td>\n",
              "      <td>0.27700</td>\n",
              "      <td>0.35140</td>\n",
              "      <td>0.15200</td>\n",
              "      <td>0.2397</td>\n",
              "      <td>0.07016</td>\n",
              "      <td>...</td>\n",
              "      <td>39.42</td>\n",
              "      <td>184.60</td>\n",
              "      <td>1821.0</td>\n",
              "      <td>0.16500</td>\n",
              "      <td>0.86810</td>\n",
              "      <td>0.9387</td>\n",
              "      <td>0.2650</td>\n",
              "      <td>0.4087</td>\n",
              "      <td>0.12400</td>\n",
              "      <td>malignant</td>\n",
              "    </tr>\n",
              "    <tr>\n",
              "      <th>568</th>\n",
              "      <td>7.76</td>\n",
              "      <td>24.54</td>\n",
              "      <td>47.92</td>\n",
              "      <td>181.0</td>\n",
              "      <td>0.05263</td>\n",
              "      <td>0.04362</td>\n",
              "      <td>0.00000</td>\n",
              "      <td>0.00000</td>\n",
              "      <td>0.1587</td>\n",
              "      <td>0.05884</td>\n",
              "      <td>...</td>\n",
              "      <td>30.37</td>\n",
              "      <td>59.16</td>\n",
              "      <td>268.6</td>\n",
              "      <td>0.08996</td>\n",
              "      <td>0.06444</td>\n",
              "      <td>0.0000</td>\n",
              "      <td>0.0000</td>\n",
              "      <td>0.2871</td>\n",
              "      <td>0.07039</td>\n",
              "      <td>benign</td>\n",
              "    </tr>\n",
              "  </tbody>\n",
              "</table>\n",
              "<p>569 rows × 31 columns</p>\n",
              "</div>\n",
              "    <div class=\"colab-df-buttons\">\n",
              "\n",
              "  <div class=\"colab-df-container\">\n",
              "    <button class=\"colab-df-convert\" onclick=\"convertToInteractive('df-13525fc7-3a6c-44c0-ae2a-48eb2ac51721')\"\n",
              "            title=\"Convert this dataframe to an interactive table.\"\n",
              "            style=\"display:none;\">\n",
              "\n",
              "  <svg xmlns=\"http://www.w3.org/2000/svg\" height=\"24px\" viewBox=\"0 -960 960 960\">\n",
              "    <path d=\"M120-120v-720h720v720H120Zm60-500h600v-160H180v160Zm220 220h160v-160H400v160Zm0 220h160v-160H400v160ZM180-400h160v-160H180v160Zm440 0h160v-160H620v160ZM180-180h160v-160H180v160Zm440 0h160v-160H620v160Z\"/>\n",
              "  </svg>\n",
              "    </button>\n",
              "\n",
              "  <style>\n",
              "    .colab-df-container {\n",
              "      display:flex;\n",
              "      gap: 12px;\n",
              "    }\n",
              "\n",
              "    .colab-df-convert {\n",
              "      background-color: #E8F0FE;\n",
              "      border: none;\n",
              "      border-radius: 50%;\n",
              "      cursor: pointer;\n",
              "      display: none;\n",
              "      fill: #1967D2;\n",
              "      height: 32px;\n",
              "      padding: 0 0 0 0;\n",
              "      width: 32px;\n",
              "    }\n",
              "\n",
              "    .colab-df-convert:hover {\n",
              "      background-color: #E2EBFA;\n",
              "      box-shadow: 0px 1px 2px rgba(60, 64, 67, 0.3), 0px 1px 3px 1px rgba(60, 64, 67, 0.15);\n",
              "      fill: #174EA6;\n",
              "    }\n",
              "\n",
              "    .colab-df-buttons div {\n",
              "      margin-bottom: 4px;\n",
              "    }\n",
              "\n",
              "    [theme=dark] .colab-df-convert {\n",
              "      background-color: #3B4455;\n",
              "      fill: #D2E3FC;\n",
              "    }\n",
              "\n",
              "    [theme=dark] .colab-df-convert:hover {\n",
              "      background-color: #434B5C;\n",
              "      box-shadow: 0px 1px 3px 1px rgba(0, 0, 0, 0.15);\n",
              "      filter: drop-shadow(0px 1px 2px rgba(0, 0, 0, 0.3));\n",
              "      fill: #FFFFFF;\n",
              "    }\n",
              "  </style>\n",
              "\n",
              "    <script>\n",
              "      const buttonEl =\n",
              "        document.querySelector('#df-13525fc7-3a6c-44c0-ae2a-48eb2ac51721 button.colab-df-convert');\n",
              "      buttonEl.style.display =\n",
              "        google.colab.kernel.accessAllowed ? 'block' : 'none';\n",
              "\n",
              "      async function convertToInteractive(key) {\n",
              "        const element = document.querySelector('#df-13525fc7-3a6c-44c0-ae2a-48eb2ac51721');\n",
              "        const dataTable =\n",
              "          await google.colab.kernel.invokeFunction('convertToInteractive',\n",
              "                                                    [key], {});\n",
              "        if (!dataTable) return;\n",
              "\n",
              "        const docLinkHtml = 'Like what you see? Visit the ' +\n",
              "          '<a target=\"_blank\" href=https://colab.research.google.com/notebooks/data_table.ipynb>data table notebook</a>'\n",
              "          + ' to learn more about interactive tables.';\n",
              "        element.innerHTML = '';\n",
              "        dataTable['output_type'] = 'display_data';\n",
              "        await google.colab.output.renderOutput(dataTable, element);\n",
              "        const docLink = document.createElement('div');\n",
              "        docLink.innerHTML = docLinkHtml;\n",
              "        element.appendChild(docLink);\n",
              "      }\n",
              "    </script>\n",
              "  </div>\n",
              "\n",
              "\n",
              "<div id=\"df-fde25dd5-a970-41e2-8c70-37c597a8cc89\">\n",
              "  <button class=\"colab-df-quickchart\" onclick=\"quickchart('df-fde25dd5-a970-41e2-8c70-37c597a8cc89')\"\n",
              "            title=\"Suggest charts\"\n",
              "            style=\"display:none;\">\n",
              "\n",
              "<svg xmlns=\"http://www.w3.org/2000/svg\" height=\"24px\"viewBox=\"0 0 24 24\"\n",
              "     width=\"24px\">\n",
              "    <g>\n",
              "        <path d=\"M19 3H5c-1.1 0-2 .9-2 2v14c0 1.1.9 2 2 2h14c1.1 0 2-.9 2-2V5c0-1.1-.9-2-2-2zM9 17H7v-7h2v7zm4 0h-2V7h2v10zm4 0h-2v-4h2v4z\"/>\n",
              "    </g>\n",
              "</svg>\n",
              "  </button>\n",
              "\n",
              "<style>\n",
              "  .colab-df-quickchart {\n",
              "      --bg-color: #E8F0FE;\n",
              "      --fill-color: #1967D2;\n",
              "      --hover-bg-color: #E2EBFA;\n",
              "      --hover-fill-color: #174EA6;\n",
              "      --disabled-fill-color: #AAA;\n",
              "      --disabled-bg-color: #DDD;\n",
              "  }\n",
              "\n",
              "  [theme=dark] .colab-df-quickchart {\n",
              "      --bg-color: #3B4455;\n",
              "      --fill-color: #D2E3FC;\n",
              "      --hover-bg-color: #434B5C;\n",
              "      --hover-fill-color: #FFFFFF;\n",
              "      --disabled-bg-color: #3B4455;\n",
              "      --disabled-fill-color: #666;\n",
              "  }\n",
              "\n",
              "  .colab-df-quickchart {\n",
              "    background-color: var(--bg-color);\n",
              "    border: none;\n",
              "    border-radius: 50%;\n",
              "    cursor: pointer;\n",
              "    display: none;\n",
              "    fill: var(--fill-color);\n",
              "    height: 32px;\n",
              "    padding: 0;\n",
              "    width: 32px;\n",
              "  }\n",
              "\n",
              "  .colab-df-quickchart:hover {\n",
              "    background-color: var(--hover-bg-color);\n",
              "    box-shadow: 0 1px 2px rgba(60, 64, 67, 0.3), 0 1px 3px 1px rgba(60, 64, 67, 0.15);\n",
              "    fill: var(--button-hover-fill-color);\n",
              "  }\n",
              "\n",
              "  .colab-df-quickchart-complete:disabled,\n",
              "  .colab-df-quickchart-complete:disabled:hover {\n",
              "    background-color: var(--disabled-bg-color);\n",
              "    fill: var(--disabled-fill-color);\n",
              "    box-shadow: none;\n",
              "  }\n",
              "\n",
              "  .colab-df-spinner {\n",
              "    border: 2px solid var(--fill-color);\n",
              "    border-color: transparent;\n",
              "    border-bottom-color: var(--fill-color);\n",
              "    animation:\n",
              "      spin 1s steps(1) infinite;\n",
              "  }\n",
              "\n",
              "  @keyframes spin {\n",
              "    0% {\n",
              "      border-color: transparent;\n",
              "      border-bottom-color: var(--fill-color);\n",
              "      border-left-color: var(--fill-color);\n",
              "    }\n",
              "    20% {\n",
              "      border-color: transparent;\n",
              "      border-left-color: var(--fill-color);\n",
              "      border-top-color: var(--fill-color);\n",
              "    }\n",
              "    30% {\n",
              "      border-color: transparent;\n",
              "      border-left-color: var(--fill-color);\n",
              "      border-top-color: var(--fill-color);\n",
              "      border-right-color: var(--fill-color);\n",
              "    }\n",
              "    40% {\n",
              "      border-color: transparent;\n",
              "      border-right-color: var(--fill-color);\n",
              "      border-top-color: var(--fill-color);\n",
              "    }\n",
              "    60% {\n",
              "      border-color: transparent;\n",
              "      border-right-color: var(--fill-color);\n",
              "    }\n",
              "    80% {\n",
              "      border-color: transparent;\n",
              "      border-right-color: var(--fill-color);\n",
              "      border-bottom-color: var(--fill-color);\n",
              "    }\n",
              "    90% {\n",
              "      border-color: transparent;\n",
              "      border-bottom-color: var(--fill-color);\n",
              "    }\n",
              "  }\n",
              "</style>\n",
              "\n",
              "  <script>\n",
              "    async function quickchart(key) {\n",
              "      const quickchartButtonEl =\n",
              "        document.querySelector('#' + key + ' button');\n",
              "      quickchartButtonEl.disabled = true;  // To prevent multiple clicks.\n",
              "      quickchartButtonEl.classList.add('colab-df-spinner');\n",
              "      try {\n",
              "        const charts = await google.colab.kernel.invokeFunction(\n",
              "            'suggestCharts', [key], {});\n",
              "      } catch (error) {\n",
              "        console.error('Error during call to suggestCharts:', error);\n",
              "      }\n",
              "      quickchartButtonEl.classList.remove('colab-df-spinner');\n",
              "      quickchartButtonEl.classList.add('colab-df-quickchart-complete');\n",
              "    }\n",
              "    (() => {\n",
              "      let quickchartButtonEl =\n",
              "        document.querySelector('#df-fde25dd5-a970-41e2-8c70-37c597a8cc89 button');\n",
              "      quickchartButtonEl.style.display =\n",
              "        google.colab.kernel.accessAllowed ? 'block' : 'none';\n",
              "    })();\n",
              "  </script>\n",
              "</div>\n",
              "    </div>\n",
              "  </div>\n"
            ],
            "application/vnd.google.colaboratory.intrinsic+json": {
              "type": "dataframe",
              "variable_name": "breast_df"
            }
          },
          "metadata": {},
          "execution_count": 41
        }
      ],
      "source": [
        "breast_df = pd.DataFrame(\n",
        "    data=breast.data,\n",
        "    columns=breast.feature_names\n",
        ")\n",
        "breast_df['result'] = breast.target_names[breast.target]\n",
        "breast_df"
      ]
    },
    {
      "cell_type": "code",
      "execution_count": null,
      "id": "3duJ9WR2LgjQ",
      "metadata": {
        "colab": {
          "base_uri": "https://localhost:8080/",
          "height": 694
        },
        "id": "3duJ9WR2LgjQ",
        "outputId": "8f414b31-d4d4-4870-c506-d4c4286c957f"
      },
      "outputs": [
        {
          "output_type": "execute_result",
          "data": {
            "text/plain": [
              "result                             benign   malignant\n",
              "mean radius             count  357.000000  212.000000\n",
              "                        mean    12.146524   17.462830\n",
              "                        std      1.780512    3.203971\n",
              "                        min      6.981000   10.950000\n",
              "                        25%     11.080000   15.075000\n",
              "...                                   ...         ...\n",
              "worst fractal dimension min      0.055210    0.055040\n",
              "                        25%      0.070090    0.076302\n",
              "                        50%      0.077120    0.087600\n",
              "                        75%      0.085410    0.102625\n",
              "                        max      0.148600    0.207500\n",
              "\n",
              "[240 rows x 2 columns]"
            ],
            "text/html": [
              "\n",
              "  <div id=\"df-58da124c-eff9-43d8-8cf0-ac14b3ab478b\" class=\"colab-df-container\">\n",
              "    <div>\n",
              "<style scoped>\n",
              "    .dataframe tbody tr th:only-of-type {\n",
              "        vertical-align: middle;\n",
              "    }\n",
              "\n",
              "    .dataframe tbody tr th {\n",
              "        vertical-align: top;\n",
              "    }\n",
              "\n",
              "    .dataframe thead th {\n",
              "        text-align: right;\n",
              "    }\n",
              "</style>\n",
              "<table border=\"1\" class=\"dataframe\">\n",
              "  <thead>\n",
              "    <tr style=\"text-align: right;\">\n",
              "      <th></th>\n",
              "      <th>result</th>\n",
              "      <th>benign</th>\n",
              "      <th>malignant</th>\n",
              "    </tr>\n",
              "  </thead>\n",
              "  <tbody>\n",
              "    <tr>\n",
              "      <th rowspan=\"5\" valign=\"top\">mean radius</th>\n",
              "      <th>count</th>\n",
              "      <td>357.000000</td>\n",
              "      <td>212.000000</td>\n",
              "    </tr>\n",
              "    <tr>\n",
              "      <th>mean</th>\n",
              "      <td>12.146524</td>\n",
              "      <td>17.462830</td>\n",
              "    </tr>\n",
              "    <tr>\n",
              "      <th>std</th>\n",
              "      <td>1.780512</td>\n",
              "      <td>3.203971</td>\n",
              "    </tr>\n",
              "    <tr>\n",
              "      <th>min</th>\n",
              "      <td>6.981000</td>\n",
              "      <td>10.950000</td>\n",
              "    </tr>\n",
              "    <tr>\n",
              "      <th>25%</th>\n",
              "      <td>11.080000</td>\n",
              "      <td>15.075000</td>\n",
              "    </tr>\n",
              "    <tr>\n",
              "      <th>...</th>\n",
              "      <th>...</th>\n",
              "      <td>...</td>\n",
              "      <td>...</td>\n",
              "    </tr>\n",
              "    <tr>\n",
              "      <th rowspan=\"5\" valign=\"top\">worst fractal dimension</th>\n",
              "      <th>min</th>\n",
              "      <td>0.055210</td>\n",
              "      <td>0.055040</td>\n",
              "    </tr>\n",
              "    <tr>\n",
              "      <th>25%</th>\n",
              "      <td>0.070090</td>\n",
              "      <td>0.076302</td>\n",
              "    </tr>\n",
              "    <tr>\n",
              "      <th>50%</th>\n",
              "      <td>0.077120</td>\n",
              "      <td>0.087600</td>\n",
              "    </tr>\n",
              "    <tr>\n",
              "      <th>75%</th>\n",
              "      <td>0.085410</td>\n",
              "      <td>0.102625</td>\n",
              "    </tr>\n",
              "    <tr>\n",
              "      <th>max</th>\n",
              "      <td>0.148600</td>\n",
              "      <td>0.207500</td>\n",
              "    </tr>\n",
              "  </tbody>\n",
              "</table>\n",
              "<p>240 rows × 2 columns</p>\n",
              "</div>\n",
              "    <div class=\"colab-df-buttons\">\n",
              "\n",
              "  <div class=\"colab-df-container\">\n",
              "    <button class=\"colab-df-convert\" onclick=\"convertToInteractive('df-58da124c-eff9-43d8-8cf0-ac14b3ab478b')\"\n",
              "            title=\"Convert this dataframe to an interactive table.\"\n",
              "            style=\"display:none;\">\n",
              "\n",
              "  <svg xmlns=\"http://www.w3.org/2000/svg\" height=\"24px\" viewBox=\"0 -960 960 960\">\n",
              "    <path d=\"M120-120v-720h720v720H120Zm60-500h600v-160H180v160Zm220 220h160v-160H400v160Zm0 220h160v-160H400v160ZM180-400h160v-160H180v160Zm440 0h160v-160H620v160ZM180-180h160v-160H180v160Zm440 0h160v-160H620v160Z\"/>\n",
              "  </svg>\n",
              "    </button>\n",
              "\n",
              "  <style>\n",
              "    .colab-df-container {\n",
              "      display:flex;\n",
              "      gap: 12px;\n",
              "    }\n",
              "\n",
              "    .colab-df-convert {\n",
              "      background-color: #E8F0FE;\n",
              "      border: none;\n",
              "      border-radius: 50%;\n",
              "      cursor: pointer;\n",
              "      display: none;\n",
              "      fill: #1967D2;\n",
              "      height: 32px;\n",
              "      padding: 0 0 0 0;\n",
              "      width: 32px;\n",
              "    }\n",
              "\n",
              "    .colab-df-convert:hover {\n",
              "      background-color: #E2EBFA;\n",
              "      box-shadow: 0px 1px 2px rgba(60, 64, 67, 0.3), 0px 1px 3px 1px rgba(60, 64, 67, 0.15);\n",
              "      fill: #174EA6;\n",
              "    }\n",
              "\n",
              "    .colab-df-buttons div {\n",
              "      margin-bottom: 4px;\n",
              "    }\n",
              "\n",
              "    [theme=dark] .colab-df-convert {\n",
              "      background-color: #3B4455;\n",
              "      fill: #D2E3FC;\n",
              "    }\n",
              "\n",
              "    [theme=dark] .colab-df-convert:hover {\n",
              "      background-color: #434B5C;\n",
              "      box-shadow: 0px 1px 3px 1px rgba(0, 0, 0, 0.15);\n",
              "      filter: drop-shadow(0px 1px 2px rgba(0, 0, 0, 0.3));\n",
              "      fill: #FFFFFF;\n",
              "    }\n",
              "  </style>\n",
              "\n",
              "    <script>\n",
              "      const buttonEl =\n",
              "        document.querySelector('#df-58da124c-eff9-43d8-8cf0-ac14b3ab478b button.colab-df-convert');\n",
              "      buttonEl.style.display =\n",
              "        google.colab.kernel.accessAllowed ? 'block' : 'none';\n",
              "\n",
              "      async function convertToInteractive(key) {\n",
              "        const element = document.querySelector('#df-58da124c-eff9-43d8-8cf0-ac14b3ab478b');\n",
              "        const dataTable =\n",
              "          await google.colab.kernel.invokeFunction('convertToInteractive',\n",
              "                                                    [key], {});\n",
              "        if (!dataTable) return;\n",
              "\n",
              "        const docLinkHtml = 'Like what you see? Visit the ' +\n",
              "          '<a target=\"_blank\" href=https://colab.research.google.com/notebooks/data_table.ipynb>data table notebook</a>'\n",
              "          + ' to learn more about interactive tables.';\n",
              "        element.innerHTML = '';\n",
              "        dataTable['output_type'] = 'display_data';\n",
              "        await google.colab.output.renderOutput(dataTable, element);\n",
              "        const docLink = document.createElement('div');\n",
              "        docLink.innerHTML = docLinkHtml;\n",
              "        element.appendChild(docLink);\n",
              "      }\n",
              "    </script>\n",
              "  </div>\n",
              "\n",
              "\n",
              "<div id=\"df-74ee01ee-fe62-4c13-aba6-e3925dfa4f39\">\n",
              "  <button class=\"colab-df-quickchart\" onclick=\"quickchart('df-74ee01ee-fe62-4c13-aba6-e3925dfa4f39')\"\n",
              "            title=\"Suggest charts\"\n",
              "            style=\"display:none;\">\n",
              "\n",
              "<svg xmlns=\"http://www.w3.org/2000/svg\" height=\"24px\"viewBox=\"0 0 24 24\"\n",
              "     width=\"24px\">\n",
              "    <g>\n",
              "        <path d=\"M19 3H5c-1.1 0-2 .9-2 2v14c0 1.1.9 2 2 2h14c1.1 0 2-.9 2-2V5c0-1.1-.9-2-2-2zM9 17H7v-7h2v7zm4 0h-2V7h2v10zm4 0h-2v-4h2v4z\"/>\n",
              "    </g>\n",
              "</svg>\n",
              "  </button>\n",
              "\n",
              "<style>\n",
              "  .colab-df-quickchart {\n",
              "      --bg-color: #E8F0FE;\n",
              "      --fill-color: #1967D2;\n",
              "      --hover-bg-color: #E2EBFA;\n",
              "      --hover-fill-color: #174EA6;\n",
              "      --disabled-fill-color: #AAA;\n",
              "      --disabled-bg-color: #DDD;\n",
              "  }\n",
              "\n",
              "  [theme=dark] .colab-df-quickchart {\n",
              "      --bg-color: #3B4455;\n",
              "      --fill-color: #D2E3FC;\n",
              "      --hover-bg-color: #434B5C;\n",
              "      --hover-fill-color: #FFFFFF;\n",
              "      --disabled-bg-color: #3B4455;\n",
              "      --disabled-fill-color: #666;\n",
              "  }\n",
              "\n",
              "  .colab-df-quickchart {\n",
              "    background-color: var(--bg-color);\n",
              "    border: none;\n",
              "    border-radius: 50%;\n",
              "    cursor: pointer;\n",
              "    display: none;\n",
              "    fill: var(--fill-color);\n",
              "    height: 32px;\n",
              "    padding: 0;\n",
              "    width: 32px;\n",
              "  }\n",
              "\n",
              "  .colab-df-quickchart:hover {\n",
              "    background-color: var(--hover-bg-color);\n",
              "    box-shadow: 0 1px 2px rgba(60, 64, 67, 0.3), 0 1px 3px 1px rgba(60, 64, 67, 0.15);\n",
              "    fill: var(--button-hover-fill-color);\n",
              "  }\n",
              "\n",
              "  .colab-df-quickchart-complete:disabled,\n",
              "  .colab-df-quickchart-complete:disabled:hover {\n",
              "    background-color: var(--disabled-bg-color);\n",
              "    fill: var(--disabled-fill-color);\n",
              "    box-shadow: none;\n",
              "  }\n",
              "\n",
              "  .colab-df-spinner {\n",
              "    border: 2px solid var(--fill-color);\n",
              "    border-color: transparent;\n",
              "    border-bottom-color: var(--fill-color);\n",
              "    animation:\n",
              "      spin 1s steps(1) infinite;\n",
              "  }\n",
              "\n",
              "  @keyframes spin {\n",
              "    0% {\n",
              "      border-color: transparent;\n",
              "      border-bottom-color: var(--fill-color);\n",
              "      border-left-color: var(--fill-color);\n",
              "    }\n",
              "    20% {\n",
              "      border-color: transparent;\n",
              "      border-left-color: var(--fill-color);\n",
              "      border-top-color: var(--fill-color);\n",
              "    }\n",
              "    30% {\n",
              "      border-color: transparent;\n",
              "      border-left-color: var(--fill-color);\n",
              "      border-top-color: var(--fill-color);\n",
              "      border-right-color: var(--fill-color);\n",
              "    }\n",
              "    40% {\n",
              "      border-color: transparent;\n",
              "      border-right-color: var(--fill-color);\n",
              "      border-top-color: var(--fill-color);\n",
              "    }\n",
              "    60% {\n",
              "      border-color: transparent;\n",
              "      border-right-color: var(--fill-color);\n",
              "    }\n",
              "    80% {\n",
              "      border-color: transparent;\n",
              "      border-right-color: var(--fill-color);\n",
              "      border-bottom-color: var(--fill-color);\n",
              "    }\n",
              "    90% {\n",
              "      border-color: transparent;\n",
              "      border-bottom-color: var(--fill-color);\n",
              "    }\n",
              "  }\n",
              "</style>\n",
              "\n",
              "  <script>\n",
              "    async function quickchart(key) {\n",
              "      const quickchartButtonEl =\n",
              "        document.querySelector('#' + key + ' button');\n",
              "      quickchartButtonEl.disabled = true;  // To prevent multiple clicks.\n",
              "      quickchartButtonEl.classList.add('colab-df-spinner');\n",
              "      try {\n",
              "        const charts = await google.colab.kernel.invokeFunction(\n",
              "            'suggestCharts', [key], {});\n",
              "      } catch (error) {\n",
              "        console.error('Error during call to suggestCharts:', error);\n",
              "      }\n",
              "      quickchartButtonEl.classList.remove('colab-df-spinner');\n",
              "      quickchartButtonEl.classList.add('colab-df-quickchart-complete');\n",
              "    }\n",
              "    (() => {\n",
              "      let quickchartButtonEl =\n",
              "        document.querySelector('#df-74ee01ee-fe62-4c13-aba6-e3925dfa4f39 button');\n",
              "      quickchartButtonEl.style.display =\n",
              "        google.colab.kernel.accessAllowed ? 'block' : 'none';\n",
              "    })();\n",
              "  </script>\n",
              "</div>\n",
              "    </div>\n",
              "  </div>\n"
            ],
            "application/vnd.google.colaboratory.intrinsic+json": {
              "type": "dataframe",
              "summary": "{\n  \"name\": \"breast_df\",\n  \"rows\": 240,\n  \"fields\": [\n    {\n      \"column\": \"benign\",\n      \"properties\": {\n        \"dtype\": \"number\",\n        \"std\": 171.88366621077014,\n        \"min\": 0.0,\n        \"max\": 1210.0,\n        \"num_unique_values\": 206,\n        \"samples\": [\n          78.075406162465,\n          3.995124593675911,\n          0.05521\n        ],\n        \"semantic_type\": \"\",\n        \"description\": \"\"\n      }\n    },\n    {\n      \"column\": \"malignant\",\n      \"properties\": {\n        \"dtype\": \"number\",\n        \"std\": 384.88603653725613,\n        \"min\": 0.001087,\n        \"max\": 4254.0,\n        \"num_unique_values\": 210,\n        \"samples\": [\n          0.012608235501058329,\n          0.130475,\n          3.568\n        ],\n        \"semantic_type\": \"\",\n        \"description\": \"\"\n      }\n    }\n  ]\n}"
            }
          },
          "metadata": {},
          "execution_count": 43
        }
      ],
      "source": [
        "breast_df.groupby('result').describe().T"
      ]
    },
    {
      "cell_type": "markdown",
      "id": "791b7edf",
      "metadata": {
        "id": "791b7edf"
      },
      "source": [
        "### Particionamento"
      ]
    },
    {
      "cell_type": "markdown",
      "id": "a5c06c3b",
      "metadata": {
        "id": "a5c06c3b"
      },
      "source": [
        "Desta vez nós teremos **três** conjuntos.\n",
        "\n",
        "- Um conjunto de **teste** contendo 20% dos exemplos da amostra original. O objetivo desse conjunto é permitir testar o modelo com o melhor conjunto de hiperparâmetros em exemplos que nunca fizeram parte do processo de treinamento\n",
        "- Um conjunto de **treino** contendo 60% dos exemplos da amostra original. O objetivo desse conjunto é treinar diversos modelos com hiperparâmetros diferentes\n",
        "- Um conjunto de **validaçao** contendo 20% dos exemplos da amostra original. O objetivo desse conjunto é validar os hiperparâmetros"
      ]
    },
    {
      "cell_type": "markdown",
      "id": "320e2d68",
      "metadata": {
        "id": "320e2d68"
      },
      "source": [
        "A primeira coisa a fazer é separar a amostra em dois:\n",
        "\n",
        "- Um subconjunto que conterá os exemplos de treino e também os de validação\n",
        "- Um subconjunto que conterá apenas os exemplos de teste"
      ]
    },
    {
      "cell_type": "markdown",
      "id": "529d9c83",
      "metadata": {
        "id": "529d9c83"
      },
      "source": [
        "> **Separe os exemplos de teste** dos exemplos de treino e de validação utilizando a função `train_test_split`. Especifique 20% (0.2) para o tamanho do conjunto de teste `test_size`. Não se esqueça de estratificar os exemplos pelas classes usando `statify`."
      ]
    },
    {
      "cell_type": "code",
      "execution_count": null,
      "id": "ad85e54b",
      "metadata": {
        "id": "ad85e54b"
      },
      "outputs": [],
      "source": [
        "from sklearn.model_selection import train_test_split"
      ]
    },
    {
      "cell_type": "code",
      "execution_count": null,
      "id": "cfd0ec53",
      "metadata": {
        "id": "cfd0ec53",
        "colab": {
          "base_uri": "https://localhost:8080/"
        },
        "outputId": "45e3d2af-16db-4da3-d506-bd473e6d8cff"
      },
      "outputs": [
        {
          "output_type": "stream",
          "name": "stdout",
          "text": [
            "Número de exemplos no conjunto X_trainval: 455\n",
            "Número de exemplos no conjunto X_test: 114\n",
            "Percentual de teste: 0.2\n"
          ]
        }
      ],
      "source": [
        "X_trainval, X_test, y_trainval, y_test = train_test_split(\n",
        "    breast.data,\n",
        "    breast.target,\n",
        "    test_size=0.2,\n",
        "    stratify=breast.target,\n",
        "    random_state=2024\n",
        ")\n",
        "\n",
        "print(f'Número de exemplos no conjunto X_trainval: {X_trainval.shape[0]}')\n",
        "print(f'Número de exemplos no conjunto X_test: {X_test.shape[0]}')\n",
        "print('Percentual de teste: {:.1f}'.format(X_test.shape[0] / (X_trainval.shape[0] + X_test.shape[0])))"
      ]
    },
    {
      "cell_type": "markdown",
      "id": "3d436531",
      "metadata": {
        "id": "3d436531"
      },
      "source": [
        "Se você fez corretamente, então os conjuntos deverão ter as seguintes estatísticas:"
      ]
    },
    {
      "cell_type": "markdown",
      "id": "c1fc480d",
      "metadata": {
        "id": "c1fc480d"
      },
      "source": [
        "> **Execute a célula** abaixo para fazer uma verificação *rápida* do particionamento. Se a célula imprimir que os conjuntos \"parecem corretos\", então provavelvemente deu tudo certo. Caso contrário volte e corrija."
      ]
    },
    {
      "cell_type": "code",
      "execution_count": null,
      "id": "4ed00d75",
      "metadata": {
        "id": "4ed00d75",
        "colab": {
          "base_uri": "https://localhost:8080/"
        },
        "outputId": "ecd5e68a-eca2-4a1f-f8a1-a13578ff3e95"
      },
      "outputs": [
        {
          "output_type": "stream",
          "name": "stdout",
          "text": [
            "À primeira vista os dados de `X_trainval' parecem corretos!\n",
            "À primeira vista os dados de `X_test' parecem corretos!\n"
          ]
        }
      ],
      "source": [
        "medias_teste = np.array([1.43478860e+01, 1.90907895e+01, 9.32684211e+01, 6.71608772e+02,\n",
        "       9.61278070e-02, 1.00932807e-01, 8.51113833e-02, 4.83902895e-02,\n",
        "       1.80421930e-01, 6.21734211e-02, 3.94149123e-01, 1.17173070e+00,\n",
        "       2.76943860e+00, 4.02096930e+01, 6.92734211e-03, 2.51628596e-02,\n",
        "       3.02007254e-02, 1.14363421e-02, 2.14125965e-02, 3.74634035e-03,\n",
        "       1.63641316e+01, 2.52379825e+01, 1.07485614e+02, 8.79569298e+02,\n",
        "       1.30909561e-01, 2.50814386e-01, 2.68269632e-01, 1.12337456e-01,\n",
        "       2.96877193e-01, 8.33307895e-02])\n",
        "\n",
        "medias_treino = np.array([1.40720220e+01, 1.93394725e+01, 9.16434725e+01, 6.50700000e+02,\n",
        "       9.64185275e-02, 1.05194901e-01, 8.97233253e-02, 4.90516505e-02,\n",
        "       1.81347253e-01, 6.29540000e-02, 4.07933846e-01, 1.22815890e+00,\n",
        "       2.89026747e+00, 4.03689956e+01, 7.06945055e-03, 2.55571319e-02,\n",
        "       3.23178943e-02, 1.18862835e-02, 2.03242462e-02, 3.80707143e-03,\n",
        "       1.62454022e+01, 2.57872747e+01, 1.07204989e+02, 8.80837143e+02,\n",
        "       1.32734154e-01, 2.55129604e-01, 2.73170349e-01, 1.15174662e-01,\n",
        "       2.88371429e-01, 8.40999121e-02])\n",
        "\n",
        "if X_trainval.shape != (455, 30):\n",
        "    print(\"O formato de `X_trainval' ficou incorreto.\")\n",
        "elif (y_trainval == 1).sum() != 285:\n",
        "    print(\"O número de exemplos da classe 1 no conjunto de treino em `X_trainval' está errado.\")\n",
        "    print(\"Você usou estratificação corretamente no particionamento?\")\n",
        "elif any(np.abs(X_trainval.mean(axis=0) - medias_treino) > 1e-5):\n",
        "    print(\"Os valores de `X_trainval' têm a média errada e parecem incorretos.\")\n",
        "    print(\"Você especificou a semente aleatória `2024' e manteve a estratificação?\")\n",
        "else:\n",
        "    print(\"À primeira vista os dados de `X_trainval' parecem corretos!\")\n",
        "\n",
        "if X_test.shape != (114, 30):\n",
        "    print(\"O formato de `X_test' ficou incorreto.\")\n",
        "elif (y_test == 1).sum() != 72:\n",
        "    print(\"O número de exemplos da classe 1 no conjunto de treino em `X_test' está errado.\")\n",
        "    print(\"Você usou estratificação corretamente no particionamento?\")\n",
        "elif any(np.abs(X_test.mean(axis=0) - medias_teste) > 1e-5):\n",
        "    print(\"Os valores de `X_test' têm a média errada e parecem incorretos.\")\n",
        "    print(\"Você especificou a semente aleatória `2024' e manteve a estratificação?\")\n",
        "else:\n",
        "    print(\"À primeira vista os dados de `X_test' parecem corretos!\")"
      ]
    },
    {
      "cell_type": "markdown",
      "id": "2fa57db6",
      "metadata": {
        "id": "2fa57db6"
      },
      "source": [
        "Agora vamos dividir o conjunto `X_trainval` em um conjunto de **treino** e um conjunto de **validação**."
      ]
    },
    {
      "cell_type": "markdown",
      "id": "d7e52489",
      "metadata": {
        "id": "d7e52489"
      },
      "source": [
        "> **Particione o conjunto** `X_trainval` em um conjunto de treino e um conjunto de validação usando os seguintes parâmetros:\n",
        ">\n",
        "> - Tamanho do conjunto de teste: 25% (0.25)\n",
        "> - Estratificação: de acordo com as classes em `y_trainval`\n",
        "> - Semente aleatória: `25`"
      ]
    },
    {
      "cell_type": "code",
      "execution_count": null,
      "id": "21b5470a",
      "metadata": {
        "id": "21b5470a"
      },
      "outputs": [],
      "source": [
        "X_train, X_val, y_train, y_val = train_test_split(\n",
        "    X_trainval,\n",
        "    y_trainval,\n",
        "    test_size=0.25,\n",
        "    stratify=y_trainval,\n",
        "    random_state=25\n",
        ")"
      ]
    },
    {
      "cell_type": "markdown",
      "id": "209737bd",
      "metadata": {
        "id": "209737bd"
      },
      "source": [
        "Verifique o particionamento. O conjunto de treino deverá ter 341 exemplos e o conjunto de validação deverá ter 114 exemplos. Além disso, deverá haver 214 exemplos da classe 1 no conjunto de treino e 71 no conjunto de validação."
      ]
    },
    {
      "cell_type": "code",
      "execution_count": null,
      "id": "fc1b724b",
      "metadata": {
        "id": "fc1b724b",
        "colab": {
          "base_uri": "https://localhost:8080/"
        },
        "outputId": "aa89a36b-a34c-42aa-9db2-23578d01b2c5"
      },
      "outputs": [
        {
          "output_type": "stream",
          "name": "stdout",
          "text": [
            "Número de exemplos no conjunto X_train: 341\n",
            "Número de exemplos no conjunto X_val: 114\n",
            "Número de exemplos da classe 1: 214 (traino) e 71 (validação)\n"
          ]
        }
      ],
      "source": [
        "print(f'Número de exemplos no conjunto X_train: {X_train.shape[0]}')\n",
        "print(f'Número de exemplos no conjunto X_val: {X_val.shape[0]}')\n",
        "print(f'Número de exemplos da classe 1: {np.count_nonzero(y_train == 1)} (traino) e {np.count_nonzero(y_val == 1)} (validação)')"
      ]
    },
    {
      "cell_type": "markdown",
      "id": "cc856777",
      "metadata": {
        "id": "cc856777"
      },
      "source": [
        "### Ajuste de hiperparâmetros da árvore de decisão"
      ]
    },
    {
      "cell_type": "markdown",
      "id": "987b109f",
      "metadata": {
        "id": "987b109f"
      },
      "source": [
        "O modelo de árvore de decisão possui alguns parâmetros. Neste exercício, vamos ajustar apenas o hiperparametro `max_depth`, que especifica a profundidade máxima da árvore."
      ]
    },
    {
      "cell_type": "markdown",
      "id": "91202130",
      "metadata": {
        "id": "91202130"
      },
      "source": [
        "O procedimento para ajustar os hiperparâmetros é relativamente simples. Primeiro, precisamos escolher um conjunto de valores a serem testados. Vamos testar árvores com alturas máximas entre 2 a 5. Além disso, o valor `None` será usado.\n",
        "\n",
        "- Quando `max_depth=None`, o algoritmo expande a árvore até que todas as folhas sejam puras ou até que cada folha contenha um número de exemplos menor do que o valor especificado no hiperparâmetro `min_samples_split`\n",
        "- Quando `max_depth` é um valor numérico, então a árvore é expandida até no máximo essa altura/profundidade"
      ]
    },
    {
      "cell_type": "markdown",
      "id": "5c017910",
      "metadata": {
        "id": "5c017910"
      },
      "source": [
        "Por exemplo, poderíamos gerar as seguintes árvores:"
      ]
    },
    {
      "cell_type": "code",
      "execution_count": null,
      "id": "d79310f2",
      "metadata": {
        "id": "d79310f2"
      },
      "outputs": [],
      "source": [
        "from sklearn.tree import DecisionTreeClassifier"
      ]
    },
    {
      "cell_type": "code",
      "execution_count": null,
      "id": "4ca71590",
      "metadata": {
        "id": "4ca71590"
      },
      "outputs": [],
      "source": [
        "arvore_com_altura_maxima_2 = DecisionTreeClassifier(max_depth=2)\n",
        "arvore_com_altura_maxima_3 = DecisionTreeClassifier(max_depth=3)\n",
        "arvore_com_altura_maxima_4 = DecisionTreeClassifier(max_depth=4)\n",
        "arvore_com_altura_maxima_5 = DecisionTreeClassifier(max_depth=5)\n",
        "arvore_com_altura_maxima_Indeterminada = DecisionTreeClassifier(max_depth=None)"
      ]
    },
    {
      "cell_type": "markdown",
      "id": "9fbec6cd",
      "metadata": {
        "id": "9fbec6cd"
      },
      "source": [
        "O passo seguinte seria treinar cada uma dessas árvores no conjunto de treinamento e depois testá-las no conjunto de validação. A que produzisse a melhor métrica de acurácia seria a que consideramos o melhor valor do hiperparâmetro."
      ]
    },
    {
      "cell_type": "markdown",
      "id": "b425de4f",
      "metadata": {
        "id": "b425de4f"
      },
      "source": [
        "Entretanto, esse procedimento é um tanto tosco e um pouco preguiçoso. Temos todos os recursos de uma linguagem de programação à disposição. Na verdade, o `sklearn` possui algumas funções que quase automatizam todo esse processo. Mas vamos começar com uma lista:"
      ]
    },
    {
      "cell_type": "code",
      "execution_count": null,
      "id": "647c1fca",
      "metadata": {
        "id": "647c1fca"
      },
      "outputs": [],
      "source": [
        "alturas = [2, 3, 4, 5, None]"
      ]
    },
    {
      "cell_type": "markdown",
      "id": "673ea19f",
      "metadata": {
        "id": "673ea19f"
      },
      "source": [
        "Agora podemos iterar essa lista treinando e testando diferentes árvores. Vamos guardar as acurácias em uma lista de acurácias."
      ]
    },
    {
      "cell_type": "markdown",
      "id": "ee4e8fe1",
      "metadata": {
        "id": "ee4e8fe1"
      },
      "source": [
        "> **Execute a célula** abaixo para treinar as árvores e validá-las no conjunto de validação."
      ]
    },
    {
      "cell_type": "code",
      "execution_count": null,
      "id": "6e4f9312",
      "metadata": {
        "id": "6e4f9312"
      },
      "outputs": [],
      "source": [
        "acc_train = []\n",
        "acc_val = []\n",
        "\n",
        "for h in alturas:\n",
        "    # Instancia um classificador com o hiperparâmetro desejado\n",
        "    clf = DecisionTreeClassifier(random_state=1234, max_depth=h)\n",
        "\n",
        "    # Treina no conjunto de treinamento\n",
        "    clf.fit(X_train, y_train)\n",
        "\n",
        "    # Testa no conjunto de treino\n",
        "    y_pred = clf.predict(X_train)\n",
        "    acc = accuracy_score(y_train, y_pred)\n",
        "    acc_train.append(acc)\n",
        "\n",
        "    # Testa no conjunto de validação\n",
        "    y_pred = clf.predict(X_val)\n",
        "    acc = accuracy_score(y_val, y_pred)\n",
        "    acc_val.append(acc)"
      ]
    },
    {
      "cell_type": "code",
      "source": [
        "print(acc_val)"
      ],
      "metadata": {
        "colab": {
          "base_uri": "https://localhost:8080/"
        },
        "id": "8jrhOw7PxlKW",
        "outputId": "0c714c95-b5b1-4553-c7da-5902a4c28118"
      },
      "id": "8jrhOw7PxlKW",
      "execution_count": null,
      "outputs": [
        {
          "output_type": "stream",
          "name": "stdout",
          "text": [
            "[0.9035087719298246, 0.9210526315789473, 0.9122807017543859, 0.8947368421052632, 0.8947368421052632]\n"
          ]
        }
      ]
    },
    {
      "cell_type": "markdown",
      "id": "af798aa8",
      "metadata": {
        "id": "af798aa8"
      },
      "source": [
        "Hmm... nada foi impresso e nada foi armazenado."
      ]
    },
    {
      "cell_type": "markdown",
      "id": "7399abc0",
      "metadata": {
        "id": "7399abc0"
      },
      "source": [
        "> **Modifique a célula acima** para guardar, na lista `acc_val`, os valores de acurácias obtidos pela árvore com as diferentes alturas máximas *no conjunto de validação*.\n",
        ">\n",
        "> *Dica*: o resultado deverá ser *aproximadamente*, 90%, 92%, 91%, 89% e 89%. Se você obtiver um valor diferente, o motivo mais provável é que você se esqueceu de especificar uma semente aleatória para o construtor da árvore (`random_state=1234`). O segundo motivo mais provável é que seu particionamento ficou diferente do gabarito."
      ]
    },
    {
      "cell_type": "markdown",
      "id": "53d35930",
      "metadata": {
        "id": "53d35930"
      },
      "source": [
        "Se você obteve o resultado esperado, então existem duas perguntas a se fazer agora:\n",
        "\n",
        "1. Está havendo *overfitting* ou *undefitting* com algum valor do hiperparâmetro?\n",
        "1. Qual seria o valor ideal de `max_depth`?\n",
        "\n",
        "Para responder ambas as perguntas, precisamos comparar a acurácia no conjunto de treino com a acurácia no conjunto de validação."
      ]
    },
    {
      "cell_type": "markdown",
      "id": "eb85e50f",
      "metadata": {
        "id": "eb85e50f"
      },
      "source": [
        "> **Modifique novamente a célula acima** para testar o modelo não apenas no conjunto de validação, mas também no conjunto de treino. Guarde os valores de acurácia na lista `acc_train`.\n",
        ">\n",
        "> *Dica*: o resultado deverá ser *aproximadamente* 97%, 98,5%, 99%, 100% e 100%."
      ]
    },
    {
      "cell_type": "code",
      "execution_count": null,
      "id": "56fc3dd7",
      "metadata": {
        "id": "56fc3dd7",
        "colab": {
          "base_uri": "https://localhost:8080/"
        },
        "outputId": "0bfa57b5-187a-4e5e-a93c-b9b0a9c21939"
      },
      "outputs": [
        {
          "output_type": "execute_result",
          "data": {
            "text/plain": [
              "[0.9736070381231672, 0.9853372434017595, 0.9941348973607038, 1.0, 1.0]"
            ]
          },
          "metadata": {},
          "execution_count": 98
        }
      ],
      "source": [
        "acc_train"
      ]
    },
    {
      "cell_type": "markdown",
      "id": "de1a27ba",
      "metadata": {
        "id": "de1a27ba"
      },
      "source": [
        "> **Execute a célula** abaixo para visualizar um gráfico dos hiperparâmetros da árvore."
      ]
    },
    {
      "cell_type": "code",
      "execution_count": null,
      "id": "4c6b3d33",
      "metadata": {
        "id": "4c6b3d33",
        "colab": {
          "base_uri": "https://localhost:8080/",
          "height": 573
        },
        "outputId": "07a06709-b51a-4ca4-d362-8342ffff2666"
      },
      "outputs": [
        {
          "output_type": "display_data",
          "data": {
            "text/plain": [
              "<Figure size 1000x600 with 1 Axes>"
            ],
            "image/png": "[encoded data removed]"
          },
          "metadata": {}
        }
      ],
      "source": [
        "import matplotlib.pyplot as plt\n",
        "\n",
        "# Converte os números em strings (necessário por causa do None)\n",
        "labels = [str(i) for i in alturas]\n",
        "\n",
        "# Define um tamanho para a figura\n",
        "plt.figure(figsize=(10,6));\n",
        "\n",
        "# Define um título para a figura\n",
        "plt.title('Curva de acurácia para diferentes valores de max_depth')\n",
        "\n",
        "# Plota a curva do  treino\n",
        "plt.plot(labels, acc_train);\n",
        "\n",
        "# Plota a curva da validação\n",
        "plt.plot(labels, acc_val);\n",
        "\n",
        "# Define rótulos para os eixos\n",
        "plt.xlabel('max_depth');\n",
        "plt.ylabel('Acurácia');\n",
        "\n",
        "# Especifica um intervalo de exibição do eixo Y. Isso é fundamental em\n",
        "# várias situações, especialmente nas seguintes\n",
        "#  1. Quando queremos mostrar vários resultados, é importante que todos os\n",
        "#     gráficos estejam na mesma escala para podermos fazer a comparação\n",
        "#     (não é o caso atual; aqui temos apenas um gráfico com duas curvas)\n",
        "#  2. Quando o intervalo padrão pode levar a conclusões incorretas. É o\n",
        "#     nosso caso. Todas as acurácias mostradas no gráfico abaixo são\n",
        "#     muito elevadas e a escala selecionada pelo PyPlot pode passar a\n",
        "#     impressão de que existe uma diferença muito mais significativa\n",
        "#     entre o treino e a validação.\n",
        "plt.ylim(.75, 1.01);"
      ]
    },
    {
      "cell_type": "markdown",
      "id": "9c61d41a",
      "metadata": {
        "id": "9c61d41a"
      },
      "source": [
        "## Parte 3: Sua Vez"
      ]
    },
    {
      "cell_type": "markdown",
      "id": "ae039312",
      "metadata": {
        "id": "ae039312"
      },
      "source": [
        "Agora é com você.\n",
        "\n",
        "Faça ajuste de hiperparâmetros e validação do k-NN com a base `breast`, carregada na Parte 2.\n",
        "\n",
        "O primeiro passo é importar a classe do `sklearn` que implementa o k-NN."
      ]
    },
    {
      "cell_type": "code",
      "execution_count": null,
      "id": "00f3f936",
      "metadata": {
        "id": "00f3f936"
      },
      "outputs": [],
      "source": [
        "from sklearn.neighbors import KNeighborsClassifier"
      ]
    },
    {
      "cell_type": "markdown",
      "id": "9c6fd05c",
      "metadata": {
        "id": "9c6fd05c"
      },
      "source": [
        "Faça o ajuste dos hiperparâmetros seguintes:\n",
        "\n",
        "- Ajuste o valor de `k`, isto é, o número de vizinhos;\n",
        "- Ajuste a métrica usada pelo k-NN (euclidiana, manhattan etc.)\n",
        "\n",
        "Use os conjuntos de treino e de validação especificados anteriormente."
      ]
    },
    {
      "cell_type": "code",
      "execution_count": null,
      "id": "c0b1c181",
      "metadata": {
        "id": "c0b1c181"
      },
      "outputs": [],
      "source": [
        "n_neighbors_values = [1, 2, 3, 5, 7, 11, 13, 17]\n",
        "metric_names = ['manhattan', 'euclidean'] # valor de p na métrica de minkowski"
      ]
    },
    {
      "cell_type": "code",
      "execution_count": null,
      "id": "4d78ca7d",
      "metadata": {
        "id": "4d78ca7d"
      },
      "outputs": [],
      "source": [
        "acc_train = []\n",
        "acc_val = []\n",
        "\n",
        "for k in n_neighbors_values:\n",
        "  # guarda informações numa lista em um dict\n",
        "  acc_train_row = [] # nome da lista é k<N> (onde N é o número de vizinhos)\n",
        "  acc_val_row = []\n",
        "\n",
        "  for metric in metric_names:\n",
        "    # instancia classificador\n",
        "    clf = KNeighborsClassifier(n_neighbors=k, metric=metric)\n",
        "\n",
        "    # Treina no conjunto de treinamento\n",
        "    clf.fit(X_train, y_train)\n",
        "\n",
        "    # Testa no conjunto de treino\n",
        "    y_pred = clf.predict(X_train)\n",
        "    acc = accuracy_score(y_train, y_pred)\n",
        "    acc_train_row.append(acc)\n",
        "\n",
        "    # Testa no conjunto de validação\n",
        "    y_pred = clf.predict(X_val)\n",
        "    acc = accuracy_score(y_val, y_pred)\n",
        "    acc_val_row.append(acc)\n",
        "\n",
        "  acc_train.append(acc_train_row)\n",
        "  acc_val.append(acc_val_row)"
      ]
    },
    {
      "cell_type": "code",
      "source": [
        "acc_train_df = pd.DataFrame(\n",
        "    data=acc_train,\n",
        "    index=n_neighbors_values,\n",
        "    columns=metric_names\n",
        ")\n",
        "\n",
        "acc_train_df"
      ],
      "metadata": {
        "colab": {
          "base_uri": "https://localhost:8080/",
          "height": 300
        },
        "id": "2xPtRVna6PKn",
        "outputId": "b342532c-698a-49e7-bcbf-853dfc8b8640"
      },
      "id": "2xPtRVna6PKn",
      "execution_count": null,
      "outputs": [
        {
          "output_type": "execute_result",
          "data": {
            "text/plain": [
              "    manhattan  euclidean\n",
              "1    1.000000   1.000000\n",
              "2    0.958944   0.956012\n",
              "3    0.956012   0.956012\n",
              "5    0.958944   0.947214\n",
              "7    0.956012   0.950147\n",
              "11   0.944282   0.944282\n",
              "13   0.944282   0.941349\n",
              "17   0.926686   0.923754"
            ],
            "text/html": [
              "\n",
              "  <div id=\"df-a8aad6fa-ac75-4f43-a272-85d724a4bdbc\" class=\"colab-df-container\">\n",
              "    <div>\n",
              "<style scoped>\n",
              "    .dataframe tbody tr th:only-of-type {\n",
              "        vertical-align: middle;\n",
              "    }\n",
              "\n",
              "    .dataframe tbody tr th {\n",
              "        vertical-align: top;\n",
              "    }\n",
              "\n",
              "    .dataframe thead th {\n",
              "        text-align: right;\n",
              "    }\n",
              "</style>\n",
              "<table border=\"1\" class=\"dataframe\">\n",
              "  <thead>\n",
              "    <tr style=\"text-align: right;\">\n",
              "      <th></th>\n",
              "      <th>manhattan</th>\n",
              "      <th>euclidean</th>\n",
              "    </tr>\n",
              "  </thead>\n",
              "  <tbody>\n",
              "    <tr>\n",
              "      <th>1</th>\n",
              "      <td>1.000000</td>\n",
              "      <td>1.000000</td>\n",
              "    </tr>\n",
              "    <tr>\n",
              "      <th>2</th>\n",
              "      <td>0.958944</td>\n",
              "      <td>0.956012</td>\n",
              "    </tr>\n",
              "    <tr>\n",
              "      <th>3</th>\n",
              "      <td>0.956012</td>\n",
              "      <td>0.956012</td>\n",
              "    </tr>\n",
              "    <tr>\n",
              "      <th>5</th>\n",
              "      <td>0.958944</td>\n",
              "      <td>0.947214</td>\n",
              "    </tr>\n",
              "    <tr>\n",
              "      <th>7</th>\n",
              "      <td>0.956012</td>\n",
              "      <td>0.950147</td>\n",
              "    </tr>\n",
              "    <tr>\n",
              "      <th>11</th>\n",
              "      <td>0.944282</td>\n",
              "      <td>0.944282</td>\n",
              "    </tr>\n",
              "    <tr>\n",
              "      <th>13</th>\n",
              "      <td>0.944282</td>\n",
              "      <td>0.941349</td>\n",
              "    </tr>\n",
              "    <tr>\n",
              "      <th>17</th>\n",
              "      <td>0.926686</td>\n",
              "      <td>0.923754</td>\n",
              "    </tr>\n",
              "  </tbody>\n",
              "</table>\n",
              "</div>\n",
              "    <div class=\"colab-df-buttons\">\n",
              "\n",
              "  <div class=\"colab-df-container\">\n",
              "    <button class=\"colab-df-convert\" onclick=\"convertToInteractive('df-a8aad6fa-ac75-4f43-a272-85d724a4bdbc')\"\n",
              "            title=\"Convert this dataframe to an interactive table.\"\n",
              "            style=\"display:none;\">\n",
              "\n",
              "  <svg xmlns=\"http://www.w3.org/2000/svg\" height=\"24px\" viewBox=\"0 -960 960 960\">\n",
              "    <path d=\"M120-120v-720h720v720H120Zm60-500h600v-160H180v160Zm220 220h160v-160H400v160Zm0 220h160v-160H400v160ZM180-400h160v-160H180v160Zm440 0h160v-160H620v160ZM180-180h160v-160H180v160Zm440 0h160v-160H620v160Z\"/>\n",
              "  </svg>\n",
              "    </button>\n",
              "\n",
              "  <style>\n",
              "    .colab-df-container {\n",
              "      display:flex;\n",
              "      gap: 12px;\n",
              "    }\n",
              "\n",
              "    .colab-df-convert {\n",
              "      background-color: #E8F0FE;\n",
              "      border: none;\n",
              "      border-radius: 50%;\n",
              "      cursor: pointer;\n",
              "      display: none;\n",
              "      fill: #1967D2;\n",
              "      height: 32px;\n",
              "      padding: 0 0 0 0;\n",
              "      width: 32px;\n",
              "    }\n",
              "\n",
              "    .colab-df-convert:hover {\n",
              "      background-color: #E2EBFA;\n",
              "      box-shadow: 0px 1px 2px rgba(60, 64, 67, 0.3), 0px 1px 3px 1px rgba(60, 64, 67, 0.15);\n",
              "      fill: #174EA6;\n",
              "    }\n",
              "\n",
              "    .colab-df-buttons div {\n",
              "      margin-bottom: 4px;\n",
              "    }\n",
              "\n",
              "    [theme=dark] .colab-df-convert {\n",
              "      background-color: #3B4455;\n",
              "      fill: #D2E3FC;\n",
              "    }\n",
              "\n",
              "    [theme=dark] .colab-df-convert:hover {\n",
              "      background-color: #434B5C;\n",
              "      box-shadow: 0px 1px 3px 1px rgba(0, 0, 0, 0.15);\n",
              "      filter: drop-shadow(0px 1px 2px rgba(0, 0, 0, 0.3));\n",
              "      fill: #FFFFFF;\n",
              "    }\n",
              "  </style>\n",
              "\n",
              "    <script>\n",
              "      const buttonEl =\n",
              "        document.querySelector('#df-a8aad6fa-ac75-4f43-a272-85d724a4bdbc button.colab-df-convert');\n",
              "      buttonEl.style.display =\n",
              "        google.colab.kernel.accessAllowed ? 'block' : 'none';\n",
              "\n",
              "      async function convertToInteractive(key) {\n",
              "        const element = document.querySelector('#df-a8aad6fa-ac75-4f43-a272-85d724a4bdbc');\n",
              "        const dataTable =\n",
              "          await google.colab.kernel.invokeFunction('convertToInteractive',\n",
              "                                                    [key], {});\n",
              "        if (!dataTable) return;\n",
              "\n",
              "        const docLinkHtml = 'Like what you see? Visit the ' +\n",
              "          '<a target=\"_blank\" href=https://colab.research.google.com/notebooks/data_table.ipynb>data table notebook</a>'\n",
              "          + ' to learn more about interactive tables.';\n",
              "        element.innerHTML = '';\n",
              "        dataTable['output_type'] = 'display_data';\n",
              "        await google.colab.output.renderOutput(dataTable, element);\n",
              "        const docLink = document.createElement('div');\n",
              "        docLink.innerHTML = docLinkHtml;\n",
              "        element.appendChild(docLink);\n",
              "      }\n",
              "    </script>\n",
              "  </div>\n",
              "\n",
              "\n",
              "<div id=\"df-f65bb3a1-bb24-416c-b9ba-e226e633d4cc\">\n",
              "  <button class=\"colab-df-quickchart\" onclick=\"quickchart('df-f65bb3a1-bb24-416c-b9ba-e226e633d4cc')\"\n",
              "            title=\"Suggest charts\"\n",
              "            style=\"display:none;\">\n",
              "\n",
              "<svg xmlns=\"http://www.w3.org/2000/svg\" height=\"24px\"viewBox=\"0 0 24 24\"\n",
              "     width=\"24px\">\n",
              "    <g>\n",
              "        <path d=\"M19 3H5c-1.1 0-2 .9-2 2v14c0 1.1.9 2 2 2h14c1.1 0 2-.9 2-2V5c0-1.1-.9-2-2-2zM9 17H7v-7h2v7zm4 0h-2V7h2v10zm4 0h-2v-4h2v4z\"/>\n",
              "    </g>\n",
              "</svg>\n",
              "  </button>\n",
              "\n",
              "<style>\n",
              "  .colab-df-quickchart {\n",
              "      --bg-color: #E8F0FE;\n",
              "      --fill-color: #1967D2;\n",
              "      --hover-bg-color: #E2EBFA;\n",
              "      --hover-fill-color: #174EA6;\n",
              "      --disabled-fill-color: #AAA;\n",
              "      --disabled-bg-color: #DDD;\n",
              "  }\n",
              "\n",
              "  [theme=dark] .colab-df-quickchart {\n",
              "      --bg-color: #3B4455;\n",
              "      --fill-color: #D2E3FC;\n",
              "      --hover-bg-color: #434B5C;\n",
              "      --hover-fill-color: #FFFFFF;\n",
              "      --disabled-bg-color: #3B4455;\n",
              "      --disabled-fill-color: #666;\n",
              "  }\n",
              "\n",
              "  .colab-df-quickchart {\n",
              "    background-color: var(--bg-color);\n",
              "    border: none;\n",
              "    border-radius: 50%;\n",
              "    cursor: pointer;\n",
              "    display: none;\n",
              "    fill: var(--fill-color);\n",
              "    height: 32px;\n",
              "    padding: 0;\n",
              "    width: 32px;\n",
              "  }\n",
              "\n",
              "  .colab-df-quickchart:hover {\n",
              "    background-color: var(--hover-bg-color);\n",
              "    box-shadow: 0 1px 2px rgba(60, 64, 67, 0.3), 0 1px 3px 1px rgba(60, 64, 67, 0.15);\n",
              "    fill: var(--button-hover-fill-color);\n",
              "  }\n",
              "\n",
              "  .colab-df-quickchart-complete:disabled,\n",
              "  .colab-df-quickchart-complete:disabled:hover {\n",
              "    background-color: var(--disabled-bg-color);\n",
              "    fill: var(--disabled-fill-color);\n",
              "    box-shadow: none;\n",
              "  }\n",
              "\n",
              "  .colab-df-spinner {\n",
              "    border: 2px solid var(--fill-color);\n",
              "    border-color: transparent;\n",
              "    border-bottom-color: var(--fill-color);\n",
              "    animation:\n",
              "      spin 1s steps(1) infinite;\n",
              "  }\n",
              "\n",
              "  @keyframes spin {\n",
              "    0% {\n",
              "      border-color: transparent;\n",
              "      border-bottom-color: var(--fill-color);\n",
              "      border-left-color: var(--fill-color);\n",
              "    }\n",
              "    20% {\n",
              "      border-color: transparent;\n",
              "      border-left-color: var(--fill-color);\n",
              "      border-top-color: var(--fill-color);\n",
              "    }\n",
              "    30% {\n",
              "      border-color: transparent;\n",
              "      border-left-color: var(--fill-color);\n",
              "      border-top-color: var(--fill-color);\n",
              "      border-right-color: var(--fill-color);\n",
              "    }\n",
              "    40% {\n",
              "      border-color: transparent;\n",
              "      border-right-color: var(--fill-color);\n",
              "      border-top-color: var(--fill-color);\n",
              "    }\n",
              "    60% {\n",
              "      border-color: transparent;\n",
              "      border-right-color: var(--fill-color);\n",
              "    }\n",
              "    80% {\n",
              "      border-color: transparent;\n",
              "      border-right-color: var(--fill-color);\n",
              "      border-bottom-color: var(--fill-color);\n",
              "    }\n",
              "    90% {\n",
              "      border-color: transparent;\n",
              "      border-bottom-color: var(--fill-color);\n",
              "    }\n",
              "  }\n",
              "</style>\n",
              "\n",
              "  <script>\n",
              "    async function quickchart(key) {\n",
              "      const quickchartButtonEl =\n",
              "        document.querySelector('#' + key + ' button');\n",
              "      quickchartButtonEl.disabled = true;  // To prevent multiple clicks.\n",
              "      quickchartButtonEl.classList.add('colab-df-spinner');\n",
              "      try {\n",
              "        const charts = await google.colab.kernel.invokeFunction(\n",
              "            'suggestCharts', [key], {});\n",
              "      } catch (error) {\n",
              "        console.error('Error during call to suggestCharts:', error);\n",
              "      }\n",
              "      quickchartButtonEl.classList.remove('colab-df-spinner');\n",
              "      quickchartButtonEl.classList.add('colab-df-quickchart-complete');\n",
              "    }\n",
              "    (() => {\n",
              "      let quickchartButtonEl =\n",
              "        document.querySelector('#df-f65bb3a1-bb24-416c-b9ba-e226e633d4cc button');\n",
              "      quickchartButtonEl.style.display =\n",
              "        google.colab.kernel.accessAllowed ? 'block' : 'none';\n",
              "    })();\n",
              "  </script>\n",
              "</div>\n",
              "    </div>\n",
              "  </div>\n"
            ],
            "application/vnd.google.colaboratory.intrinsic+json": {
              "type": "dataframe",
              "variable_name": "acc_train_df",
              "summary": "{\n  \"name\": \"acc_train_df\",\n  \"rows\": 8,\n  \"fields\": [\n    {\n      \"column\": \"manhattan\",\n      \"properties\": {\n        \"dtype\": \"number\",\n        \"std\": 0.020997529677340122,\n        \"min\": 0.9266862170087976,\n        \"max\": 1.0,\n        \"num_unique_values\": 5,\n        \"samples\": [\n          0.9589442815249267,\n          0.9266862170087976,\n          0.9560117302052786\n        ],\n        \"semantic_type\": \"\",\n        \"description\": \"\"\n      }\n    },\n    {\n      \"column\": \"euclidean\",\n      \"properties\": {\n        \"dtype\": \"number\",\n        \"std\": 0.02181888003351452,\n        \"min\": 0.9237536656891495,\n        \"max\": 1.0,\n        \"num_unique_values\": 7,\n        \"samples\": [\n          1.0,\n          0.9560117302052786,\n          0.9413489736070382\n        ],\n        \"semantic_type\": \"\",\n        \"description\": \"\"\n      }\n    }\n  ]\n}"
            }
          },
          "metadata": {},
          "execution_count": 155
        }
      ]
    },
    {
      "cell_type": "code",
      "execution_count": null,
      "id": "13f67417",
      "metadata": {
        "id": "13f67417",
        "colab": {
          "base_uri": "https://localhost:8080/",
          "height": 300
        },
        "outputId": "258515f3-577d-4083-d97c-41c72c9b7af0"
      },
      "outputs": [
        {
          "output_type": "execute_result",
          "data": {
            "text/plain": [
              "    manhattan  euclidean\n",
              "1    0.947368   0.929825\n",
              "2    0.929825   0.921053\n",
              "3    0.956140   0.947368\n",
              "5    0.947368   0.938596\n",
              "7    0.956140   0.921053\n",
              "11   0.938596   0.921053\n",
              "13   0.938596   0.929825\n",
              "17   0.929825   0.921053"
            ],
            "text/html": [
              "\n",
              "  <div id=\"df-89c23f06-eac3-46c1-a40b-b0e6d3311ba6\" class=\"colab-df-container\">\n",
              "    <div>\n",
              "<style scoped>\n",
              "    .dataframe tbody tr th:only-of-type {\n",
              "        vertical-align: middle;\n",
              "    }\n",
              "\n",
              "    .dataframe tbody tr th {\n",
              "        vertical-align: top;\n",
              "    }\n",
              "\n",
              "    .dataframe thead th {\n",
              "        text-align: right;\n",
              "    }\n",
              "</style>\n",
              "<table border=\"1\" class=\"dataframe\">\n",
              "  <thead>\n",
              "    <tr style=\"text-align: right;\">\n",
              "      <th></th>\n",
              "      <th>manhattan</th>\n",
              "      <th>euclidean</th>\n",
              "    </tr>\n",
              "  </thead>\n",
              "  <tbody>\n",
              "    <tr>\n",
              "      <th>1</th>\n",
              "      <td>0.947368</td>\n",
              "      <td>0.929825</td>\n",
              "    </tr>\n",
              "    <tr>\n",
              "      <th>2</th>\n",
              "      <td>0.929825</td>\n",
              "      <td>0.921053</td>\n",
              "    </tr>\n",
              "    <tr>\n",
              "      <th>3</th>\n",
              "      <td>0.956140</td>\n",
              "      <td>0.947368</td>\n",
              "    </tr>\n",
              "    <tr>\n",
              "      <th>5</th>\n",
              "      <td>0.947368</td>\n",
              "      <td>0.938596</td>\n",
              "    </tr>\n",
              "    <tr>\n",
              "      <th>7</th>\n",
              "      <td>0.956140</td>\n",
              "      <td>0.921053</td>\n",
              "    </tr>\n",
              "    <tr>\n",
              "      <th>11</th>\n",
              "      <td>0.938596</td>\n",
              "      <td>0.921053</td>\n",
              "    </tr>\n",
              "    <tr>\n",
              "      <th>13</th>\n",
              "      <td>0.938596</td>\n",
              "      <td>0.929825</td>\n",
              "    </tr>\n",
              "    <tr>\n",
              "      <th>17</th>\n",
              "      <td>0.929825</td>\n",
              "      <td>0.921053</td>\n",
              "    </tr>\n",
              "  </tbody>\n",
              "</table>\n",
              "</div>\n",
              "    <div class=\"colab-df-buttons\">\n",
              "\n",
              "  <div class=\"colab-df-container\">\n",
              "    <button class=\"colab-df-convert\" onclick=\"convertToInteractive('df-89c23f06-eac3-46c1-a40b-b0e6d3311ba6')\"\n",
              "            title=\"Convert this dataframe to an interactive table.\"\n",
              "            style=\"display:none;\">\n",
              "\n",
              "  <svg xmlns=\"http://www.w3.org/2000/svg\" height=\"24px\" viewBox=\"0 -960 960 960\">\n",
              "    <path d=\"M120-120v-720h720v720H120Zm60-500h600v-160H180v160Zm220 220h160v-160H400v160Zm0 220h160v-160H400v160ZM180-400h160v-160H180v160Zm440 0h160v-160H620v160ZM180-180h160v-160H180v160Zm440 0h160v-160H620v160Z\"/>\n",
              "  </svg>\n",
              "    </button>\n",
              "\n",
              "  <style>\n",
              "    .colab-df-container {\n",
              "      display:flex;\n",
              "      gap: 12px;\n",
              "    }\n",
              "\n",
              "    .colab-df-convert {\n",
              "      background-color: #E8F0FE;\n",
              "      border: none;\n",
              "      border-radius: 50%;\n",
              "      cursor: pointer;\n",
              "      display: none;\n",
              "      fill: #1967D2;\n",
              "      height: 32px;\n",
              "      padding: 0 0 0 0;\n",
              "      width: 32px;\n",
              "    }\n",
              "\n",
              "    .colab-df-convert:hover {\n",
              "      background-color: #E2EBFA;\n",
              "      box-shadow: 0px 1px 2px rgba(60, 64, 67, 0.3), 0px 1px 3px 1px rgba(60, 64, 67, 0.15);\n",
              "      fill: #174EA6;\n",
              "    }\n",
              "\n",
              "    .colab-df-buttons div {\n",
              "      margin-bottom: 4px;\n",
              "    }\n",
              "\n",
              "    [theme=dark] .colab-df-convert {\n",
              "      background-color: #3B4455;\n",
              "      fill: #D2E3FC;\n",
              "    }\n",
              "\n",
              "    [theme=dark] .colab-df-convert:hover {\n",
              "      background-color: #434B5C;\n",
              "      box-shadow: 0px 1px 3px 1px rgba(0, 0, 0, 0.15);\n",
              "      filter: drop-shadow(0px 1px 2px rgba(0, 0, 0, 0.3));\n",
              "      fill: #FFFFFF;\n",
              "    }\n",
              "  </style>\n",
              "\n",
              "    <script>\n",
              "      const buttonEl =\n",
              "        document.querySelector('#df-89c23f06-eac3-46c1-a40b-b0e6d3311ba6 button.colab-df-convert');\n",
              "      buttonEl.style.display =\n",
              "        google.colab.kernel.accessAllowed ? 'block' : 'none';\n",
              "\n",
              "      async function convertToInteractive(key) {\n",
              "        const element = document.querySelector('#df-89c23f06-eac3-46c1-a40b-b0e6d3311ba6');\n",
              "        const dataTable =\n",
              "          await google.colab.kernel.invokeFunction('convertToInteractive',\n",
              "                                                    [key], {});\n",
              "        if (!dataTable) return;\n",
              "\n",
              "        const docLinkHtml = 'Like what you see? Visit the ' +\n",
              "          '<a target=\"_blank\" href=https://colab.research.google.com/notebooks/data_table.ipynb>data table notebook</a>'\n",
              "          + ' to learn more about interactive tables.';\n",
              "        element.innerHTML = '';\n",
              "        dataTable['output_type'] = 'display_data';\n",
              "        await google.colab.output.renderOutput(dataTable, element);\n",
              "        const docLink = document.createElement('div');\n",
              "        docLink.innerHTML = docLinkHtml;\n",
              "        element.appendChild(docLink);\n",
              "      }\n",
              "    </script>\n",
              "  </div>\n",
              "\n",
              "\n",
              "<div id=\"df-7070683c-3b58-4778-8577-f654669dd6bd\">\n",
              "  <button class=\"colab-df-quickchart\" onclick=\"quickchart('df-7070683c-3b58-4778-8577-f654669dd6bd')\"\n",
              "            title=\"Suggest charts\"\n",
              "            style=\"display:none;\">\n",
              "\n",
              "<svg xmlns=\"http://www.w3.org/2000/svg\" height=\"24px\"viewBox=\"0 0 24 24\"\n",
              "     width=\"24px\">\n",
              "    <g>\n",
              "        <path d=\"M19 3H5c-1.1 0-2 .9-2 2v14c0 1.1.9 2 2 2h14c1.1 0 2-.9 2-2V5c0-1.1-.9-2-2-2zM9 17H7v-7h2v7zm4 0h-2V7h2v10zm4 0h-2v-4h2v4z\"/>\n",
              "    </g>\n",
              "</svg>\n",
              "  </button>\n",
              "\n",
              "<style>\n",
              "  .colab-df-quickchart {\n",
              "      --bg-color: #E8F0FE;\n",
              "      --fill-color: #1967D2;\n",
              "      --hover-bg-color: #E2EBFA;\n",
              "      --hover-fill-color: #174EA6;\n",
              "      --disabled-fill-color: #AAA;\n",
              "      --disabled-bg-color: #DDD;\n",
              "  }\n",
              "\n",
              "  [theme=dark] .colab-df-quickchart {\n",
              "      --bg-color: #3B4455;\n",
              "      --fill-color: #D2E3FC;\n",
              "      --hover-bg-color: #434B5C;\n",
              "      --hover-fill-color: #FFFFFF;\n",
              "      --disabled-bg-color: #3B4455;\n",
              "      --disabled-fill-color: #666;\n",
              "  }\n",
              "\n",
              "  .colab-df-quickchart {\n",
              "    background-color: var(--bg-color);\n",
              "    border: none;\n",
              "    border-radius: 50%;\n",
              "    cursor: pointer;\n",
              "    display: none;\n",
              "    fill: var(--fill-color);\n",
              "    height: 32px;\n",
              "    padding: 0;\n",
              "    width: 32px;\n",
              "  }\n",
              "\n",
              "  .colab-df-quickchart:hover {\n",
              "    background-color: var(--hover-bg-color);\n",
              "    box-shadow: 0 1px 2px rgba(60, 64, 67, 0.3), 0 1px 3px 1px rgba(60, 64, 67, 0.15);\n",
              "    fill: var(--button-hover-fill-color);\n",
              "  }\n",
              "\n",
              "  .colab-df-quickchart-complete:disabled,\n",
              "  .colab-df-quickchart-complete:disabled:hover {\n",
              "    background-color: var(--disabled-bg-color);\n",
              "    fill: var(--disabled-fill-color);\n",
              "    box-shadow: none;\n",
              "  }\n",
              "\n",
              "  .colab-df-spinner {\n",
              "    border: 2px solid var(--fill-color);\n",
              "    border-color: transparent;\n",
              "    border-bottom-color: var(--fill-color);\n",
              "    animation:\n",
              "      spin 1s steps(1) infinite;\n",
              "  }\n",
              "\n",
              "  @keyframes spin {\n",
              "    0% {\n",
              "      border-color: transparent;\n",
              "      border-bottom-color: var(--fill-color);\n",
              "      border-left-color: var(--fill-color);\n",
              "    }\n",
              "    20% {\n",
              "      border-color: transparent;\n",
              "      border-left-color: var(--fill-color);\n",
              "      border-top-color: var(--fill-color);\n",
              "    }\n",
              "    30% {\n",
              "      border-color: transparent;\n",
              "      border-left-color: var(--fill-color);\n",
              "      border-top-color: var(--fill-color);\n",
              "      border-right-color: var(--fill-color);\n",
              "    }\n",
              "    40% {\n",
              "      border-color: transparent;\n",
              "      border-right-color: var(--fill-color);\n",
              "      border-top-color: var(--fill-color);\n",
              "    }\n",
              "    60% {\n",
              "      border-color: transparent;\n",
              "      border-right-color: var(--fill-color);\n",
              "    }\n",
              "    80% {\n",
              "      border-color: transparent;\n",
              "      border-right-color: var(--fill-color);\n",
              "      border-bottom-color: var(--fill-color);\n",
              "    }\n",
              "    90% {\n",
              "      border-color: transparent;\n",
              "      border-bottom-color: var(--fill-color);\n",
              "    }\n",
              "  }\n",
              "</style>\n",
              "\n",
              "  <script>\n",
              "    async function quickchart(key) {\n",
              "      const quickchartButtonEl =\n",
              "        document.querySelector('#' + key + ' button');\n",
              "      quickchartButtonEl.disabled = true;  // To prevent multiple clicks.\n",
              "      quickchartButtonEl.classList.add('colab-df-spinner');\n",
              "      try {\n",
              "        const charts = await google.colab.kernel.invokeFunction(\n",
              "            'suggestCharts', [key], {});\n",
              "      } catch (error) {\n",
              "        console.error('Error during call to suggestCharts:', error);\n",
              "      }\n",
              "      quickchartButtonEl.classList.remove('colab-df-spinner');\n",
              "      quickchartButtonEl.classList.add('colab-df-quickchart-complete');\n",
              "    }\n",
              "    (() => {\n",
              "      let quickchartButtonEl =\n",
              "        document.querySelector('#df-7070683c-3b58-4778-8577-f654669dd6bd button');\n",
              "      quickchartButtonEl.style.display =\n",
              "        google.colab.kernel.accessAllowed ? 'block' : 'none';\n",
              "    })();\n",
              "  </script>\n",
              "</div>\n",
              "    </div>\n",
              "  </div>\n"
            ],
            "application/vnd.google.colaboratory.intrinsic+json": {
              "type": "dataframe",
              "variable_name": "acc_val_df",
              "summary": "{\n  \"name\": \"acc_val_df\",\n  \"rows\": 8,\n  \"fields\": [\n    {\n      \"column\": \"manhattan\",\n      \"properties\": {\n        \"dtype\": \"number\",\n        \"std\": 0.010484461485389398,\n        \"min\": 0.9298245614035088,\n        \"max\": 0.956140350877193,\n        \"num_unique_values\": 4,\n        \"samples\": [\n          0.9298245614035088,\n          0.9385964912280702,\n          0.9473684210526315\n        ],\n        \"semantic_type\": \"\",\n        \"description\": \"\"\n      }\n    },\n    {\n      \"column\": \"euclidean\",\n      \"properties\": {\n        \"dtype\": \"number\",\n        \"std\": 0.009877119530347398,\n        \"min\": 0.9210526315789473,\n        \"max\": 0.9473684210526315,\n        \"num_unique_values\": 4,\n        \"samples\": [\n          0.9210526315789473,\n          0.9385964912280702,\n          0.9298245614035088\n        ],\n        \"semantic_type\": \"\",\n        \"description\": \"\"\n      }\n    }\n  ]\n}"
            }
          },
          "metadata": {},
          "execution_count": 156
        }
      ],
      "source": [
        "acc_val_df = pd.DataFrame(\n",
        "    data=acc_val,\n",
        "    index=n_neighbors_values,\n",
        "    columns=metric_names\n",
        ")\n",
        "\n",
        "acc_val_df"
      ]
    },
    {
      "cell_type": "code",
      "source": [
        "plt.figure(figsize=(10,6))\n",
        "plt.title('Curva de acurácia para distância Manhattan')\n",
        "\n",
        "plt.plot(n_neighbors_values, acc_train_df.iloc[:, 0], label='Acurácia de Treinamento')\n",
        "plt.plot(n_neighbors_values, acc_val_df.iloc[:, 0], label='Acurácia de Validação')\n",
        "plt.xticks(n_neighbors_values)\n",
        "\n",
        "plt.xlabel('Número de vizinhos')\n",
        "plt.ylabel('Acurácia')\n",
        "\n",
        "plt.ylim(0.75, 1.01)\n",
        "\n",
        "plt.legend()\n",
        "plt.show()"
      ],
      "metadata": {
        "colab": {
          "base_uri": "https://localhost:8080/",
          "height": 573
        },
        "id": "LZ1mdIgw-kRX",
        "outputId": "15d29dec-cdf1-481c-a107-6eb518c0972a"
      },
      "id": "LZ1mdIgw-kRX",
      "execution_count": null,
      "outputs": [
        {
          "output_type": "display_data",
          "data": {
            "text/plain": [
              "<Figure size 1000x600 with 1 Axes>"
            ],
            "image/png": "[encoded data removed]"
          },
          "metadata": {}
        }
      ]
    },
    {
      "cell_type": "code",
      "source": [
        "plt.figure(figsize=(10,6))\n",
        "plt.title('Curva de acurácia para distância Euclidiana')\n",
        "\n",
        "plt.plot(n_neighbors_values, acc_train_df.iloc[:, 1], label='Acurácia de Treinamento')\n",
        "plt.plot(n_neighbors_values, acc_val_df.iloc[:, 1], label='Acurácia de Validação')\n",
        "plt.xticks(n_neighbors_values)\n",
        "\n",
        "plt.xlabel('Número de vizinhos')\n",
        "plt.ylabel('Acurácia')\n",
        "\n",
        "plt.ylim(0.75, 1.01)\n",
        "\n",
        "plt.legend()\n",
        "plt.show()"
      ],
      "metadata": {
        "colab": {
          "base_uri": "https://localhost:8080/",
          "height": 573
        },
        "id": "wMYMNt9AA46X",
        "outputId": "7371f68a-058f-4b82-a2d0-e5a7bfe7be5c"
      },
      "id": "wMYMNt9AA46X",
      "execution_count": null,
      "outputs": [
        {
          "output_type": "display_data",
          "data": {
            "text/plain": [
              "<Figure size 1000x600 with 1 Axes>"
            ],
            "image/png": "[encoded data removed]"
          },
          "metadata": {}
        }
      ]
    },
    {
      "cell_type": "markdown",
      "id": "1889be8f",
      "metadata": {
        "id": "1889be8f"
      },
      "source": [
        "## Parte 4: Teste Final"
      ]
    },
    {
      "cell_type": "markdown",
      "id": "da0bce12",
      "metadata": {
        "id": "da0bce12"
      },
      "source": [
        "Agora que você validou os dois modelos, árvore de decisão e k-NN, está na hora de fazer o teste final.\n",
        "\n",
        "Para o testa final, você deverá treinar o modelo **com o máximo de dados de treinamento possível**. Isso significa usar todos os exemplos que não estão no conjunto de teste, que foi mantido oculto até aqui.\n",
        "\n",
        "**Lembrando**, você tem quatro conjuntos:\n",
        "\n",
        "- O par `breast.data,breast.target` contém a totalidade da sua amostra;\n",
        "- O par `X_test,y_test` contém sua sub-amostra com os dados de teste;\n",
        "- O par `X_train,y_train` contém sua sub-amostra com os dados de treinamento (durante o processo de validação);\n",
        "- O par `X_val,y_val` contém sua sub-amostra com os dados de validação (durante o processo de validaçao).\n",
        "\n",
        "Agora você irá juntar os dados dos pares `X_train,y_train` e `X_val,y_val` para o teste final. Se você não mexeu nas variáveis anteriores, então esses dados já estão guardados no par `X_trainval,y_trainval`."
      ]
    },
    {
      "cell_type": "code",
      "execution_count": null,
      "id": "d02149bc",
      "metadata": {
        "id": "d02149bc"
      },
      "outputs": [],
      "source": [
        "X_train, y_train = X_trainval, y_trainval"
      ]
    },
    {
      "cell_type": "markdown",
      "id": "f7a5e88b",
      "metadata": {
        "id": "f7a5e88b"
      },
      "source": [
        "> **Treine os dois modelos** no conjunto final de treinamento, usando os hiperparâmetros que você selecionou nas partes anteriores."
      ]
    },
    {
      "cell_type": "code",
      "execution_count": null,
      "id": "0831b3fb",
      "metadata": {
        "id": "0831b3fb",
        "colab": {
          "base_uri": "https://localhost:8080/",
          "height": 75
        },
        "outputId": "4a7f2e97-4f6a-4d56-844f-6d84245be5da"
      },
      "outputs": [
        {
          "output_type": "execute_result",
          "data": {
            "text/plain": [
              "KNeighborsClassifier(metric='manhattan', n_neighbors=3)"
            ],
            "text/html": [
              "<style>#sk-container-id-1 {color: black;background-color: white;}#sk-container-id-1 pre{padding: 0;}#sk-container-id-1 div.sk-toggleable {background-color: white;}#sk-container-id-1 label.sk-toggleable__label {cursor: pointer;display: block;width: 100%;margin-bottom: 0;padding: 0.3em;box-sizing: border-box;text-align: center;}#sk-container-id-1 label.sk-toggleable__label-arrow:before {content: \"▸\";float: left;margin-right: 0.25em;color: #696969;}#sk-container-id-1 label.sk-toggleable__label-arrow:hover:before {color: black;}#sk-container-id-1 div.sk-estimator:hover label.sk-toggleable__label-arrow:before {color: black;}#sk-container-id-1 div.sk-toggleable__content {max-height: 0;max-width: 0;overflow: hidden;text-align: left;background-color: #f0f8ff;}#sk-container-id-1 div.sk-toggleable__content pre {margin: 0.2em;color: black;border-radius: 0.25em;background-color: #f0f8ff;}#sk-container-id-1 input.sk-toggleable__control:checked~div.sk-toggleable__content {max-height: 200px;max-width: 100%;overflow: auto;}#sk-container-id-1 input.sk-toggleable__control:checked~label.sk-toggleable__label-arrow:before {content: \"▾\";}#sk-container-id-1 div.sk-estimator input.sk-toggleable__control:checked~label.sk-toggleable__label {background-color: #d4ebff;}#sk-container-id-1 div.sk-label input.sk-toggleable__control:checked~label.sk-toggleable__label {background-color: #d4ebff;}#sk-container-id-1 input.sk-hidden--visually {border: 0;clip: rect(1px 1px 1px 1px);clip: rect(1px, 1px, 1px, 1px);height: 1px;margin: -1px;overflow: hidden;padding: 0;position: absolute;width: 1px;}#sk-container-id-1 div.sk-estimator {font-family: monospace;background-color: #f0f8ff;border: 1px dotted black;border-radius: 0.25em;box-sizing: border-box;margin-bottom: 0.5em;}#sk-container-id-1 div.sk-estimator:hover {background-color: #d4ebff;}#sk-container-id-1 div.sk-parallel-item::after {content: \"\";width: 100%;border-bottom: 1px solid gray;flex-grow: 1;}#sk-container-id-1 div.sk-label:hover label.sk-toggleable__label {background-color: #d4ebff;}#sk-container-id-1 div.sk-serial::before {content: \"\";position: absolute;border-left: 1px solid gray;box-sizing: border-box;top: 0;bottom: 0;left: 50%;z-index: 0;}#sk-container-id-1 div.sk-serial {display: flex;flex-direction: column;align-items: center;background-color: white;padding-right: 0.2em;padding-left: 0.2em;position: relative;}#sk-container-id-1 div.sk-item {position: relative;z-index: 1;}#sk-container-id-1 div.sk-parallel {display: flex;align-items: stretch;justify-content: center;background-color: white;position: relative;}#sk-container-id-1 div.sk-item::before, #sk-container-id-1 div.sk-parallel-item::before {content: \"\";position: absolute;border-left: 1px solid gray;box-sizing: border-box;top: 0;bottom: 0;left: 50%;z-index: -1;}#sk-container-id-1 div.sk-parallel-item {display: flex;flex-direction: column;z-index: 1;position: relative;background-color: white;}#sk-container-id-1 div.sk-parallel-item:first-child::after {align-self: flex-end;width: 50%;}#sk-container-id-1 div.sk-parallel-item:last-child::after {align-self: flex-start;width: 50%;}#sk-container-id-1 div.sk-parallel-item:only-child::after {width: 0;}#sk-container-id-1 div.sk-dashed-wrapped {border: 1px dashed gray;margin: 0 0.4em 0.5em 0.4em;box-sizing: border-box;padding-bottom: 0.4em;background-color: white;}#sk-container-id-1 div.sk-label label {font-family: monospace;font-weight: bold;display: inline-block;line-height: 1.2em;}#sk-container-id-1 div.sk-label-container {text-align: center;}#sk-container-id-1 div.sk-container {/* jupyter's `normalize.less` sets `[hidden] { display: none; }` but bootstrap.min.css set `[hidden] { display: none !important; }` so we also need the `!important` here to be able to override the default hidden behavior on the sphinx rendered scikit-learn.org. See: https://github.com/scikit-learn/scikit-learn/issues/21755 */display: inline-block !important;position: relative;}#sk-container-id-1 div.sk-text-repr-fallback {display: none;}</style><div id=\"sk-container-id-1\" class=\"sk-top-container\"><div class=\"sk-text-repr-fallback\"><pre>KNeighborsClassifier(metric=&#x27;manhattan&#x27;, n_neighbors=3)</pre><b>In a Jupyter environment, please rerun this cell to show the HTML representation or trust the notebook. <br />On GitHub, the HTML representation is unable to render, please try loading this page with nbviewer.org.</b></div><div class=\"sk-container\" hidden><div class=\"sk-item\"><div class=\"sk-estimator sk-toggleable\"><input class=\"sk-toggleable__control sk-hidden--visually\" id=\"sk-estimator-id-1\" type=\"checkbox\" checked><label for=\"sk-estimator-id-1\" class=\"sk-toggleable__label sk-toggleable__label-arrow\">KNeighborsClassifier</label><div class=\"sk-toggleable__content\"><pre>KNeighborsClassifier(metric=&#x27;manhattan&#x27;, n_neighbors=3)</pre></div></div></div></div></div>"
            ]
          },
          "metadata": {},
          "execution_count": 161
        }
      ],
      "source": [
        "decisionTree = DecisionTreeClassifier(random_state=1234, max_depth=3)\n",
        "decisionTree.fit(X_train, y_train)\n",
        "\n",
        "knn = KNeighborsClassifier(n_neighbors=3, metric='manhattan')\n",
        "knn.fit(X_train, y_train)"
      ]
    },
    {
      "cell_type": "markdown",
      "id": "dd25f5ca",
      "metadata": {
        "id": "dd25f5ca"
      },
      "source": [
        "> **Teste os dois modelos** no conjunto de teste."
      ]
    },
    {
      "cell_type": "code",
      "execution_count": null,
      "id": "453b3095",
      "metadata": {
        "id": "453b3095",
        "colab": {
          "base_uri": "https://localhost:8080/"
        },
        "outputId": "f1d4413a-f26f-4f09-ae05-a39159de5b6e"
      },
      "outputs": [
        {
          "output_type": "stream",
          "name": "stdout",
          "text": [
            "Acurácia da Árvore de Decisão: 90.35%\n"
          ]
        }
      ],
      "source": [
        "y_pred = decisionTree.predict(X_test)\n",
        "acc = accuracy_score(y_test, y_pred)\n",
        "\n",
        "print('Acurácia da Árvore de Decisão: {:.2f}%'.format(acc*100))"
      ]
    },
    {
      "cell_type": "code",
      "execution_count": null,
      "id": "505a4ec8",
      "metadata": {
        "id": "505a4ec8",
        "colab": {
          "base_uri": "https://localhost:8080/"
        },
        "outputId": "0e3d07f5-64ed-442b-81aa-170d72789aab"
      },
      "outputs": [
        {
          "output_type": "stream",
          "name": "stdout",
          "text": [
            "Acurácia do K-NN: 93.86%\n"
          ]
        }
      ],
      "source": [
        "y_pred = knn.predict(X_test)\n",
        "acc = accuracy_score(y_test, y_pred)\n",
        "\n",
        "print('Acurácia do K-NN: {:.2f}%'.format(acc*100))"
      ]
    },
    {
      "cell_type": "markdown",
      "id": "a05c5208",
      "metadata": {
        "id": "a05c5208"
      },
      "source": [
        "## Parte Final: Entrega"
      ]
    },
    {
      "cell_type": "markdown",
      "id": "b6b0a231",
      "metadata": {
        "id": "b6b0a231"
      },
      "source": [
        "Todo esse procedimento nos deu:\n",
        "\n",
        "- Os valores ideais dos hiperparâmetros na base `breast`;\n",
        "- O desempenho esperado do modelo final.\n",
        "\n",
        "O último passo é treinar o modelo para ser posto em produção.\n",
        "\n",
        "Nós não vamos colocar o modelo em produção, pois não temos um cliente de verdade ou uma publicação científifca a ser feita neste momento, mas vamos simular o processo inteiro.\n",
        "\n",
        "Para gerar o modelo final, nós usamos **o máximo possível de dados**. Ou seja, toda a amostra. Nenhum dos subconjuntos gerados anteriormente."
      ]
    },
    {
      "cell_type": "code",
      "source": [
        "X = breast.data\n",
        "y = breast.target"
      ],
      "metadata": {
        "id": "tsIIZPjDCku0"
      },
      "id": "tsIIZPjDCku0",
      "execution_count": null,
      "outputs": []
    },
    {
      "cell_type": "markdown",
      "id": "6169e6ab",
      "metadata": {
        "id": "6169e6ab"
      },
      "source": [
        "> **Treine o modelo final do k-NN** usando os hiperparâmetros escolhidos e a **totalidade** dos dados da base `breast`."
      ]
    },
    {
      "cell_type": "code",
      "execution_count": null,
      "id": "f747e77f",
      "metadata": {
        "id": "f747e77f",
        "colab": {
          "base_uri": "https://localhost:8080/",
          "height": 75
        },
        "outputId": "a6e801e6-0a91-450a-b709-19eb299c0217"
      },
      "outputs": [
        {
          "output_type": "execute_result",
          "data": {
            "text/plain": [
              "KNeighborsClassifier(metric='manhattan', n_neighbors=3)"
            ],
            "text/html": [
              "<style>#sk-container-id-3 {color: black;background-color: white;}#sk-container-id-3 pre{padding: 0;}#sk-container-id-3 div.sk-toggleable {background-color: white;}#sk-container-id-3 label.sk-toggleable__label {cursor: pointer;display: block;width: 100%;margin-bottom: 0;padding: 0.3em;box-sizing: border-box;text-align: center;}#sk-container-id-3 label.sk-toggleable__label-arrow:before {content: \"▸\";float: left;margin-right: 0.25em;color: #696969;}#sk-container-id-3 label.sk-toggleable__label-arrow:hover:before {color: black;}#sk-container-id-3 div.sk-estimator:hover label.sk-toggleable__label-arrow:before {color: black;}#sk-container-id-3 div.sk-toggleable__content {max-height: 0;max-width: 0;overflow: hidden;text-align: left;background-color: #f0f8ff;}#sk-container-id-3 div.sk-toggleable__content pre {margin: 0.2em;color: black;border-radius: 0.25em;background-color: #f0f8ff;}#sk-container-id-3 input.sk-toggleable__control:checked~div.sk-toggleable__content {max-height: 200px;max-width: 100%;overflow: auto;}#sk-container-id-3 input.sk-toggleable__control:checked~label.sk-toggleable__label-arrow:before {content: \"▾\";}#sk-container-id-3 div.sk-estimator input.sk-toggleable__control:checked~label.sk-toggleable__label {background-color: #d4ebff;}#sk-container-id-3 div.sk-label input.sk-toggleable__control:checked~label.sk-toggleable__label {background-color: #d4ebff;}#sk-container-id-3 input.sk-hidden--visually {border: 0;clip: rect(1px 1px 1px 1px);clip: rect(1px, 1px, 1px, 1px);height: 1px;margin: -1px;overflow: hidden;padding: 0;position: absolute;width: 1px;}#sk-container-id-3 div.sk-estimator {font-family: monospace;background-color: #f0f8ff;border: 1px dotted black;border-radius: 0.25em;box-sizing: border-box;margin-bottom: 0.5em;}#sk-container-id-3 div.sk-estimator:hover {background-color: #d4ebff;}#sk-container-id-3 div.sk-parallel-item::after {content: \"\";width: 100%;border-bottom: 1px solid gray;flex-grow: 1;}#sk-container-id-3 div.sk-label:hover label.sk-toggleable__label {background-color: #d4ebff;}#sk-container-id-3 div.sk-serial::before {content: \"\";position: absolute;border-left: 1px solid gray;box-sizing: border-box;top: 0;bottom: 0;left: 50%;z-index: 0;}#sk-container-id-3 div.sk-serial {display: flex;flex-direction: column;align-items: center;background-color: white;padding-right: 0.2em;padding-left: 0.2em;position: relative;}#sk-container-id-3 div.sk-item {position: relative;z-index: 1;}#sk-container-id-3 div.sk-parallel {display: flex;align-items: stretch;justify-content: center;background-color: white;position: relative;}#sk-container-id-3 div.sk-item::before, #sk-container-id-3 div.sk-parallel-item::before {content: \"\";position: absolute;border-left: 1px solid gray;box-sizing: border-box;top: 0;bottom: 0;left: 50%;z-index: -1;}#sk-container-id-3 div.sk-parallel-item {display: flex;flex-direction: column;z-index: 1;position: relative;background-color: white;}#sk-container-id-3 div.sk-parallel-item:first-child::after {align-self: flex-end;width: 50%;}#sk-container-id-3 div.sk-parallel-item:last-child::after {align-self: flex-start;width: 50%;}#sk-container-id-3 div.sk-parallel-item:only-child::after {width: 0;}#sk-container-id-3 div.sk-dashed-wrapped {border: 1px dashed gray;margin: 0 0.4em 0.5em 0.4em;box-sizing: border-box;padding-bottom: 0.4em;background-color: white;}#sk-container-id-3 div.sk-label label {font-family: monospace;font-weight: bold;display: inline-block;line-height: 1.2em;}#sk-container-id-3 div.sk-label-container {text-align: center;}#sk-container-id-3 div.sk-container {/* jupyter's `normalize.less` sets `[hidden] { display: none; }` but bootstrap.min.css set `[hidden] { display: none !important; }` so we also need the `!important` here to be able to override the default hidden behavior on the sphinx rendered scikit-learn.org. See: https://github.com/scikit-learn/scikit-learn/issues/21755 */display: inline-block !important;position: relative;}#sk-container-id-3 div.sk-text-repr-fallback {display: none;}</style><div id=\"sk-container-id-3\" class=\"sk-top-container\"><div class=\"sk-text-repr-fallback\"><pre>KNeighborsClassifier(metric=&#x27;manhattan&#x27;, n_neighbors=3)</pre><b>In a Jupyter environment, please rerun this cell to show the HTML representation or trust the notebook. <br />On GitHub, the HTML representation is unable to render, please try loading this page with nbviewer.org.</b></div><div class=\"sk-container\" hidden><div class=\"sk-item\"><div class=\"sk-estimator sk-toggleable\"><input class=\"sk-toggleable__control sk-hidden--visually\" id=\"sk-estimator-id-3\" type=\"checkbox\" checked><label for=\"sk-estimator-id-3\" class=\"sk-toggleable__label sk-toggleable__label-arrow\">KNeighborsClassifier</label><div class=\"sk-toggleable__content\"><pre>KNeighborsClassifier(metric=&#x27;manhattan&#x27;, n_neighbors=3)</pre></div></div></div></div></div>"
            ]
          },
          "metadata": {},
          "execution_count": 170
        }
      ],
      "source": [
        "knn = KNeighborsClassifier(n_neighbors=3, metric='manhattan')\n",
        "knn.fit(X, y)"
      ]
    },
    {
      "cell_type": "markdown",
      "id": "710f8078",
      "metadata": {
        "id": "710f8078"
      },
      "source": [
        "> **Treine o modelo final da árvore de decisão** usando os hiperparâmetros escolhidos e a **totalidade** dos dados da base `breast`."
      ]
    },
    {
      "cell_type": "code",
      "execution_count": null,
      "id": "736ba7b0",
      "metadata": {
        "id": "736ba7b0",
        "colab": {
          "base_uri": "https://localhost:8080/",
          "height": 75
        },
        "outputId": "58de8f05-5518-4e4b-cc32-16e7b1868dec"
      },
      "outputs": [
        {
          "output_type": "execute_result",
          "data": {
            "text/plain": [
              "DecisionTreeClassifier(max_depth=3, random_state=1234)"
            ],
            "text/html": [
              "<style>#sk-container-id-4 {color: black;background-color: white;}#sk-container-id-4 pre{padding: 0;}#sk-container-id-4 div.sk-toggleable {background-color: white;}#sk-container-id-4 label.sk-toggleable__label {cursor: pointer;display: block;width: 100%;margin-bottom: 0;padding: 0.3em;box-sizing: border-box;text-align: center;}#sk-container-id-4 label.sk-toggleable__label-arrow:before {content: \"▸\";float: left;margin-right: 0.25em;color: #696969;}#sk-container-id-4 label.sk-toggleable__label-arrow:hover:before {color: black;}#sk-container-id-4 div.sk-estimator:hover label.sk-toggleable__label-arrow:before {color: black;}#sk-container-id-4 div.sk-toggleable__content {max-height: 0;max-width: 0;overflow: hidden;text-align: left;background-color: #f0f8ff;}#sk-container-id-4 div.sk-toggleable__content pre {margin: 0.2em;color: black;border-radius: 0.25em;background-color: #f0f8ff;}#sk-container-id-4 input.sk-toggleable__control:checked~div.sk-toggleable__content {max-height: 200px;max-width: 100%;overflow: auto;}#sk-container-id-4 input.sk-toggleable__control:checked~label.sk-toggleable__label-arrow:before {content: \"▾\";}#sk-container-id-4 div.sk-estimator input.sk-toggleable__control:checked~label.sk-toggleable__label {background-color: #d4ebff;}#sk-container-id-4 div.sk-label input.sk-toggleable__control:checked~label.sk-toggleable__label {background-color: #d4ebff;}#sk-container-id-4 input.sk-hidden--visually {border: 0;clip: rect(1px 1px 1px 1px);clip: rect(1px, 1px, 1px, 1px);height: 1px;margin: -1px;overflow: hidden;padding: 0;position: absolute;width: 1px;}#sk-container-id-4 div.sk-estimator {font-family: monospace;background-color: #f0f8ff;border: 1px dotted black;border-radius: 0.25em;box-sizing: border-box;margin-bottom: 0.5em;}#sk-container-id-4 div.sk-estimator:hover {background-color: #d4ebff;}#sk-container-id-4 div.sk-parallel-item::after {content: \"\";width: 100%;border-bottom: 1px solid gray;flex-grow: 1;}#sk-container-id-4 div.sk-label:hover label.sk-toggleable__label {background-color: #d4ebff;}#sk-container-id-4 div.sk-serial::before {content: \"\";position: absolute;border-left: 1px solid gray;box-sizing: border-box;top: 0;bottom: 0;left: 50%;z-index: 0;}#sk-container-id-4 div.sk-serial {display: flex;flex-direction: column;align-items: center;background-color: white;padding-right: 0.2em;padding-left: 0.2em;position: relative;}#sk-container-id-4 div.sk-item {position: relative;z-index: 1;}#sk-container-id-4 div.sk-parallel {display: flex;align-items: stretch;justify-content: center;background-color: white;position: relative;}#sk-container-id-4 div.sk-item::before, #sk-container-id-4 div.sk-parallel-item::before {content: \"\";position: absolute;border-left: 1px solid gray;box-sizing: border-box;top: 0;bottom: 0;left: 50%;z-index: -1;}#sk-container-id-4 div.sk-parallel-item {display: flex;flex-direction: column;z-index: 1;position: relative;background-color: white;}#sk-container-id-4 div.sk-parallel-item:first-child::after {align-self: flex-end;width: 50%;}#sk-container-id-4 div.sk-parallel-item:last-child::after {align-self: flex-start;width: 50%;}#sk-container-id-4 div.sk-parallel-item:only-child::after {width: 0;}#sk-container-id-4 div.sk-dashed-wrapped {border: 1px dashed gray;margin: 0 0.4em 0.5em 0.4em;box-sizing: border-box;padding-bottom: 0.4em;background-color: white;}#sk-container-id-4 div.sk-label label {font-family: monospace;font-weight: bold;display: inline-block;line-height: 1.2em;}#sk-container-id-4 div.sk-label-container {text-align: center;}#sk-container-id-4 div.sk-container {/* jupyter's `normalize.less` sets `[hidden] { display: none; }` but bootstrap.min.css set `[hidden] { display: none !important; }` so we also need the `!important` here to be able to override the default hidden behavior on the sphinx rendered scikit-learn.org. See: https://github.com/scikit-learn/scikit-learn/issues/21755 */display: inline-block !important;position: relative;}#sk-container-id-4 div.sk-text-repr-fallback {display: none;}</style><div id=\"sk-container-id-4\" class=\"sk-top-container\"><div class=\"sk-text-repr-fallback\"><pre>DecisionTreeClassifier(max_depth=3, random_state=1234)</pre><b>In a Jupyter environment, please rerun this cell to show the HTML representation or trust the notebook. <br />On GitHub, the HTML representation is unable to render, please try loading this page with nbviewer.org.</b></div><div class=\"sk-container\" hidden><div class=\"sk-item\"><div class=\"sk-estimator sk-toggleable\"><input class=\"sk-toggleable__control sk-hidden--visually\" id=\"sk-estimator-id-4\" type=\"checkbox\" checked><label for=\"sk-estimator-id-4\" class=\"sk-toggleable__label sk-toggleable__label-arrow\">DecisionTreeClassifier</label><div class=\"sk-toggleable__content\"><pre>DecisionTreeClassifier(max_depth=3, random_state=1234)</pre></div></div></div></div></div>"
            ]
          },
          "metadata": {},
          "execution_count": 171
        }
      ],
      "source": [
        "decisionTree = DecisionTreeClassifier(random_state=1234, max_depth=3)\n",
        "decisionTree.fit(X, y)"
      ]
    },
    {
      "cell_type": "markdown",
      "id": "f5dd1a5b",
      "metadata": {
        "id": "f5dd1a5b"
      },
      "source": [
        "> **Bônus**: gere um arquivo que guarda os modelos treinados (persistência). O ideal é uma técnica de *marshalling*, mas você pode usar um `pickle`. A desvantagem do `pickle` é que essa técnica é insegura, pois ela salva qualquer código Python que poderá ser executado quando o `pickle` for carregado, mas é uma opção rápida."
      ]
    },
    {
      "cell_type": "code",
      "execution_count": null,
      "id": "f270dbd0",
      "metadata": {
        "id": "f270dbd0"
      },
      "outputs": [],
      "source": [
        "import pickle\n",
        "\n",
        "with open('decisionTree.pkl', 'wb') as f1:\n",
        "  pickle.dump(decisionTree, f1)\n",
        "\n",
        "with open('knn.pkl', 'wb') as f2:\n",
        "  pickle.dump(knn, f2)"
      ]
    }
  ],
  "metadata": {
    "colab": {
      "provenance": [],
      "include_colab_link": true
    },
    "kernelspec": {
      "display_name": "Python 3 (ipykernel)",
      "language": "python",
      "name": "python3"
    },
    "language_info": {
      "codemirror_mode": {
        "name": "ipython",
        "version": 3
      },
      "file_extension": ".py",
      "mimetype": "text/x-python",
      "name": "python",
      "nbconvert_exporter": "python",
      "pygments_lexer": "ipython3",
      "version": "3.10.12"
    }
  },
  "nbformat": 4,
  "nbformat_minor": 5
}